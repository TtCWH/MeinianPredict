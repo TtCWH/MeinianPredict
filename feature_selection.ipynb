{
 "cells": [
  {
   "cell_type": "markdown",
   "metadata": {},
   "source": [
    "# 特征选择"
   ]
  },
  {
   "cell_type": "code",
   "execution_count": 1,
   "metadata": {
    "collapsed": true
   },
   "outputs": [],
   "source": [
    "import pandas as pd\n",
    "import numpy as np\n",
    "import random as rnd\n",
    "\n",
    "import seaborn as sns\n",
    "import matplotlib.pyplot as plt\n",
    "%matplotlib inline"
   ]
  },
  {
   "cell_type": "code",
   "execution_count": 2,
   "metadata": {
    "collapsed": true
   },
   "outputs": [],
   "source": [
    "pd.set_option('display.max_columns', 500)"
   ]
  },
  {
   "cell_type": "markdown",
   "metadata": {},
   "source": [
    "### 导入数据"
   ]
  },
  {
   "cell_type": "code",
   "execution_count": 3,
   "metadata": {
    "collapsed": true
   },
   "outputs": [],
   "source": [
    "train_df = pd.read_csv('data_train.csv', low_memory=False, index_col=0)\n",
    "test_df = pd.read_csv('data_test.csv', low_memory=False, index_col=0)\n",
    "combine = [train_df, test_df]"
   ]
  },
  {
   "cell_type": "markdown",
   "metadata": {},
   "source": [
    "### 分析数据（描述）"
   ]
  },
  {
   "cell_type": "markdown",
   "metadata": {},
   "source": [
    "#### 一共有多少特征？"
   ]
  },
  {
   "cell_type": "code",
   "execution_count": 4,
   "metadata": {},
   "outputs": [
    {
     "name": "stdout",
     "output_type": "stream",
     "text": [
      "<class 'pandas.core.frame.DataFrame'>\n",
      "Int64Index: 38199 entries, 0 to 38198\n",
      "Columns: 262 entries, vid to A601\n",
      "dtypes: float64(18), object(244)\n",
      "memory usage: 76.6+ MB\n"
     ]
    }
   ],
   "source": [
    "train_df.info()"
   ]
  },
  {
   "cell_type": "code",
   "execution_count": 5,
   "metadata": {},
   "outputs": [
    {
     "name": "stdout",
     "output_type": "stream",
     "text": [
      "<class 'pandas.core.frame.DataFrame'>\n",
      "Int64Index: 9538 entries, 0 to 9537\n",
      "Columns: 262 entries, vid to A601\n",
      "dtypes: float64(43), object(219)\n",
      "memory usage: 19.1+ MB\n"
     ]
    }
   ],
   "source": [
    "test_df.info()"
   ]
  },
  {
   "cell_type": "markdown",
   "metadata": {},
   "source": [
    "训练集有13个数值特征而测试集有38个。  \n",
    "因为在数据导入的时候，每一列只要有非数值数据，就会被转化成 object 类型。  \n",
    "所以需要统计每一列 object 类型的数据的数值数据比例，大于某值（如0.8）则转化成数值，不能转化的变成 NaN。"
   ]
  },
  {
   "cell_type": "code",
   "execution_count": 6,
   "metadata": {},
   "outputs": [
    {
     "data": {
      "text/plain": [
       "113"
      ]
     },
     "execution_count": 6,
     "metadata": {},
     "output_type": "execute_result"
    }
   ],
   "source": [
    "numerical_feature = []\n",
    "train_data_counts = train_df.shape[0]\n",
    "for col in train_df.columns.values:\n",
    "    num_counts = train_df[col].astype(str).str.match(r'^(-?\\d+)(\\.\\d+)?$').sum()\n",
    "    na_counts = train_df[col].isna().sum()\n",
    "    if num_counts/(train_data_counts - na_counts) > 0.8:\n",
    "        numerical_feature.append(col)\n",
    "len(numerical_feature)"
   ]
  },
  {
   "cell_type": "markdown",
   "metadata": {},
   "source": [
    "一共有108个符合要求的特征（去掉前面5个输出值），把所有这些列进行转换，不成功的转换成NaN"
   ]
  },
  {
   "cell_type": "code",
   "execution_count": 7,
   "metadata": {},
   "outputs": [],
   "source": [
    "# to_numeric() = pd.to_numeric(downcast='float64', errors='coerce')\n",
    "train_df[numerical_feature[5:]] = train_df[numerical_feature[5:]].apply(\n",
    "    lambda x: pd.to_numeric(x, downcast='float', errors='coerce'))\n",
    "test_df[numerical_feature[5:]] = test_df[numerical_feature[5:]].apply(\n",
    "    lambda x: pd.to_numeric(x, downcast='float', errors='coerce'))"
   ]
  },
  {
   "cell_type": "code",
   "execution_count": 8,
   "metadata": {},
   "outputs": [
    {
     "name": "stdout",
     "output_type": "stream",
     "text": [
      "<class 'pandas.core.frame.DataFrame'>\n",
      "Int64Index: 38199 entries, 0 to 38198\n",
      "Columns: 262 entries, vid to A601\n",
      "dtypes: float32(108), float64(5), object(149)\n",
      "memory usage: 60.9+ MB\n"
     ]
    }
   ],
   "source": [
    "train_df.info()"
   ]
  },
  {
   "cell_type": "markdown",
   "metadata": {},
   "source": [
    "### *可参考的一些处理错误数据的方法"
   ]
  },
  {
   "cell_type": "code",
   "execution_count": 9,
   "metadata": {},
   "outputs": [],
   "source": [
    "# 可以对一些明显错误的数据进行修改，数据量很小，后来选择直接改成 NaN\n",
    "# train_df[train_df['100006'].str.contains(r'[0-9]')==False]['100006']\n",
    "# train_df[train_df['269004'].str.contains(r'[0-9]')==False]['269004']\n",
    "# train_df[train_df['269005'].str.contains(r'[0-9]')==False]['269005']"
   ]
  },
  {
   "cell_type": "code",
   "execution_count": 10,
   "metadata": {
    "collapsed": true
   },
   "outputs": [],
   "source": [
    "# **把所有为`---`的值改为NaN**\n",
    "\n",
    "# train_df.replace(to_replace=r'\\-+', value=np.nan, inplace=True, regex=True)\n",
    "\n",
    "# for col in test_df.describe().columns.values:\n",
    "#     if col not in train_df.describe().columns.values:\n",
    "#         train_df[col] = pd.to_numeric(train_df[col], downcast='float', errors='ignore')"
   ]
  },
  {
   "cell_type": "code",
   "execution_count": 11,
   "metadata": {},
   "outputs": [],
   "source": [
    "# 只是多了两列特征，因为不只是---的问题\n",
    "\n",
    "# train_df[train_df['269004'].str.match(r'^(-?\\d+\\.\\d+)?;(-?\\d+\\.\\d+)?')==True]['269004']"
   ]
  },
  {
   "cell_type": "code",
   "execution_count": 12,
   "metadata": {
    "collapsed": true
   },
   "outputs": [],
   "source": [
    "# **有很多特征值有重复，变成了数值；数值的格式**\n",
    "\n",
    "# train_df.replace(to_replace=r'^(-?\\d+\\.\\d+)?;(-?\\d+\\.\\d+)?', value=r'\\1', inplace=True, regex=True)\n",
    "\n",
    "# train_df.loc[23268]['269004']\n",
    "\n",
    "# for col in test_df.describe().columns.values:\n",
    "#     if col not in train_df.describe().columns.values:\n",
    "#         train_df[col] = pd.to_numeric(train_df[col], downcast='float', errors='ignore')"
   ]
  },
  {
   "cell_type": "code",
   "execution_count": 13,
   "metadata": {},
   "outputs": [],
   "source": [
    "# 还有几列有问题，print出来看看。\n",
    "\n",
    "# for col in test_df.describe().columns.values:\n",
    "#     if col not in train_df.describe().columns.values:\n",
    "#         print(col)\n",
    "\n",
    "# print(train_df['269012'].count(),\n",
    "# train_df['313'].count(),\n",
    "# train_df['32'].count(),\n",
    "# train_df['38'].count())"
   ]
  },
  {
   "cell_type": "code",
   "execution_count": 14,
   "metadata": {},
   "outputs": [],
   "source": [
    "# train_df[train_df['269012'].str.match(r'^(-?\\d+)(\\.\\d+)?')==False]['269012']\n",
    "\n",
    "# pd.to_numeric(train_df['269012'], downcast='float')"
   ]
  },
  {
   "cell_type": "code",
   "execution_count": 15,
   "metadata": {
    "collapsed": true
   },
   "outputs": [],
   "source": [
    "# 可以看到还有末尾多一个小数点的数据，把小数点去掉\n",
    "\n",
    "# train_df.replace(to_replace=r'^(-?\\d+\\.\\d+)?(-?\\d+)?.$', value=r'\\1', regex=True, inplace=True)"
   ]
  },
  {
   "cell_type": "code",
   "execution_count": 16,
   "metadata": {
    "collapsed": true
   },
   "outputs": [],
   "source": [
    "# 处理特例\n",
    "\n",
    "# train_df.loc[26333]['313'] \n",
    "\n",
    "# train_df.loc[26333,['313']] = 189"
   ]
  },
  {
   "cell_type": "code",
   "execution_count": 17,
   "metadata": {
    "collapsed": true
   },
   "outputs": [],
   "source": [
    "# for col in test_df.describe().columns.values:\n",
    "#     if col not in train_df.describe().columns.values:\n",
    "#         train_df[col] = pd.to_numeric(train_df[col], downcast='float', errors='ignore') #用apply更好"
   ]
  },
  {
   "cell_type": "markdown",
   "metadata": {},
   "source": [
    "## 用这些特征试试看看简单的算法"
   ]
  },
  {
   "cell_type": "code",
   "execution_count": 18,
   "metadata": {
    "collapsed": true
   },
   "outputs": [],
   "source": [
    "from sklearn.linear_model import LogisticRegression\n",
    "from sklearn.svm import SVC, LinearSVC\n",
    "from sklearn.ensemble import RandomForestRegressor\n",
    "from sklearn.tree import DecisionTreeRegressor"
   ]
  },
  {
   "cell_type": "code",
   "execution_count": 19,
   "metadata": {
    "collapsed": true
   },
   "outputs": [],
   "source": [
    "feature = train_df.describe().columns.values.tolist()[5:]"
   ]
  },
  {
   "cell_type": "code",
   "execution_count": 20,
   "metadata": {
    "collapsed": true
   },
   "outputs": [],
   "source": [
    "label = train_df.describe().columns.values.tolist()[0:5]"
   ]
  },
  {
   "cell_type": "code",
   "execution_count": 21,
   "metadata": {
    "collapsed": true
   },
   "outputs": [],
   "source": [
    "X_train = train_df.loc[:,feature].fillna(0)\n",
    "Y_train = train_df.loc[:,label].fillna(0)\n",
    "X_test = test_df.loc[:,feature].fillna(0)"
   ]
  },
  {
   "cell_type": "code",
   "execution_count": 22,
   "metadata": {},
   "outputs": [
    {
     "data": {
      "text/plain": [
       "((38199, 108), (38199, 5), (9538, 108))"
      ]
     },
     "execution_count": 22,
     "metadata": {},
     "output_type": "execute_result"
    }
   ],
   "source": [
    "X_train.shape, Y_train.shape, X_test.shape"
   ]
  },
  {
   "cell_type": "markdown",
   "metadata": {},
   "source": [
    "## 回归树"
   ]
  },
  {
   "cell_type": "code",
   "execution_count": 23,
   "metadata": {},
   "outputs": [
    {
     "data": {
      "text/plain": [
       "100.0"
      ]
     },
     "execution_count": 23,
     "metadata": {},
     "output_type": "execute_result"
    }
   ],
   "source": [
    "regr = DecisionTreeRegressor()\n",
    "regr.fit(X_train, Y_train)\n",
    "acc_decision_tree = round(regr.score(X_train, Y_train) * 100, 2)\n",
    "acc_decision_tree"
   ]
  },
  {
   "cell_type": "code",
   "execution_count": 25,
   "metadata": {},
   "outputs": [
    {
     "data": {
      "text/html": [
       "<div>\n",
       "<style scoped>\n",
       "    .dataframe tbody tr th:only-of-type {\n",
       "        vertical-align: middle;\n",
       "    }\n",
       "\n",
       "    .dataframe tbody tr th {\n",
       "        vertical-align: top;\n",
       "    }\n",
       "\n",
       "    .dataframe thead th {\n",
       "        text-align: right;\n",
       "    }\n",
       "</style>\n",
       "<table border=\"1\" class=\"dataframe\">\n",
       "  <thead>\n",
       "    <tr style=\"text-align: right;\">\n",
       "      <th></th>\n",
       "      <th>收缩压</th>\n",
       "      <th>舒张压</th>\n",
       "      <th>血清甘油三酯</th>\n",
       "      <th>血清高密度脂蛋白</th>\n",
       "      <th>血清低密度脂蛋白</th>\n",
       "    </tr>\n",
       "  </thead>\n",
       "  <tbody>\n",
       "    <tr>\n",
       "      <th>0</th>\n",
       "      <td>135.0</td>\n",
       "      <td>80.0</td>\n",
       "      <td>2.45</td>\n",
       "      <td>1.08</td>\n",
       "      <td>2.47</td>\n",
       "    </tr>\n",
       "    <tr>\n",
       "      <th>1</th>\n",
       "      <td>130.0</td>\n",
       "      <td>80.0</td>\n",
       "      <td>3.33</td>\n",
       "      <td>1.13</td>\n",
       "      <td>3.50</td>\n",
       "    </tr>\n",
       "    <tr>\n",
       "      <th>2</th>\n",
       "      <td>94.0</td>\n",
       "      <td>58.0</td>\n",
       "      <td>0.53</td>\n",
       "      <td>1.58</td>\n",
       "      <td>2.82</td>\n",
       "    </tr>\n",
       "    <tr>\n",
       "      <th>3</th>\n",
       "      <td>128.0</td>\n",
       "      <td>77.0</td>\n",
       "      <td>1.39</td>\n",
       "      <td>1.29</td>\n",
       "      <td>2.02</td>\n",
       "    </tr>\n",
       "    <tr>\n",
       "      <th>4</th>\n",
       "      <td>150.0</td>\n",
       "      <td>82.0</td>\n",
       "      <td>1.03</td>\n",
       "      <td>1.00</td>\n",
       "      <td>2.69</td>\n",
       "    </tr>\n",
       "  </tbody>\n",
       "</table>\n",
       "</div>"
      ],
      "text/plain": [
       "     收缩压   舒张压  血清甘油三酯  血清高密度脂蛋白  血清低密度脂蛋白\n",
       "0  135.0  80.0    2.45      1.08      2.47\n",
       "1  130.0  80.0    3.33      1.13      3.50\n",
       "2   94.0  58.0    0.53      1.58      2.82\n",
       "3  128.0  77.0    1.39      1.29      2.02\n",
       "4  150.0  82.0    1.03      1.00      2.69"
      ]
     },
     "execution_count": 25,
     "metadata": {},
     "output_type": "execute_result"
    }
   ],
   "source": [
    "Y_pred_regr = regr.predict(X_test)\n",
    "Y_pred_regr_df = pd.DataFrame(Y_pred_regr, columns=label)\n",
    "Y_pred_regr_df.head()"
   ]
  },
  {
   "cell_type": "code",
   "execution_count": 31,
   "metadata": {},
   "outputs": [],
   "source": [
    "Y_pred_regr_df['vid']=test_df['vid']\n",
    "Y_pred_regr_df = Y_pred_regr_df.loc[:, ['vid']+label]"
   ]
  },
  {
   "cell_type": "code",
   "execution_count": 32,
   "metadata": {
    "collapsed": true
   },
   "outputs": [],
   "source": [
    "Y_pred_regr_df.to_csv('regr_output.csv',index=False, header=False)"
   ]
  },
  {
   "cell_type": "markdown",
   "metadata": {},
   "source": [
    "## 随机森林"
   ]
  },
  {
   "cell_type": "code",
   "execution_count": 33,
   "metadata": {},
   "outputs": [
    {
     "data": {
      "text/plain": [
       "88.92"
      ]
     },
     "execution_count": 33,
     "metadata": {},
     "output_type": "execute_result"
    }
   ],
   "source": [
    "random_forest = RandomForestRegressor(n_estimators=100)\n",
    "random_forest.fit(X_train, Y_train)\n",
    "random_forest.score(X_train, Y_train)\n",
    "acc_random_forest = round(random_forest.score(X_train, Y_train) * 100, 2)\n",
    "acc_random_forest"
   ]
  },
  {
   "cell_type": "code",
   "execution_count": 45,
   "metadata": {},
   "outputs": [
    {
     "name": "stdout",
     "output_type": "stream",
     "text": [
      "0\n"
     ]
    },
    {
     "data": {
      "text/html": [
       "<div>\n",
       "<style scoped>\n",
       "    .dataframe tbody tr th:only-of-type {\n",
       "        vertical-align: middle;\n",
       "    }\n",
       "\n",
       "    .dataframe tbody tr th {\n",
       "        vertical-align: top;\n",
       "    }\n",
       "\n",
       "    .dataframe thead th {\n",
       "        text-align: right;\n",
       "    }\n",
       "</style>\n",
       "<table border=\"1\" class=\"dataframe\">\n",
       "  <thead>\n",
       "    <tr style=\"text-align: right;\">\n",
       "      <th></th>\n",
       "      <th>收缩压</th>\n",
       "      <th>舒张压</th>\n",
       "      <th>血清甘油三酯</th>\n",
       "      <th>血清高密度脂蛋白</th>\n",
       "      <th>血清低密度脂蛋白</th>\n",
       "    </tr>\n",
       "  </thead>\n",
       "  <tbody>\n",
       "    <tr>\n",
       "      <th>0</th>\n",
       "      <td>145.17</td>\n",
       "      <td>82.43</td>\n",
       "      <td>2.6651</td>\n",
       "      <td>1.4743</td>\n",
       "      <td>2.9846</td>\n",
       "    </tr>\n",
       "    <tr>\n",
       "      <th>1</th>\n",
       "      <td>134.90</td>\n",
       "      <td>82.97</td>\n",
       "      <td>2.4520</td>\n",
       "      <td>1.2814</td>\n",
       "      <td>2.8994</td>\n",
       "    </tr>\n",
       "    <tr>\n",
       "      <th>2</th>\n",
       "      <td>114.45</td>\n",
       "      <td>71.10</td>\n",
       "      <td>1.1621</td>\n",
       "      <td>1.4454</td>\n",
       "      <td>2.5157</td>\n",
       "    </tr>\n",
       "    <tr>\n",
       "      <th>3</th>\n",
       "      <td>126.79</td>\n",
       "      <td>77.18</td>\n",
       "      <td>1.8190</td>\n",
       "      <td>1.3123</td>\n",
       "      <td>3.1022</td>\n",
       "    </tr>\n",
       "    <tr>\n",
       "      <th>4</th>\n",
       "      <td>127.94</td>\n",
       "      <td>76.59</td>\n",
       "      <td>1.5678</td>\n",
       "      <td>1.2746</td>\n",
       "      <td>3.0717</td>\n",
       "    </tr>\n",
       "  </tbody>\n",
       "</table>\n",
       "</div>"
      ],
      "text/plain": [
       "      收缩压    舒张压  血清甘油三酯  血清高密度脂蛋白  血清低密度脂蛋白\n",
       "0  145.17  82.43  2.6651    1.4743    2.9846\n",
       "1  134.90  82.97  2.4520    1.2814    2.8994\n",
       "2  114.45  71.10  1.1621    1.4454    2.5157\n",
       "3  126.79  77.18  1.8190    1.3123    3.1022\n",
       "4  127.94  76.59  1.5678    1.2746    3.0717"
      ]
     },
     "execution_count": 45,
     "metadata": {},
     "output_type": "execute_result"
    }
   ],
   "source": [
    "Y_pred_rf = random_forest.predict(X_test)\n",
    "print((Y_pred_rf<0).sum())\n",
    "Y_pred_rf_df = pd.DataFrame(Y_pred_rf, columns=label)\n",
    "Y_pred_rf_df.head()"
   ]
  },
  {
   "cell_type": "code",
   "execution_count": 46,
   "metadata": {
    "collapsed": true
   },
   "outputs": [],
   "source": [
    "Y_pred_rf_df['vid']=test_df['vid']\n",
    "Y_pred_rf_df = Y_pred_rf_df.loc[:, ['vid']+label]"
   ]
  },
  {
   "cell_type": "code",
   "execution_count": 47,
   "metadata": {
    "collapsed": true
   },
   "outputs": [],
   "source": [
    "Y_pred_rf_df.to_csv('rf_output.csv',index=False, header=False)"
   ]
  }
 ],
 "metadata": {
  "kernelspec": {
   "display_name": "Python 3",
   "language": "python",
   "name": "python3"
  },
  "language_info": {
   "codemirror_mode": {
    "name": "ipython",
    "version": 3
   },
   "file_extension": ".py",
   "mimetype": "text/x-python",
   "name": "python",
   "nbconvert_exporter": "python",
   "pygments_lexer": "ipython3",
   "version": "3.6.5"
  }
 },
 "nbformat": 4,
 "nbformat_minor": 2
}
