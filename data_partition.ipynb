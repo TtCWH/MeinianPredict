{
 "cells": [
  {
   "cell_type": "markdown",
   "metadata": {},
   "source": [
    "# 数据分区"
   ]
  },
  {
   "cell_type": "code",
   "execution_count": 2,
   "metadata": {
    "collapsed": true
   },
   "outputs": [],
   "source": [
    "import pandas as pd\n",
    "import numpy as np\n",
    "import random as rnd"
   ]
  },
  {
   "cell_type": "code",
   "execution_count": 3,
   "metadata": {
    "collapsed": true
   },
   "outputs": [],
   "source": [
    "data = pd.read_csv('data_keep_50000.csv', low_memory=False)"
   ]
  },
  {
   "cell_type": "code",
   "execution_count": 4,
   "metadata": {},
   "outputs": [
    {
     "data": {
      "text/plain": [
       "(57298, 257)"
      ]
     },
     "execution_count": 4,
     "metadata": {},
     "output_type": "execute_result"
    }
   ],
   "source": [
    "data.shape"
   ]
  },
  {
   "cell_type": "markdown",
   "metadata": {},
   "source": [
    "一共256个特征，其中有11个是数值，245个是混合类型，需要处理。"
   ]
  },
  {
   "cell_type": "code",
   "execution_count": 5,
   "metadata": {},
   "outputs": [
    {
     "name": "stdout",
     "output_type": "stream",
     "text": [
      "<class 'pandas.core.frame.DataFrame'>\n",
      "RangeIndex: 57298 entries, 0 to 57297\n",
      "Data columns (total 257 columns):\n",
      "vid       57298 non-null object\n",
      "0101      48809 non-null object\n",
      "0102      56462 non-null object\n",
      "0113      55968 non-null object\n",
      "0114      55956 non-null object\n",
      "0115      50944 non-null object\n",
      "0116      55844 non-null object\n",
      "0117      54895 non-null object\n",
      "0118      54893 non-null object\n",
      "0119      31291 non-null object\n",
      "0120      28277 non-null object\n",
      "0121      19532 non-null object\n",
      "0122      19532 non-null object\n",
      "0123      19531 non-null object\n",
      "0124      21101 non-null object\n",
      "0201      32415 non-null object\n",
      "0202      32852 non-null object\n",
      "0203      32814 non-null object\n",
      "0206      28247 non-null object\n",
      "0207      31434 non-null object\n",
      "0208      31732 non-null object\n",
      "0209      30122 non-null object\n",
      "0210      31178 non-null object\n",
      "0212      31080 non-null object\n",
      "0215      30178 non-null object\n",
      "0216      30703 non-null object\n",
      "0217      32845 non-null object\n",
      "0222      32882 non-null object\n",
      "0225      11313 non-null object\n",
      "0403      20795 non-null object\n",
      "0405      36972 non-null object\n",
      "0406      37912 non-null object\n",
      "0407      41285 non-null object\n",
      "0409      48083 non-null object\n",
      "0413      43616 non-null object\n",
      "0414      8097 non-null object\n",
      "0420      45848 non-null object\n",
      "0421      47590 non-null object\n",
      "0422      14074 non-null object\n",
      "0423      40502 non-null object\n",
      "0424      46210 non-null object\n",
      "0425      26899 non-null object\n",
      "0426      47809 non-null object\n",
      "0427      13398 non-null object\n",
      "0428      8643 non-null object\n",
      "0429      20692 non-null object\n",
      "0430      45777 non-null object\n",
      "0431      45400 non-null object\n",
      "0432      38817 non-null object\n",
      "0433      38648 non-null object\n",
      "0434      47276 non-null object\n",
      "0435      40027 non-null object\n",
      "0436      10087 non-null object\n",
      "0440      11233 non-null object\n",
      "0501      18566 non-null object\n",
      "0503      18568 non-null object\n",
      "0509      18554 non-null object\n",
      "0516      18219 non-null object\n",
      "0537      18115 non-null object\n",
      "0539      18570 non-null object\n",
      "0541      18115 non-null object\n",
      "0702      22501 non-null object\n",
      "0703      22498 non-null object\n",
      "0705      22440 non-null object\n",
      "0706      22495 non-null object\n",
      "0707      22563 non-null object\n",
      "0709      22693 non-null object\n",
      "0715      21299 non-null object\n",
      "0726      20909 non-null object\n",
      "0728      19235 non-null object\n",
      "0730      21285 non-null object\n",
      "0731      21998 non-null object\n",
      "0901      40106 non-null object\n",
      "0911      42606 non-null object\n",
      "0912      42219 non-null object\n",
      "0929      39121 non-null object\n",
      "0947      42593 non-null object\n",
      "0949      42549 non-null object\n",
      "0954      42626 non-null object\n",
      "0972      21355 non-null object\n",
      "0973      29944 non-null object\n",
      "0974      37614 non-null object\n",
      "0975      37534 non-null object\n",
      "0976      37320 non-null object\n",
      "0977      23625 non-null object\n",
      "0978      35603 non-null object\n",
      "0979      34251 non-null object\n",
      "0980      32532 non-null object\n",
      "0981      10947 non-null object\n",
      "0982      10852 non-null object\n",
      "0983      11161 non-null object\n",
      "0984      10770 non-null object\n",
      "0985      37673 non-null object\n",
      "0987      8172 non-null object\n",
      "100005    19422 non-null float64\n",
      "100006    26239 non-null object\n",
      "100007    22608 non-null float64\n",
      "100010    40666 non-null object\n",
      "100014    7389 non-null object\n",
      "10002     30215 non-null object\n",
      "10003     27626 non-null object\n",
      "10004     52054 non-null object\n",
      "1001      55601 non-null object\n",
      "1102      26761 non-null object\n",
      "1103      25556 non-null object\n",
      "1104      3137 non-null object\n",
      "1106      8570 non-null object\n",
      "1107      8360 non-null object\n",
      "1115      34446 non-null object\n",
      "1117      39123 non-null object\n",
      "1127      12284 non-null object\n",
      "1301      36879 non-null object\n",
      "1302      36610 non-null object\n",
      "1303      33871 non-null object\n",
      "1304      34422 non-null object\n",
      "1305      31300 non-null object\n",
      "1308      39879 non-null object\n",
      "1313      28027 non-null object\n",
      "1314      28428 non-null object\n",
      "1315      29699 non-null object\n",
      "1316      22327 non-null object\n",
      "1321      26738 non-null object\n",
      "1322      26736 non-null object\n",
      "1325      11204 non-null object\n",
      "1326      11201 non-null object\n",
      "1328      25164 non-null object\n",
      "1329      17005 non-null object\n",
      "1330      8718 non-null object\n",
      "1345      13836 non-null object\n",
      "139       8534 non-null object\n",
      "1402      11572 non-null object\n",
      "143       8086 non-null object\n",
      "1474      7649 non-null object\n",
      "155       13220 non-null object\n",
      "1814      57001 non-null object\n",
      "1815      54248 non-null object\n",
      "183       31049 non-null object\n",
      "1840      54973 non-null object\n",
      "1845      25735 non-null object\n",
      "1850      52639 non-null object\n",
      "190       56170 non-null object\n",
      "191       55617 non-null object\n",
      "192       44686 non-null object\n",
      "193       38713 non-null object\n",
      "2174      30333 non-null object\n",
      "2228      16801 non-null object\n",
      "2229      16055 non-null object\n",
      "2230      15906 non-null object\n",
      "2231      15906 non-null object\n",
      "2233      15873 non-null object\n",
      "2302      56225 non-null object\n",
      "2333      26229 non-null object\n",
      "2372      25972 non-null object\n",
      "2403      55254 non-null object\n",
      "2404      55253 non-null object\n",
      "2405      54911 non-null object\n",
      "2406      19866 non-null object\n",
      "2420      14742 non-null object\n",
      "2501      15802 non-null object\n",
      "269003    12279 non-null object\n",
      "269004    12491 non-null object\n",
      "269005    12049 non-null object\n",
      "269006    12279 non-null object\n",
      "269007    10872 non-null object\n",
      "269008    12279 non-null object\n",
      "269009    12279 non-null object\n",
      "269010    12279 non-null object\n",
      "269011    11938 non-null object\n",
      "269012    12279 non-null object\n",
      "269013    12323 non-null object\n",
      "269014    12273 non-null object\n",
      "269015    12485 non-null object\n",
      "269016    12273 non-null object\n",
      "269017    12279 non-null object\n",
      "269018    12491 non-null object\n",
      "269019    12279 non-null object\n",
      "269020    12491 non-null object\n",
      "269021    12490 non-null object\n",
      "269022    12490 non-null object\n",
      "269023    12490 non-null object\n",
      "269024    12490 non-null object\n",
      "269025    12422 non-null object\n",
      "300005    51272 non-null object\n",
      "300017    7587 non-null object\n",
      "300018    8413 non-null object\n",
      "300019    8694 non-null object\n",
      "300021    8718 non-null object\n",
      "300036    17100 non-null object\n",
      "30007     15888 non-null object\n",
      "31        26600 non-null object\n",
      "312       26393 non-null object\n",
      "313       26229 non-null object\n",
      "314       33333 non-null object\n",
      "315       26600 non-null float64\n",
      "316       26600 non-null float64\n",
      "317       26229 non-null float64\n",
      "3189      14915 non-null object\n",
      "319       26600 non-null float64\n",
      "3190      54803 non-null object\n",
      "3191      54978 non-null object\n",
      "3192      54978 non-null object\n",
      "3193      54936 non-null object\n",
      "3194      12568 non-null object\n",
      "3195      54978 non-null object\n",
      "3196      54871 non-null object\n",
      "3197      54978 non-null object\n",
      "32        26355 non-null object\n",
      "320       25456 non-null object\n",
      "3207      37075 non-null object\n",
      "33        26143 non-null float64\n",
      "3301      13184 non-null object\n",
      "3399      34912 non-null object\n",
      "34        21004 non-null float64\n",
      "3400      34213 non-null object\n",
      "3429      50295 non-null object\n",
      "3430      54978 non-null object\n",
      "3485      15670 non-null object\n",
      "3486      16165 non-null object\n",
      "360       11848 non-null object\n",
      "3601      22152 non-null object\n",
      "37        26600 non-null float64\n",
      "3730      50210 non-null object\n",
      "38        26600 non-null object\n",
      "39        21216 non-null float64\n",
      "4001      12577 non-null object\n",
      "669001    7905 non-null object\n",
      "669002    8021 non-null object\n",
      "669006    7702 non-null object\n",
      "809001    8523 non-null object\n",
      "809009    7333 non-null float64\n",
      "979001    10277 non-null object\n",
      "979002    10070 non-null object\n",
      "979003    10328 non-null object\n",
      "979004    10328 non-null object\n",
      "979005    9423 non-null object\n",
      "979006    9931 non-null object\n",
      "979007    10328 non-null object\n",
      "979008    10328 non-null object\n",
      "979009    10328 non-null object\n",
      "979011    10328 non-null object\n",
      "979012    10381 non-null object\n",
      "979013    10168 non-null object\n",
      "979014    10168 non-null object\n",
      "979015    10328 non-null object\n",
      "979016    10329 non-null object\n",
      "979017    10328 non-null object\n",
      "979018    10166 non-null object\n",
      "979019    10166 non-null object\n",
      "979020    10328 non-null object\n",
      "979021    10329 non-null object\n",
      "979022    10328 non-null object\n",
      "979023    10328 non-null object\n",
      "A201      33937 non-null object\n",
      "A202      34112 non-null object\n",
      "A301      7501 non-null object\n",
      "A302      7529 non-null object\n",
      "A601      13801 non-null object\n",
      "dtypes: float64(11), object(246)\n",
      "memory usage: 112.3+ MB\n"
     ]
    }
   ],
   "source": [
    "data.info(verbose=True, null_counts=True)"
   ]
  },
  {
   "cell_type": "markdown",
   "metadata": {},
   "source": [
    "### 数值数据的分布"
   ]
  },
  {
   "cell_type": "code",
   "execution_count": 6,
   "metadata": {},
   "outputs": [
    {
     "data": {
      "text/html": [
       "<div>\n",
       "<style scoped>\n",
       "    .dataframe tbody tr th:only-of-type {\n",
       "        vertical-align: middle;\n",
       "    }\n",
       "\n",
       "    .dataframe tbody tr th {\n",
       "        vertical-align: top;\n",
       "    }\n",
       "\n",
       "    .dataframe thead th {\n",
       "        text-align: right;\n",
       "    }\n",
       "</style>\n",
       "<table border=\"1\" class=\"dataframe\">\n",
       "  <thead>\n",
       "    <tr style=\"text-align: right;\">\n",
       "      <th></th>\n",
       "      <th>100005</th>\n",
       "      <th>100007</th>\n",
       "      <th>315</th>\n",
       "      <th>316</th>\n",
       "      <th>317</th>\n",
       "      <th>319</th>\n",
       "      <th>33</th>\n",
       "      <th>34</th>\n",
       "      <th>37</th>\n",
       "      <th>39</th>\n",
       "      <th>809009</th>\n",
       "    </tr>\n",
       "  </thead>\n",
       "  <tbody>\n",
       "    <tr>\n",
       "      <th>count</th>\n",
       "      <td>19422.000000</td>\n",
       "      <td>22608.000000</td>\n",
       "      <td>26600.000000</td>\n",
       "      <td>26600.000000</td>\n",
       "      <td>26229.000000</td>\n",
       "      <td>26600.000000</td>\n",
       "      <td>26143.000000</td>\n",
       "      <td>21004.000000</td>\n",
       "      <td>26600.000000</td>\n",
       "      <td>21216.000000</td>\n",
       "      <td>7333.000000</td>\n",
       "    </tr>\n",
       "    <tr>\n",
       "      <th>mean</th>\n",
       "      <td>18.967235</td>\n",
       "      <td>0.671348</td>\n",
       "      <td>90.613117</td>\n",
       "      <td>30.289935</td>\n",
       "      <td>334.470525</td>\n",
       "      <td>214.974899</td>\n",
       "      <td>2.076035</td>\n",
       "      <td>0.427824</td>\n",
       "      <td>57.626687</td>\n",
       "      <td>7.709535</td>\n",
       "      <td>1.618898</td>\n",
       "    </tr>\n",
       "    <tr>\n",
       "      <th>std</th>\n",
       "      <td>12.079368</td>\n",
       "      <td>4.093520</td>\n",
       "      <td>6.045505</td>\n",
       "      <td>2.474706</td>\n",
       "      <td>15.035377</td>\n",
       "      <td>55.625658</td>\n",
       "      <td>0.733745</td>\n",
       "      <td>0.209185</td>\n",
       "      <td>13.444135</td>\n",
       "      <td>6.317230</td>\n",
       "      <td>0.795881</td>\n",
       "    </tr>\n",
       "    <tr>\n",
       "      <th>min</th>\n",
       "      <td>0.000000</td>\n",
       "      <td>0.000000</td>\n",
       "      <td>53.200000</td>\n",
       "      <td>10.300000</td>\n",
       "      <td>116.000000</td>\n",
       "      <td>28.000000</td>\n",
       "      <td>0.200000</td>\n",
       "      <td>0.060000</td>\n",
       "      <td>0.310000</td>\n",
       "      <td>0.010000</td>\n",
       "      <td>0.370000</td>\n",
       "    </tr>\n",
       "    <tr>\n",
       "      <th>25%</th>\n",
       "      <td>12.100000</td>\n",
       "      <td>0.159000</td>\n",
       "      <td>87.800000</td>\n",
       "      <td>29.300000</td>\n",
       "      <td>325.000000</td>\n",
       "      <td>178.000000</td>\n",
       "      <td>1.600000</td>\n",
       "      <td>0.300000</td>\n",
       "      <td>53.400000</td>\n",
       "      <td>4.800000</td>\n",
       "      <td>1.400000</td>\n",
       "    </tr>\n",
       "    <tr>\n",
       "      <th>50%</th>\n",
       "      <td>13.000000</td>\n",
       "      <td>0.201000</td>\n",
       "      <td>91.000000</td>\n",
       "      <td>30.500000</td>\n",
       "      <td>334.000000</td>\n",
       "      <td>212.000000</td>\n",
       "      <td>2.000000</td>\n",
       "      <td>0.400000</td>\n",
       "      <td>59.300000</td>\n",
       "      <td>6.700000</td>\n",
       "      <td>1.480000</td>\n",
       "    </tr>\n",
       "    <tr>\n",
       "      <th>75%</th>\n",
       "      <td>15.000000</td>\n",
       "      <td>0.259000</td>\n",
       "      <td>94.200000</td>\n",
       "      <td>31.700000</td>\n",
       "      <td>344.000000</td>\n",
       "      <td>249.000000</td>\n",
       "      <td>2.400000</td>\n",
       "      <td>0.500000</td>\n",
       "      <td>65.000000</td>\n",
       "      <td>8.700000</td>\n",
       "      <td>1.560000</td>\n",
       "    </tr>\n",
       "    <tr>\n",
       "      <th>max</th>\n",
       "      <td>56.800000</td>\n",
       "      <td>51.800000</td>\n",
       "      <td>137.900000</td>\n",
       "      <td>47.600000</td>\n",
       "      <td>485.000000</td>\n",
       "      <td>833.000000</td>\n",
       "      <td>15.600000</td>\n",
       "      <td>4.100000</td>\n",
       "      <td>92.200000</td>\n",
       "      <td>59.000000</td>\n",
       "      <td>21.590000</td>\n",
       "    </tr>\n",
       "  </tbody>\n",
       "</table>\n",
       "</div>"
      ],
      "text/plain": [
       "             100005        100007           315           316           317  \\\n",
       "count  19422.000000  22608.000000  26600.000000  26600.000000  26229.000000   \n",
       "mean      18.967235      0.671348     90.613117     30.289935    334.470525   \n",
       "std       12.079368      4.093520      6.045505      2.474706     15.035377   \n",
       "min        0.000000      0.000000     53.200000     10.300000    116.000000   \n",
       "25%       12.100000      0.159000     87.800000     29.300000    325.000000   \n",
       "50%       13.000000      0.201000     91.000000     30.500000    334.000000   \n",
       "75%       15.000000      0.259000     94.200000     31.700000    344.000000   \n",
       "max       56.800000     51.800000    137.900000     47.600000    485.000000   \n",
       "\n",
       "                319            33            34            37            39  \\\n",
       "count  26600.000000  26143.000000  21004.000000  26600.000000  21216.000000   \n",
       "mean     214.974899      2.076035      0.427824     57.626687      7.709535   \n",
       "std       55.625658      0.733745      0.209185     13.444135      6.317230   \n",
       "min       28.000000      0.200000      0.060000      0.310000      0.010000   \n",
       "25%      178.000000      1.600000      0.300000     53.400000      4.800000   \n",
       "50%      212.000000      2.000000      0.400000     59.300000      6.700000   \n",
       "75%      249.000000      2.400000      0.500000     65.000000      8.700000   \n",
       "max      833.000000     15.600000      4.100000     92.200000     59.000000   \n",
       "\n",
       "            809009  \n",
       "count  7333.000000  \n",
       "mean      1.618898  \n",
       "std       0.795881  \n",
       "min       0.370000  \n",
       "25%       1.400000  \n",
       "50%       1.480000  \n",
       "75%       1.560000  \n",
       "max      21.590000  "
      ]
     },
     "execution_count": 6,
     "metadata": {},
     "output_type": "execute_result"
    }
   ],
   "source": [
    "data.describe()"
   ]
  },
  {
   "cell_type": "markdown",
   "metadata": {},
   "source": [
    "### 文本数据的分布"
   ]
  },
  {
   "cell_type": "code",
   "execution_count": 7,
   "metadata": {},
   "outputs": [
    {
     "data": {
      "text/html": [
       "<div>\n",
       "<style scoped>\n",
       "    .dataframe tbody tr th:only-of-type {\n",
       "        vertical-align: middle;\n",
       "    }\n",
       "\n",
       "    .dataframe tbody tr th {\n",
       "        vertical-align: top;\n",
       "    }\n",
       "\n",
       "    .dataframe thead th {\n",
       "        text-align: right;\n",
       "    }\n",
       "</style>\n",
       "<table border=\"1\" class=\"dataframe\">\n",
       "  <thead>\n",
       "    <tr style=\"text-align: right;\">\n",
       "      <th></th>\n",
       "      <th>vid</th>\n",
       "      <th>0101</th>\n",
       "      <th>0102</th>\n",
       "      <th>0113</th>\n",
       "      <th>0114</th>\n",
       "      <th>0115</th>\n",
       "      <th>0116</th>\n",
       "      <th>0117</th>\n",
       "      <th>0118</th>\n",
       "      <th>0119</th>\n",
       "      <th>...</th>\n",
       "      <th>979019</th>\n",
       "      <th>979020</th>\n",
       "      <th>979021</th>\n",
       "      <th>979022</th>\n",
       "      <th>979023</th>\n",
       "      <th>A201</th>\n",
       "      <th>A202</th>\n",
       "      <th>A301</th>\n",
       "      <th>A302</th>\n",
       "      <th>A601</th>\n",
       "    </tr>\n",
       "  </thead>\n",
       "  <tbody>\n",
       "    <tr>\n",
       "      <th>count</th>\n",
       "      <td>57298</td>\n",
       "      <td>48809</td>\n",
       "      <td>56462</td>\n",
       "      <td>55968</td>\n",
       "      <td>55956</td>\n",
       "      <td>50944</td>\n",
       "      <td>55844</td>\n",
       "      <td>54895</td>\n",
       "      <td>54893</td>\n",
       "      <td>31291</td>\n",
       "      <td>...</td>\n",
       "      <td>10166</td>\n",
       "      <td>10328</td>\n",
       "      <td>10329</td>\n",
       "      <td>10328</td>\n",
       "      <td>10328</td>\n",
       "      <td>33937</td>\n",
       "      <td>34112</td>\n",
       "      <td>7501</td>\n",
       "      <td>7529</td>\n",
       "      <td>13801</td>\n",
       "    </tr>\n",
       "    <tr>\n",
       "      <th>unique</th>\n",
       "      <td>57298</td>\n",
       "      <td>29127</td>\n",
       "      <td>46423</td>\n",
       "      <td>8881</td>\n",
       "      <td>6060</td>\n",
       "      <td>129</td>\n",
       "      <td>704</td>\n",
       "      <td>4881</td>\n",
       "      <td>4446</td>\n",
       "      <td>288</td>\n",
       "      <td>...</td>\n",
       "      <td>572</td>\n",
       "      <td>1496</td>\n",
       "      <td>596</td>\n",
       "      <td>1435</td>\n",
       "      <td>943</td>\n",
       "      <td>10873</td>\n",
       "      <td>6466</td>\n",
       "      <td>2741</td>\n",
       "      <td>1477</td>\n",
       "      <td>74</td>\n",
       "    </tr>\n",
       "    <tr>\n",
       "      <th>top</th>\n",
       "      <td>ff6433efd7475b7552cd8763c6d1a298</td>\n",
       "      <td>双侧甲状腺大小形态正常，包膜光整，实质回声均匀，未见明显异常回声。CDFI：血流显示未见异常。</td>\n",
       "      <td>肝、胆、胰、脾、左肾、右肾未发现明显异常</td>\n",
       "      <td>肝脏大小、形态正常，包膜光整，肝内血管走行较清晰，回声均匀。</td>\n",
       "      <td>胆囊大小、形态正常，囊壁光整，囊腔内透声好，胆总管无扩张。</td>\n",
       "      <td>胰腺大小、形态正常，边缘规整，内部回声均匀，胰管未见扩张。</td>\n",
       "      <td>脾脏大小、形态正常，包膜光整，回声均匀。</td>\n",
       "      <td>左肾大小、形态正常，包膜光滑，肾实质回声均匀，集合系统未见明显分离。</td>\n",
       "      <td>右肾大小、形态正常，包膜光滑，肾实质回声均匀，集合系统未见明显分离。</td>\n",
       "      <td>膀胱充盈良好，壁光滑，延续性好，其内透声性良好，未见明显占位性病变。</td>\n",
       "      <td>...</td>\n",
       "      <td>1.3</td>\n",
       "      <td>57.9</td>\n",
       "      <td>4.9</td>\n",
       "      <td>33.5</td>\n",
       "      <td>6.00</td>\n",
       "      <td>胸廓对称，双肺纹理清晰，走行自然，未见异常实变影，双肺门不大。纵隔窗示纵隔无偏移，心影及大血...</td>\n",
       "      <td>详见纸质报告</td>\n",
       "      <td>详见纸质报告</td>\n",
       "      <td>详见纸质报告</td>\n",
       "      <td>详见纸质报告</td>\n",
       "    </tr>\n",
       "    <tr>\n",
       "      <th>freq</th>\n",
       "      <td>1</td>\n",
       "      <td>4277</td>\n",
       "      <td>297</td>\n",
       "      <td>10764</td>\n",
       "      <td>30780</td>\n",
       "      <td>34996</td>\n",
       "      <td>22848</td>\n",
       "      <td>32229</td>\n",
       "      <td>32447</td>\n",
       "      <td>23991</td>\n",
       "      <td>...</td>\n",
       "      <td>311</td>\n",
       "      <td>49</td>\n",
       "      <td>256</td>\n",
       "      <td>67</td>\n",
       "      <td>46</td>\n",
       "      <td>7863</td>\n",
       "      <td>4013</td>\n",
       "      <td>1188</td>\n",
       "      <td>1624</td>\n",
       "      <td>7264</td>\n",
       "    </tr>\n",
       "  </tbody>\n",
       "</table>\n",
       "<p>4 rows × 246 columns</p>\n",
       "</div>"
      ],
      "text/plain": [
       "                                     vid  \\\n",
       "count                              57298   \n",
       "unique                             57298   \n",
       "top     ff6433efd7475b7552cd8763c6d1a298   \n",
       "freq                                   1   \n",
       "\n",
       "                                                   0101                  0102  \\\n",
       "count                                             48809                 56462   \n",
       "unique                                            29127                 46423   \n",
       "top     双侧甲状腺大小形态正常，包膜光整，实质回声均匀，未见明显异常回声。CDFI：血流显示未见异常。  肝、胆、胰、脾、左肾、右肾未发现明显异常   \n",
       "freq                                               4277                   297   \n",
       "\n",
       "                                  0113                           0114  \\\n",
       "count                            55968                          55956   \n",
       "unique                            8881                           6060   \n",
       "top     肝脏大小、形态正常，包膜光整，肝内血管走行较清晰，回声均匀。  胆囊大小、形态正常，囊壁光整，囊腔内透声好，胆总管无扩张。   \n",
       "freq                             10764                          30780   \n",
       "\n",
       "                                 0115                  0116  \\\n",
       "count                           50944                 55844   \n",
       "unique                            129                   704   \n",
       "top     胰腺大小、形态正常，边缘规整，内部回声均匀，胰管未见扩张。  脾脏大小、形态正常，包膜光整，回声均匀。   \n",
       "freq                            34996                 22848   \n",
       "\n",
       "                                      0117  \\\n",
       "count                                54895   \n",
       "unique                                4881   \n",
       "top     左肾大小、形态正常，包膜光滑，肾实质回声均匀，集合系统未见明显分离。   \n",
       "freq                                 32229   \n",
       "\n",
       "                                      0118  \\\n",
       "count                                54893   \n",
       "unique                                4446   \n",
       "top     右肾大小、形态正常，包膜光滑，肾实质回声均匀，集合系统未见明显分离。   \n",
       "freq                                 32447   \n",
       "\n",
       "                                      0119   ...   979019 979020 979021  \\\n",
       "count                                31291   ...    10166  10328  10329   \n",
       "unique                                 288   ...      572   1496    596   \n",
       "top     膀胱充盈良好，壁光滑，延续性好，其内透声性良好，未见明显占位性病变。   ...      1.3   57.9    4.9   \n",
       "freq                                 23991   ...      311     49    256   \n",
       "\n",
       "       979022 979023                                               A201  \\\n",
       "count   10328  10328                                              33937   \n",
       "unique   1435    943                                              10873   \n",
       "top      33.5   6.00  胸廓对称，双肺纹理清晰，走行自然，未见异常实变影，双肺门不大。纵隔窗示纵隔无偏移，心影及大血...   \n",
       "freq       67     46                                               7863   \n",
       "\n",
       "          A202    A301    A302    A601  \n",
       "count    34112    7501    7529   13801  \n",
       "unique    6466    2741    1477      74  \n",
       "top     详见纸质报告  详见纸质报告  详见纸质报告  详见纸质报告  \n",
       "freq      4013    1188    1624    7264  \n",
       "\n",
       "[4 rows x 246 columns]"
      ]
     },
     "execution_count": 7,
     "metadata": {},
     "output_type": "execute_result"
    }
   ],
   "source": [
    "data.describe(include=[np.object])"
   ]
  },
  {
   "cell_type": "markdown",
   "metadata": {},
   "source": [
    "**有部分混合数据被分为object，需要再处理**"
   ]
  },
  {
   "cell_type": "code",
   "execution_count": null,
   "metadata": {
    "collapsed": true
   },
   "outputs": [],
   "source": []
  },
  {
   "cell_type": "markdown",
   "metadata": {},
   "source": [
    "### 训练数据"
   ]
  },
  {
   "cell_type": "code",
   "execution_count": 58,
   "metadata": {},
   "outputs": [
    {
     "data": {
      "text/plain": [
       "(38199, 6)"
      ]
     },
     "execution_count": 58,
     "metadata": {},
     "output_type": "execute_result"
    }
   ],
   "source": [
    "train_df = pd.read_csv('meinian_round1_train_20180408.csv')\n",
    "train_df.shape"
   ]
  },
  {
   "cell_type": "code",
   "execution_count": 59,
   "metadata": {},
   "outputs": [
    {
     "data": {
      "text/html": [
       "<div>\n",
       "<style scoped>\n",
       "    .dataframe tbody tr th:only-of-type {\n",
       "        vertical-align: middle;\n",
       "    }\n",
       "\n",
       "    .dataframe tbody tr th {\n",
       "        vertical-align: top;\n",
       "    }\n",
       "\n",
       "    .dataframe thead th {\n",
       "        text-align: right;\n",
       "    }\n",
       "</style>\n",
       "<table border=\"1\" class=\"dataframe\">\n",
       "  <thead>\n",
       "    <tr style=\"text-align: right;\">\n",
       "      <th></th>\n",
       "      <th>vid</th>\n",
       "      <th>收缩压</th>\n",
       "      <th>舒张压</th>\n",
       "      <th>血清甘油三酯</th>\n",
       "    </tr>\n",
       "  </thead>\n",
       "  <tbody>\n",
       "    <tr>\n",
       "      <th>count</th>\n",
       "      <td>38199</td>\n",
       "      <td>38199</td>\n",
       "      <td>38199</td>\n",
       "      <td>38199</td>\n",
       "    </tr>\n",
       "    <tr>\n",
       "      <th>unique</th>\n",
       "      <td>38199</td>\n",
       "      <td>156</td>\n",
       "      <td>110</td>\n",
       "      <td>975</td>\n",
       "    </tr>\n",
       "    <tr>\n",
       "      <th>top</th>\n",
       "      <td>104041558e973e1a293c9fd85eee2987</td>\n",
       "      <td>120</td>\n",
       "      <td>80</td>\n",
       "      <td>0.8</td>\n",
       "    </tr>\n",
       "    <tr>\n",
       "      <th>freq</th>\n",
       "      <td>1</td>\n",
       "      <td>1260</td>\n",
       "      <td>1747</td>\n",
       "      <td>362</td>\n",
       "    </tr>\n",
       "  </tbody>\n",
       "</table>\n",
       "</div>"
      ],
      "text/plain": [
       "                                     vid    收缩压    舒张压 血清甘油三酯\n",
       "count                              38199  38199  38199  38199\n",
       "unique                             38199    156    110    975\n",
       "top     104041558e973e1a293c9fd85eee2987    120     80    0.8\n",
       "freq                                   1   1260   1747    362"
      ]
     },
     "execution_count": 59,
     "metadata": {},
     "output_type": "execute_result"
    }
   ],
   "source": [
    "train_df.describe(include='O')"
   ]
  },
  {
   "cell_type": "markdown",
   "metadata": {},
   "source": [
    "有三列数据有混合类型，需要处理。"
   ]
  },
  {
   "cell_type": "code",
   "execution_count": 60,
   "metadata": {},
   "outputs": [
    {
     "data": {
      "text/html": [
       "<div>\n",
       "<style scoped>\n",
       "    .dataframe tbody tr th:only-of-type {\n",
       "        vertical-align: middle;\n",
       "    }\n",
       "\n",
       "    .dataframe tbody tr th {\n",
       "        vertical-align: top;\n",
       "    }\n",
       "\n",
       "    .dataframe thead th {\n",
       "        text-align: right;\n",
       "    }\n",
       "</style>\n",
       "<table border=\"1\" class=\"dataframe\">\n",
       "  <thead>\n",
       "    <tr style=\"text-align: right;\">\n",
       "      <th></th>\n",
       "      <th>vid</th>\n",
       "      <th>收缩压</th>\n",
       "      <th>舒张压</th>\n",
       "      <th>血清甘油三酯</th>\n",
       "      <th>血清高密度脂蛋白</th>\n",
       "      <th>血清低密度脂蛋白</th>\n",
       "    </tr>\n",
       "  </thead>\n",
       "  <tbody>\n",
       "    <tr>\n",
       "      <th>15756</th>\n",
       "      <td>1773a52f313d62c3f8d8b8eec1bd63b9</td>\n",
       "      <td>未查</td>\n",
       "      <td>未查</td>\n",
       "      <td>1.15</td>\n",
       "      <td>1.21</td>\n",
       "      <td>3.91</td>\n",
       "    </tr>\n",
       "    <tr>\n",
       "      <th>19645</th>\n",
       "      <td>1c1773e341fd21a8da7ac51223fc5b04</td>\n",
       "      <td>未查</td>\n",
       "      <td>未查</td>\n",
       "      <td>1.15</td>\n",
       "      <td>1.18</td>\n",
       "      <td>2.03</td>\n",
       "    </tr>\n",
       "    <tr>\n",
       "      <th>20652</th>\n",
       "      <td>8eee83b48c083e6e337c32afe5fec05f</td>\n",
       "      <td>未查</td>\n",
       "      <td>未查</td>\n",
       "      <td>0.47</td>\n",
       "      <td>0.78</td>\n",
       "      <td>1.08</td>\n",
       "    </tr>\n",
       "    <tr>\n",
       "      <th>20953</th>\n",
       "      <td>85b341038cfa4b03e6c625ecc2cefddb</td>\n",
       "      <td>弃查</td>\n",
       "      <td>弃查</td>\n",
       "      <td>1.13</td>\n",
       "      <td>1.43</td>\n",
       "      <td>2.92</td>\n",
       "    </tr>\n",
       "    <tr>\n",
       "      <th>21662</th>\n",
       "      <td>0597838c42f7c667f0b941efd42055a6</td>\n",
       "      <td>弃查</td>\n",
       "      <td>弃查</td>\n",
       "      <td>1.38</td>\n",
       "      <td>1.39</td>\n",
       "      <td>2.95</td>\n",
       "    </tr>\n",
       "    <tr>\n",
       "      <th>27521</th>\n",
       "      <td>34d2cd11dd80947d7a5ef1a42e4777bd</td>\n",
       "      <td>未查</td>\n",
       "      <td>未查</td>\n",
       "      <td>1.25</td>\n",
       "      <td>1.52</td>\n",
       "      <td>5.01</td>\n",
       "    </tr>\n",
       "    <tr>\n",
       "      <th>32672</th>\n",
       "      <td>eb16145ab9d131a8501f5df67586f3a6</td>\n",
       "      <td>未查</td>\n",
       "      <td>未查</td>\n",
       "      <td>1.63</td>\n",
       "      <td>1.39</td>\n",
       "      <td>3.79</td>\n",
       "    </tr>\n",
       "  </tbody>\n",
       "</table>\n",
       "</div>"
      ],
      "text/plain": [
       "                                    vid 收缩压 舒张压 血清甘油三酯  血清高密度脂蛋白  血清低密度脂蛋白\n",
       "15756  1773a52f313d62c3f8d8b8eec1bd63b9  未查  未查   1.15      1.21      3.91\n",
       "19645  1c1773e341fd21a8da7ac51223fc5b04  未查  未查   1.15      1.18      2.03\n",
       "20652  8eee83b48c083e6e337c32afe5fec05f  未查  未查   0.47      0.78      1.08\n",
       "20953  85b341038cfa4b03e6c625ecc2cefddb  弃查  弃查   1.13      1.43      2.92\n",
       "21662  0597838c42f7c667f0b941efd42055a6  弃查  弃查   1.38      1.39      2.95\n",
       "27521  34d2cd11dd80947d7a5ef1a42e4777bd  未查  未查   1.25      1.52      5.01\n",
       "32672  eb16145ab9d131a8501f5df67586f3a6  未查  未查   1.63      1.39      3.79"
      ]
     },
     "execution_count": 60,
     "metadata": {},
     "output_type": "execute_result"
    }
   ],
   "source": [
    "train_df[train_df['收缩压'].str.isnumeric()==False]"
   ]
  },
  {
   "cell_type": "code",
   "execution_count": 61,
   "metadata": {
    "collapsed": true
   },
   "outputs": [],
   "source": [
    "train_df['收缩压'] = pd.to_numeric(train_df['收缩压'], errors='coerce')\n",
    "train_df['舒张压'] = pd.to_numeric(train_df['舒张压'], errors='coerce')"
   ]
  },
  {
   "cell_type": "code",
   "execution_count": 62,
   "metadata": {},
   "outputs": [
    {
     "data": {
      "text/html": [
       "<div>\n",
       "<style scoped>\n",
       "    .dataframe tbody tr th:only-of-type {\n",
       "        vertical-align: middle;\n",
       "    }\n",
       "\n",
       "    .dataframe tbody tr th {\n",
       "        vertical-align: top;\n",
       "    }\n",
       "\n",
       "    .dataframe thead th {\n",
       "        text-align: right;\n",
       "    }\n",
       "</style>\n",
       "<table border=\"1\" class=\"dataframe\">\n",
       "  <thead>\n",
       "    <tr style=\"text-align: right;\">\n",
       "      <th></th>\n",
       "      <th>vid</th>\n",
       "      <th>血清甘油三酯</th>\n",
       "    </tr>\n",
       "  </thead>\n",
       "  <tbody>\n",
       "    <tr>\n",
       "      <th>count</th>\n",
       "      <td>38199</td>\n",
       "      <td>38199</td>\n",
       "    </tr>\n",
       "    <tr>\n",
       "      <th>unique</th>\n",
       "      <td>38199</td>\n",
       "      <td>975</td>\n",
       "    </tr>\n",
       "    <tr>\n",
       "      <th>top</th>\n",
       "      <td>104041558e973e1a293c9fd85eee2987</td>\n",
       "      <td>0.8</td>\n",
       "    </tr>\n",
       "    <tr>\n",
       "      <th>freq</th>\n",
       "      <td>1</td>\n",
       "      <td>362</td>\n",
       "    </tr>\n",
       "  </tbody>\n",
       "</table>\n",
       "</div>"
      ],
      "text/plain": [
       "                                     vid 血清甘油三酯\n",
       "count                              38199  38199\n",
       "unique                             38199    975\n",
       "top     104041558e973e1a293c9fd85eee2987    0.8\n",
       "freq                                   1    362"
      ]
     },
     "execution_count": 62,
     "metadata": {},
     "output_type": "execute_result"
    }
   ],
   "source": [
    "train_df.describe(include='O')"
   ]
  },
  {
   "cell_type": "code",
   "execution_count": 79,
   "metadata": {},
   "outputs": [
    {
     "data": {
      "text/html": [
       "<div>\n",
       "<style scoped>\n",
       "    .dataframe tbody tr th:only-of-type {\n",
       "        vertical-align: middle;\n",
       "    }\n",
       "\n",
       "    .dataframe tbody tr th {\n",
       "        vertical-align: top;\n",
       "    }\n",
       "\n",
       "    .dataframe thead th {\n",
       "        text-align: right;\n",
       "    }\n",
       "</style>\n",
       "<table border=\"1\" class=\"dataframe\">\n",
       "  <thead>\n",
       "    <tr style=\"text-align: right;\">\n",
       "      <th></th>\n",
       "      <th>vid</th>\n",
       "      <th>收缩压</th>\n",
       "      <th>舒张压</th>\n",
       "      <th>血清甘油三酯</th>\n",
       "      <th>血清高密度脂蛋白</th>\n",
       "      <th>血清低密度脂蛋白</th>\n",
       "    </tr>\n",
       "  </thead>\n",
       "  <tbody>\n",
       "    <tr>\n",
       "      <th>22712</th>\n",
       "      <td>99848f481d731504457442dc79e95eee</td>\n",
       "      <td>133.0</td>\n",
       "      <td>88.0</td>\n",
       "      <td>7.75轻度乳糜</td>\n",
       "      <td>1.1</td>\n",
       "      <td>2.06</td>\n",
       "    </tr>\n",
       "  </tbody>\n",
       "</table>\n",
       "</div>"
      ],
      "text/plain": [
       "                                    vid    收缩压   舒张压    血清甘油三酯  血清高密度脂蛋白  \\\n",
       "22712  99848f481d731504457442dc79e95eee  133.0  88.0  7.75轻度乳糜       1.1   \n",
       "\n",
       "       血清低密度脂蛋白  \n",
       "22712      2.06  "
      ]
     },
     "execution_count": 79,
     "metadata": {},
     "output_type": "execute_result"
    }
   ],
   "source": [
    "train_df[train_df['血清甘油三酯'].str.contains(r'[\\u4e00-\\u9fa5]')]"
   ]
  },
  {
   "cell_type": "code",
   "execution_count": 86,
   "metadata": {
    "collapsed": true
   },
   "outputs": [],
   "source": [
    "train_df.loc[22712, '血清甘油三酯'] = 7.75\n",
    "train_df['血清甘油三酯'] = pd.to_numeric(train_df['血清甘油三酯'], errors='coerce')"
   ]
  },
  {
   "cell_type": "code",
   "execution_count": 87,
   "metadata": {},
   "outputs": [
    {
     "data": {
      "text/html": [
       "<div>\n",
       "<style scoped>\n",
       "    .dataframe tbody tr th:only-of-type {\n",
       "        vertical-align: middle;\n",
       "    }\n",
       "\n",
       "    .dataframe tbody tr th {\n",
       "        vertical-align: top;\n",
       "    }\n",
       "\n",
       "    .dataframe thead th {\n",
       "        text-align: right;\n",
       "    }\n",
       "</style>\n",
       "<table border=\"1\" class=\"dataframe\">\n",
       "  <thead>\n",
       "    <tr style=\"text-align: right;\">\n",
       "      <th></th>\n",
       "      <th>收缩压</th>\n",
       "      <th>舒张压</th>\n",
       "      <th>血清甘油三酯</th>\n",
       "      <th>血清高密度脂蛋白</th>\n",
       "      <th>血清低密度脂蛋白</th>\n",
       "    </tr>\n",
       "  </thead>\n",
       "  <tbody>\n",
       "    <tr>\n",
       "      <th>count</th>\n",
       "      <td>38192.000000</td>\n",
       "      <td>38192.000000</td>\n",
       "      <td>38158.000000</td>\n",
       "      <td>38199.000000</td>\n",
       "      <td>38199.000000</td>\n",
       "    </tr>\n",
       "    <tr>\n",
       "      <th>mean</th>\n",
       "      <td>126.049618</td>\n",
       "      <td>79.642229</td>\n",
       "      <td>1.612536</td>\n",
       "      <td>1.406683</td>\n",
       "      <td>2.769719</td>\n",
       "    </tr>\n",
       "    <tr>\n",
       "      <th>std</th>\n",
       "      <td>19.275625</td>\n",
       "      <td>512.318203</td>\n",
       "      <td>1.335518</td>\n",
       "      <td>0.341184</td>\n",
       "      <td>0.852217</td>\n",
       "    </tr>\n",
       "    <tr>\n",
       "      <th>min</th>\n",
       "      <td>0.000000</td>\n",
       "      <td>0.000000</td>\n",
       "      <td>0.100000</td>\n",
       "      <td>0.150000</td>\n",
       "      <td>-1.220000</td>\n",
       "    </tr>\n",
       "    <tr>\n",
       "      <th>25%</th>\n",
       "      <td>112.000000</td>\n",
       "      <td>68.000000</td>\n",
       "      <td>0.880000</td>\n",
       "      <td>1.160000</td>\n",
       "      <td>2.180000</td>\n",
       "    </tr>\n",
       "    <tr>\n",
       "      <th>50%</th>\n",
       "      <td>124.000000</td>\n",
       "      <td>76.000000</td>\n",
       "      <td>1.270000</td>\n",
       "      <td>1.350000</td>\n",
       "      <td>2.690000</td>\n",
       "    </tr>\n",
       "    <tr>\n",
       "      <th>75%</th>\n",
       "      <td>137.000000</td>\n",
       "      <td>85.000000</td>\n",
       "      <td>1.900000</td>\n",
       "      <td>1.600000</td>\n",
       "      <td>3.260000</td>\n",
       "    </tr>\n",
       "    <tr>\n",
       "      <th>max</th>\n",
       "      <td>252.000000</td>\n",
       "      <td>100164.000000</td>\n",
       "      <td>28.800000</td>\n",
       "      <td>4.780000</td>\n",
       "      <td>11.540000</td>\n",
       "    </tr>\n",
       "  </tbody>\n",
       "</table>\n",
       "</div>"
      ],
      "text/plain": [
       "                收缩压            舒张压        血清甘油三酯      血清高密度脂蛋白      血清低密度脂蛋白\n",
       "count  38192.000000   38192.000000  38158.000000  38199.000000  38199.000000\n",
       "mean     126.049618      79.642229      1.612536      1.406683      2.769719\n",
       "std       19.275625     512.318203      1.335518      0.341184      0.852217\n",
       "min        0.000000       0.000000      0.100000      0.150000     -1.220000\n",
       "25%      112.000000      68.000000      0.880000      1.160000      2.180000\n",
       "50%      124.000000      76.000000      1.270000      1.350000      2.690000\n",
       "75%      137.000000      85.000000      1.900000      1.600000      3.260000\n",
       "max      252.000000  100164.000000     28.800000      4.780000     11.540000"
      ]
     },
     "execution_count": 87,
     "metadata": {},
     "output_type": "execute_result"
    }
   ],
   "source": [
    "train_df.describe()"
   ]
  },
  {
   "cell_type": "code",
   "execution_count": 94,
   "metadata": {},
   "outputs": [
    {
     "data": {
      "text/plain": [
       "22357    100164.0\n",
       "4600        974.0\n",
       "35452       148.0\n",
       "33501       146.0\n",
       "22516       144.0\n",
       "Name: 舒张压, dtype: float64"
      ]
     },
     "execution_count": 94,
     "metadata": {},
     "output_type": "execute_result"
    }
   ],
   "source": [
    "train_df['舒张压'].sort_values(ascending=False)[:5]"
   ]
  },
  {
   "cell_type": "code",
   "execution_count": 98,
   "metadata": {},
   "outputs": [
    {
     "data": {
      "text/plain": [
       "vid         7685d48685028a006c84070f68854ce1\n",
       "收缩压                                      180\n",
       "舒张压                                   100164\n",
       "血清甘油三酯                                     4\n",
       "血清高密度脂蛋白                                   2\n",
       "血清低密度脂蛋白                                2.99\n",
       "Name: 22357, dtype: object"
      ]
     },
     "execution_count": 98,
     "metadata": {},
     "output_type": "execute_result"
    }
   ],
   "source": [
    "train_df.loc[22357,:]"
   ]
  },
  {
   "cell_type": "markdown",
   "metadata": {},
   "source": [
    "数据不合理，把舒张压替换成NaN"
   ]
  },
  {
   "cell_type": "code",
   "execution_count": 99,
   "metadata": {
    "collapsed": true
   },
   "outputs": [],
   "source": [
    "train_df.loc[22357, '舒张压'] = np.nan"
   ]
  },
  {
   "cell_type": "code",
   "execution_count": 100,
   "metadata": {},
   "outputs": [
    {
     "data": {
      "text/plain": [
       "29394     0.0\n",
       "5727     37.0\n",
       "14966    38.0\n",
       "13674    39.0\n",
       "15837    40.0\n",
       "Name: 舒张压, dtype: float64"
      ]
     },
     "execution_count": 100,
     "metadata": {},
     "output_type": "execute_result"
    }
   ],
   "source": [
    "train_df['舒张压'].sort_values()[:5]"
   ]
  },
  {
   "cell_type": "code",
   "execution_count": 101,
   "metadata": {
    "collapsed": true
   },
   "outputs": [],
   "source": [
    "train_df.loc[29394, '舒张压'] = np.nan"
   ]
  },
  {
   "cell_type": "code",
   "execution_count": 102,
   "metadata": {},
   "outputs": [
    {
     "data": {
      "text/plain": [
       "29394     0.0\n",
       "5727     69.0\n",
       "28325    73.0\n",
       "5702     74.0\n",
       "15053    75.0\n",
       "Name: 收缩压, dtype: float64"
      ]
     },
     "execution_count": 102,
     "metadata": {},
     "output_type": "execute_result"
    }
   ],
   "source": [
    "train_df['收缩压'].sort_values()[:5]"
   ]
  },
  {
   "cell_type": "code",
   "execution_count": 103,
   "metadata": {
    "collapsed": true
   },
   "outputs": [],
   "source": [
    "train_df.loc[29394, '收缩压'] = np.nan"
   ]
  },
  {
   "cell_type": "code",
   "execution_count": 104,
   "metadata": {
    "scrolled": true
   },
   "outputs": [
    {
     "data": {
      "text/plain": [
       "17693    28.80\n",
       "3728     25.03\n",
       "6134     25.01\n",
       "13137    23.58\n",
       "30922    22.55\n",
       "Name: 血清甘油三酯, dtype: float64"
      ]
     },
     "execution_count": 104,
     "metadata": {},
     "output_type": "execute_result"
    }
   ],
   "source": [
    "train_df['血清甘油三酯'].sort_values(ascending=False)[:5]"
   ]
  },
  {
   "cell_type": "code",
   "execution_count": 105,
   "metadata": {},
   "outputs": [
    {
     "data": {
      "text/plain": [
       "11688   -1.22\n",
       "14065   -0.12\n",
       "15215   -0.06\n",
       "36423    0.08\n",
       "9598     0.09\n",
       "Name: 血清低密度脂蛋白, dtype: float64"
      ]
     },
     "execution_count": 105,
     "metadata": {},
     "output_type": "execute_result"
    }
   ],
   "source": [
    "train_df['血清低密度脂蛋白'].sort_values()[:5]"
   ]
  },
  {
   "cell_type": "code",
   "execution_count": 106,
   "metadata": {},
   "outputs": [
    {
     "data": {
      "text/html": [
       "<div>\n",
       "<style scoped>\n",
       "    .dataframe tbody tr th:only-of-type {\n",
       "        vertical-align: middle;\n",
       "    }\n",
       "\n",
       "    .dataframe tbody tr th {\n",
       "        vertical-align: top;\n",
       "    }\n",
       "\n",
       "    .dataframe thead th {\n",
       "        text-align: right;\n",
       "    }\n",
       "</style>\n",
       "<table border=\"1\" class=\"dataframe\">\n",
       "  <thead>\n",
       "    <tr style=\"text-align: right;\">\n",
       "      <th></th>\n",
       "      <th>收缩压</th>\n",
       "      <th>舒张压</th>\n",
       "      <th>血清甘油三酯</th>\n",
       "      <th>血清高密度脂蛋白</th>\n",
       "      <th>血清低密度脂蛋白</th>\n",
       "    </tr>\n",
       "  </thead>\n",
       "  <tbody>\n",
       "    <tr>\n",
       "      <th>count</th>\n",
       "      <td>38191.000000</td>\n",
       "      <td>38190.000000</td>\n",
       "      <td>38158.000000</td>\n",
       "      <td>38199.000000</td>\n",
       "      <td>38199.000000</td>\n",
       "    </tr>\n",
       "    <tr>\n",
       "      <th>mean</th>\n",
       "      <td>126.052918</td>\n",
       "      <td>77.023619</td>\n",
       "      <td>1.612536</td>\n",
       "      <td>1.406683</td>\n",
       "      <td>2.769719</td>\n",
       "    </tr>\n",
       "    <tr>\n",
       "      <th>std</th>\n",
       "      <td>19.265082</td>\n",
       "      <td>13.385752</td>\n",
       "      <td>1.335518</td>\n",
       "      <td>0.341184</td>\n",
       "      <td>0.852217</td>\n",
       "    </tr>\n",
       "    <tr>\n",
       "      <th>min</th>\n",
       "      <td>69.000000</td>\n",
       "      <td>37.000000</td>\n",
       "      <td>0.100000</td>\n",
       "      <td>0.150000</td>\n",
       "      <td>-1.220000</td>\n",
       "    </tr>\n",
       "    <tr>\n",
       "      <th>25%</th>\n",
       "      <td>112.000000</td>\n",
       "      <td>68.000000</td>\n",
       "      <td>0.880000</td>\n",
       "      <td>1.160000</td>\n",
       "      <td>2.180000</td>\n",
       "    </tr>\n",
       "    <tr>\n",
       "      <th>50%</th>\n",
       "      <td>124.000000</td>\n",
       "      <td>76.000000</td>\n",
       "      <td>1.270000</td>\n",
       "      <td>1.350000</td>\n",
       "      <td>2.690000</td>\n",
       "    </tr>\n",
       "    <tr>\n",
       "      <th>75%</th>\n",
       "      <td>137.000000</td>\n",
       "      <td>85.000000</td>\n",
       "      <td>1.900000</td>\n",
       "      <td>1.600000</td>\n",
       "      <td>3.260000</td>\n",
       "    </tr>\n",
       "    <tr>\n",
       "      <th>max</th>\n",
       "      <td>252.000000</td>\n",
       "      <td>974.000000</td>\n",
       "      <td>28.800000</td>\n",
       "      <td>4.780000</td>\n",
       "      <td>11.540000</td>\n",
       "    </tr>\n",
       "  </tbody>\n",
       "</table>\n",
       "</div>"
      ],
      "text/plain": [
       "                收缩压           舒张压        血清甘油三酯      血清高密度脂蛋白      血清低密度脂蛋白\n",
       "count  38191.000000  38190.000000  38158.000000  38199.000000  38199.000000\n",
       "mean     126.052918     77.023619      1.612536      1.406683      2.769719\n",
       "std       19.265082     13.385752      1.335518      0.341184      0.852217\n",
       "min       69.000000     37.000000      0.100000      0.150000     -1.220000\n",
       "25%      112.000000     68.000000      0.880000      1.160000      2.180000\n",
       "50%      124.000000     76.000000      1.270000      1.350000      2.690000\n",
       "75%      137.000000     85.000000      1.900000      1.600000      3.260000\n",
       "max      252.000000    974.000000     28.800000      4.780000     11.540000"
      ]
     },
     "execution_count": 106,
     "metadata": {},
     "output_type": "execute_result"
    }
   ],
   "source": [
    "train_df.describe()"
   ]
  },
  {
   "cell_type": "markdown",
   "metadata": {},
   "source": [
    "### 数据拼接"
   ]
  },
  {
   "cell_type": "markdown",
   "metadata": {},
   "source": [
    "需要把训练集和测试集数据分别拼接起来。"
   ]
  },
  {
   "cell_type": "code",
   "execution_count": 114,
   "metadata": {
    "collapsed": true
   },
   "outputs": [],
   "source": [
    "data_train = pd.merge(train_df, data, on='vid', sort=False)"
   ]
  },
  {
   "cell_type": "code",
   "execution_count": 118,
   "metadata": {},
   "outputs": [
    {
     "name": "stdout",
     "output_type": "stream",
     "text": [
      "<class 'pandas.core.frame.DataFrame'>\n",
      "Int64Index: 38199 entries, 0 to 38198\n",
      "Columns: 262 entries, vid to A601\n",
      "dtypes: float64(16), object(246)\n",
      "memory usage: 76.6+ MB\n"
     ]
    }
   ],
   "source": [
    "data_train.info()"
   ]
  },
  {
   "cell_type": "code",
   "execution_count": 119,
   "metadata": {
    "collapsed": true
   },
   "outputs": [],
   "source": [
    "test_df = pd.read_csv('meinian_round1_test_a_20180409.csv')"
   ]
  },
  {
   "cell_type": "code",
   "execution_count": 120,
   "metadata": {},
   "outputs": [
    {
     "data": {
      "text/plain": [
       "(9538, 6)"
      ]
     },
     "execution_count": 120,
     "metadata": {},
     "output_type": "execute_result"
    }
   ],
   "source": [
    "test_df.shape"
   ]
  },
  {
   "cell_type": "code",
   "execution_count": 121,
   "metadata": {
    "collapsed": true
   },
   "outputs": [],
   "source": [
    "data_test = pd.merge(test_df, data, on='vid', sort=False)"
   ]
  },
  {
   "cell_type": "code",
   "execution_count": 124,
   "metadata": {},
   "outputs": [
    {
     "name": "stdout",
     "output_type": "stream",
     "text": [
      "<class 'pandas.core.frame.DataFrame'>\n",
      "Int64Index: 9538 entries, 0 to 9537\n",
      "Columns: 262 entries, vid to A601\n",
      "dtypes: float64(16), object(246)\n",
      "memory usage: 19.1+ MB\n"
     ]
    }
   ],
   "source": [
    "data_test.info()"
   ]
  },
  {
   "cell_type": "code",
   "execution_count": 125,
   "metadata": {
    "collapsed": true
   },
   "outputs": [],
   "source": [
    "data_train.to_csv('data_train.csv')\n",
    "data_test.to_csv('data_test.csv')"
   ]
  }
 ],
 "metadata": {
  "kernelspec": {
   "display_name": "Python 3",
   "language": "python",
   "name": "python3"
  },
  "language_info": {
   "codemirror_mode": {
    "name": "ipython",
    "version": 3
   },
   "file_extension": ".py",
   "mimetype": "text/x-python",
   "name": "python",
   "nbconvert_exporter": "python",
   "pygments_lexer": "ipython3",
   "version": "3.6.5"
  }
 },
 "nbformat": 4,
 "nbformat_minor": 2
}
