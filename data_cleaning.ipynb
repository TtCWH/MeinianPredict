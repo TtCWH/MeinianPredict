{
 "cells": [
  {
   "cell_type": "markdown",
   "metadata": {},
   "source": [
    "# 数据清洗"
   ]
  },
  {
   "cell_type": "code",
   "execution_count": 1,
   "metadata": {
    "collapsed": true
   },
   "outputs": [],
   "source": [
    "import pandas as pd\n",
    "import numpy as np"
   ]
  },
  {
   "cell_type": "markdown",
   "metadata": {},
   "source": [
    "## 导入数据"
   ]
  },
  {
   "cell_type": "code",
   "execution_count": 2,
   "metadata": {
    "collapsed": true
   },
   "outputs": [],
   "source": [
    "train_df = pd.read_csv('meinian_round1_train_20180408.csv')\n",
    "raw_data1 = pd.read_csv('meinian_round1_data_part1_20180408.txt', sep='$')\n",
    "raw_data2 = pd.read_csv('meinian_round1_data_part2_20180408.txt', sep='$')\n",
    "raw_data = pd.concat([raw_data1, raw_data2])"
   ]
  },
  {
   "cell_type": "code",
   "execution_count": 3,
   "metadata": {},
   "outputs": [
    {
     "name": "stdout",
     "output_type": "stream",
     "text": [
      "(8104368, 3)\n"
     ]
    }
   ],
   "source": [
    "print(raw_data.shape)"
   ]
  },
  {
   "cell_type": "markdown",
   "metadata": {},
   "source": [
    "训练数据的结构：**患者id、检验项目id、检验结果**"
   ]
  },
  {
   "cell_type": "code",
   "execution_count": 4,
   "metadata": {},
   "outputs": [
    {
     "data": {
      "text/html": [
       "<div>\n",
       "<style scoped>\n",
       "    .dataframe tbody tr th:only-of-type {\n",
       "        vertical-align: middle;\n",
       "    }\n",
       "\n",
       "    .dataframe tbody tr th {\n",
       "        vertical-align: top;\n",
       "    }\n",
       "\n",
       "    .dataframe thead th {\n",
       "        text-align: right;\n",
       "    }\n",
       "</style>\n",
       "<table border=\"1\" class=\"dataframe\">\n",
       "  <thead>\n",
       "    <tr style=\"text-align: right;\">\n",
       "      <th></th>\n",
       "      <th>vid</th>\n",
       "      <th>table_id</th>\n",
       "      <th>field_results</th>\n",
       "    </tr>\n",
       "  </thead>\n",
       "  <tbody>\n",
       "    <tr>\n",
       "      <th>0</th>\n",
       "      <td>002d1e4859fafd9ded2a2e1e7c839b62</td>\n",
       "      <td>2403</td>\n",
       "      <td>72.9</td>\n",
       "    </tr>\n",
       "    <tr>\n",
       "      <th>1</th>\n",
       "      <td>002d1e4859fafd9ded2a2e1e7c839b62</td>\n",
       "      <td>2404</td>\n",
       "      <td>166.5</td>\n",
       "    </tr>\n",
       "    <tr>\n",
       "      <th>2</th>\n",
       "      <td>002d1e4859fafd9ded2a2e1e7c839b62</td>\n",
       "      <td>2405</td>\n",
       "      <td>26.30</td>\n",
       "    </tr>\n",
       "    <tr>\n",
       "      <th>3</th>\n",
       "      <td>002d1e4859fafd9ded2a2e1e7c839b62</td>\n",
       "      <td>2420</td>\n",
       "      <td>79</td>\n",
       "    </tr>\n",
       "    <tr>\n",
       "      <th>4</th>\n",
       "      <td>002d1e4859fafd9ded2a2e1e7c839b62</td>\n",
       "      <td>0702</td>\n",
       "      <td>无</td>\n",
       "    </tr>\n",
       "  </tbody>\n",
       "</table>\n",
       "</div>"
      ],
      "text/plain": [
       "                                vid table_id field_results\n",
       "0  002d1e4859fafd9ded2a2e1e7c839b62     2403          72.9\n",
       "1  002d1e4859fafd9ded2a2e1e7c839b62     2404         166.5\n",
       "2  002d1e4859fafd9ded2a2e1e7c839b62     2405         26.30\n",
       "3  002d1e4859fafd9ded2a2e1e7c839b62     2420            79\n",
       "4  002d1e4859fafd9ded2a2e1e7c839b62     0702             无"
      ]
     },
     "execution_count": 4,
     "metadata": {},
     "output_type": "execute_result"
    }
   ],
   "source": [
    "raw_data.head()"
   ]
  },
  {
   "cell_type": "markdown",
   "metadata": {},
   "source": [
    "训练数据的输出的结构"
   ]
  },
  {
   "cell_type": "code",
   "execution_count": 5,
   "metadata": {},
   "outputs": [
    {
     "data": {
      "text/html": [
       "<div>\n",
       "<style scoped>\n",
       "    .dataframe tbody tr th:only-of-type {\n",
       "        vertical-align: middle;\n",
       "    }\n",
       "\n",
       "    .dataframe tbody tr th {\n",
       "        vertical-align: top;\n",
       "    }\n",
       "\n",
       "    .dataframe thead th {\n",
       "        text-align: right;\n",
       "    }\n",
       "</style>\n",
       "<table border=\"1\" class=\"dataframe\">\n",
       "  <thead>\n",
       "    <tr style=\"text-align: right;\">\n",
       "      <th></th>\n",
       "      <th>vid</th>\n",
       "      <th>收缩压</th>\n",
       "      <th>舒张压</th>\n",
       "      <th>血清甘油三酯</th>\n",
       "      <th>血清高密度脂蛋白</th>\n",
       "      <th>血清低密度脂蛋白</th>\n",
       "    </tr>\n",
       "  </thead>\n",
       "  <tbody>\n",
       "    <tr>\n",
       "      <th>0</th>\n",
       "      <td>002d1e4859fafd9ded2a2e1e7c839b62</td>\n",
       "      <td>165</td>\n",
       "      <td>100</td>\n",
       "      <td>2.08</td>\n",
       "      <td>1.29</td>\n",
       "      <td>3.24</td>\n",
       "    </tr>\n",
       "    <tr>\n",
       "      <th>1</th>\n",
       "      <td>92dd479df5e30ab6a0a1cf85ac53efc3</td>\n",
       "      <td>141</td>\n",
       "      <td>97</td>\n",
       "      <td>2.64</td>\n",
       "      <td>1.36</td>\n",
       "      <td>4.75</td>\n",
       "    </tr>\n",
       "    <tr>\n",
       "      <th>2</th>\n",
       "      <td>6bb59d517c4c70f8f50844d24fbd0355</td>\n",
       "      <td>120</td>\n",
       "      <td>80</td>\n",
       "      <td>1.37</td>\n",
       "      <td>1.25</td>\n",
       "      <td>2.66</td>\n",
       "    </tr>\n",
       "    <tr>\n",
       "      <th>3</th>\n",
       "      <td>0ebb42adae512906f7e1135da734ea63</td>\n",
       "      <td>100</td>\n",
       "      <td>70</td>\n",
       "      <td>1.27</td>\n",
       "      <td>2.21</td>\n",
       "      <td>1.73</td>\n",
       "    </tr>\n",
       "    <tr>\n",
       "      <th>4</th>\n",
       "      <td>ebe7811e919109c42c092abbd98b4ca6</td>\n",
       "      <td>110</td>\n",
       "      <td>80</td>\n",
       "      <td>0.8</td>\n",
       "      <td>1.87</td>\n",
       "      <td>2.21</td>\n",
       "    </tr>\n",
       "  </tbody>\n",
       "</table>\n",
       "</div>"
      ],
      "text/plain": [
       "                                vid  收缩压  舒张压 血清甘油三酯  血清高密度脂蛋白  血清低密度脂蛋白\n",
       "0  002d1e4859fafd9ded2a2e1e7c839b62  165  100   2.08      1.29      3.24\n",
       "1  92dd479df5e30ab6a0a1cf85ac53efc3  141   97   2.64      1.36      4.75\n",
       "2  6bb59d517c4c70f8f50844d24fbd0355  120   80   1.37      1.25      2.66\n",
       "3  0ebb42adae512906f7e1135da734ea63  100   70   1.27      2.21      1.73\n",
       "4  ebe7811e919109c42c092abbd98b4ca6  110   80    0.8      1.87      2.21"
      ]
     },
     "execution_count": 5,
     "metadata": {},
     "output_type": "execute_result"
    }
   ],
   "source": [
    "train_df.head()"
   ]
  },
  {
   "cell_type": "markdown",
   "metadata": {
    "collapsed": true
   },
   "source": [
    "## 合并训练数据（相同的患者id、检验id）"
   ]
  },
  {
   "cell_type": "markdown",
   "metadata": {},
   "source": [
    "把相同患者id和检验id的合并，以`;`分隔"
   ]
  },
  {
   "cell_type": "code",
   "execution_count": 7,
   "metadata": {
    "collapsed": true
   },
   "outputs": [],
   "source": [
    "data_compressed = raw_data.groupby(['vid','table_id'],as_index=False).apply(lambda x:\";\".join(map(str, x['field_results'])))"
   ]
  },
  {
   "cell_type": "code",
   "execution_count": 12,
   "metadata": {},
   "outputs": [
    {
     "data": {
      "text/plain": [
       "(7820997, 1)"
      ]
     },
     "execution_count": 12,
     "metadata": {},
     "output_type": "execute_result"
    }
   ],
   "source": [
    "data_compressed = pd.DataFrame(data_compressed,columns=['field_results'])\n",
    "data_compressed.shape"
   ]
  },
  {
   "cell_type": "code",
   "execution_count": 13,
   "metadata": {
    "collapsed": true
   },
   "outputs": [],
   "source": [
    "data_fmt_all = data_compressed.unstack(fill_value=None)\n",
    "data_fmt_all.columns = data_fmt_all.columns.droplevel(level=0)"
   ]
  },
  {
   "cell_type": "code",
   "execution_count": 15,
   "metadata": {},
   "outputs": [
    {
     "data": {
      "text/plain": [
       "(57298, 2795)"
      ]
     },
     "execution_count": 15,
     "metadata": {},
     "output_type": "execute_result"
    }
   ],
   "source": [
    "data_fmt_all.shape"
   ]
  },
  {
   "cell_type": "markdown",
   "metadata": {},
   "source": [
    "一共有57298个病人，2795个特征"
   ]
  },
  {
   "cell_type": "code",
   "execution_count": 17,
   "metadata": {},
   "outputs": [
    {
     "data": {
      "text/plain": [
       "256"
      ]
     },
     "execution_count": 17,
     "metadata": {},
     "output_type": "execute_result"
    }
   ],
   "source": [
    "null_count = data_fmt_all.isnull().sum()\n",
    "len(null_count[null_count<50000])"
   ]
  },
  {
   "cell_type": "markdown",
   "metadata": {},
   "source": [
    "缺失小于50000的特征只有256个。把缺失多余50000的特征删掉。"
   ]
  },
  {
   "cell_type": "code",
   "execution_count": 18,
   "metadata": {
    "collapsed": true
   },
   "outputs": [],
   "source": [
    "data_keep_50000 = data_fmt_all.drop(labels=null_count [null_count >=50000].index,axis=1)\n",
    "data_keep_50000.to_csv(\"data_keep_50000.csv\")"
   ]
  },
  {
   "cell_type": "code",
   "execution_count": 19,
   "metadata": {},
   "outputs": [
    {
     "data": {
      "text/html": [
       "<div>\n",
       "<style scoped>\n",
       "    .dataframe tbody tr th:only-of-type {\n",
       "        vertical-align: middle;\n",
       "    }\n",
       "\n",
       "    .dataframe tbody tr th {\n",
       "        vertical-align: top;\n",
       "    }\n",
       "\n",
       "    .dataframe thead th {\n",
       "        text-align: right;\n",
       "    }\n",
       "</style>\n",
       "<table border=\"1\" class=\"dataframe\">\n",
       "  <thead>\n",
       "    <tr style=\"text-align: right;\">\n",
       "      <th>table_id</th>\n",
       "      <th>0101</th>\n",
       "      <th>0102</th>\n",
       "      <th>0113</th>\n",
       "      <th>0114</th>\n",
       "      <th>0115</th>\n",
       "      <th>0116</th>\n",
       "      <th>0117</th>\n",
       "      <th>0118</th>\n",
       "      <th>0119</th>\n",
       "      <th>0120</th>\n",
       "      <th>...</th>\n",
       "      <th>979019</th>\n",
       "      <th>979020</th>\n",
       "      <th>979021</th>\n",
       "      <th>979022</th>\n",
       "      <th>979023</th>\n",
       "      <th>A201</th>\n",
       "      <th>A202</th>\n",
       "      <th>A301</th>\n",
       "      <th>A302</th>\n",
       "      <th>A601</th>\n",
       "    </tr>\n",
       "    <tr>\n",
       "      <th>vid</th>\n",
       "      <th></th>\n",
       "      <th></th>\n",
       "      <th></th>\n",
       "      <th></th>\n",
       "      <th></th>\n",
       "      <th></th>\n",
       "      <th></th>\n",
       "      <th></th>\n",
       "      <th></th>\n",
       "      <th></th>\n",
       "      <th></th>\n",
       "      <th></th>\n",
       "      <th></th>\n",
       "      <th></th>\n",
       "      <th></th>\n",
       "      <th></th>\n",
       "      <th></th>\n",
       "      <th></th>\n",
       "      <th></th>\n",
       "      <th></th>\n",
       "      <th></th>\n",
       "    </tr>\n",
       "  </thead>\n",
       "  <tbody>\n",
       "    <tr>\n",
       "      <th>000330ad1f424114719b7525f400660b</th>\n",
       "      <td>双侧甲状腺大小形态正常，包膜光整，实质回声均匀，光点稍粗，未见明显异常回声。CDFI：血流显...</td>\n",
       "      <td>甲状腺彩超（含颈部淋巴细胞）未发现明显异常;前列腺:前列腺稍大膀胱、双侧输尿管未发现明显异常...</td>\n",
       "      <td>肝脏大小、形态正常，包膜光整，肝内血管走行较清晰，回声均匀。</td>\n",
       "      <td>胆囊大小、形态正常，囊壁光整，囊腔内透声好，胆总管无扩张。</td>\n",
       "      <td>胰腺大小、形态正常，边缘规整，内部回声均匀，胰管未见扩张。</td>\n",
       "      <td>脾脏大小、形态正常，包膜光整，回声均匀。</td>\n",
       "      <td>左肾大小、形态正常，包膜光滑，肾实质回声均匀，集合系统未见明显分离。</td>\n",
       "      <td>右肾大小、形态正常，包膜光滑，肾实质回声均匀，集合系统未见明显分离。</td>\n",
       "      <td>膀胱充盈良好，壁光滑，延续性好，其内透声性良好，未见明显占位性病变。</td>\n",
       "      <td>前列腺稍大： 46mm× 40 mm× 30 mm，内回声尚均匀。未见明显异常回声。</td>\n",
       "      <td>...</td>\n",
       "      <td>None</td>\n",
       "      <td>None</td>\n",
       "      <td>None</td>\n",
       "      <td>None</td>\n",
       "      <td>None</td>\n",
       "      <td>详见纸质报告</td>\n",
       "      <td>详见纸质报告</td>\n",
       "      <td>None</td>\n",
       "      <td>None</td>\n",
       "      <td>None</td>\n",
       "    </tr>\n",
       "    <tr>\n",
       "      <th>000381f0069cbf7537e6aac8923034ae</th>\n",
       "      <td>None</td>\n",
       "      <td>左肾、右肾、膀胱、双侧输尿管未发现明显异常;子宫:绝经后子宫左附件、右附件未发现明显异常;肝...</td>\n",
       "      <td>肝脏形态大小正常，轮廓规整，肝内回声呈点状密集弥漫性增强，肝内管道结构尚清晰。</td>\n",
       "      <td>胆囊大小、形态正常，囊壁光整，囊腔内透声好，胆总管无扩张。</td>\n",
       "      <td>None</td>\n",
       "      <td>脾脏大小、形态正常，包膜光整，回声均匀。</td>\n",
       "      <td>左肾大小、形态正常，包膜光滑，肾实质回声均匀，集合系统未见明显分离。</td>\n",
       "      <td>右肾大小、形态正常，包膜光滑，肾实质回声均匀，集合系统未见明显分离。</td>\n",
       "      <td>膀胱充盈良好，壁光滑，延续性好，其内透声性良好，未见明显占位性病变。</td>\n",
       "      <td>None</td>\n",
       "      <td>...</td>\n",
       "      <td>None</td>\n",
       "      <td>None</td>\n",
       "      <td>None</td>\n",
       "      <td>None</td>\n",
       "      <td>None</td>\n",
       "      <td>None</td>\n",
       "      <td>None</td>\n",
       "      <td>None</td>\n",
       "      <td>None</td>\n",
       "      <td>None</td>\n",
       "    </tr>\n",
       "    <tr>\n",
       "      <th>0003848ebd8d8163603760d53d975693</th>\n",
       "      <td>双侧乳腺腺体层增厚,内部结构紊乱,回声不均，未见异常血流。;双侧甲状腺大小形态正常，包膜尚完...</td>\n",
       "      <td>左肾、右肾、膀胱、双侧输尿管未发现明显异常;双侧乳腺小叶增生;甲状腺双叶回声不均匀,建议甲功...</td>\n",
       "      <td>肝脏大小、形态正常，包膜光整，肝内血管走行较清晰，光点分布尚均匀，其内未见明显异常光团。</td>\n",
       "      <td>胆囊大小、形态正常，囊壁光整，囊腔内透声好，胆总管无扩张。</td>\n",
       "      <td>胰腺大小、形态正常，边缘规整，内部回声均匀，胰管未见扩张。</td>\n",
       "      <td>脾脏大小、形态正常，包膜光整，内光点均匀。</td>\n",
       "      <td>左肾大小、形态正常，包膜光滑，肾实质回声均匀，集合系统未见明显分离。</td>\n",
       "      <td>右肾大小、形态正常，包膜光滑，肾实质回声均匀，集合系统未见明显分离。</td>\n",
       "      <td>膀胱充盈良好，壁光滑，延续性好，其内透声性良好，未见明显占位性病变。</td>\n",
       "      <td>None</td>\n",
       "      <td>...</td>\n",
       "      <td>None</td>\n",
       "      <td>None</td>\n",
       "      <td>None</td>\n",
       "      <td>None</td>\n",
       "      <td>None</td>\n",
       "      <td>None</td>\n",
       "      <td>None</td>\n",
       "      <td>None</td>\n",
       "      <td>None</td>\n",
       "      <td>None</td>\n",
       "    </tr>\n",
       "    <tr>\n",
       "      <th>000401cbf304d5a8bd862a81bacfa494</th>\n",
       "      <td>双侧乳腺腺体层轻度增厚,内部结构稍紊乱,回声欠均匀，CDFI：未见异常血流。;双侧甲状腺形态...</td>\n",
       "      <td>肝:脂肪肝（轻度）胆、胰、脾、左肾、右肾未发现明显异常;双侧乳腺轻度增生;子宫:宫颈囊肿（多...</td>\n",
       "      <td>肝脏形态大小正常，轮廓规整，肝内回声呈点状密集弥漫性增强，肝内管道结构尚清晰。</td>\n",
       "      <td>胆囊大小正常，壁光滑，腔内暗区清晰，胆总管测值正常范围。</td>\n",
       "      <td>胰腺头、体、尾大小测值正常，内回声均匀。</td>\n",
       "      <td>脾脏大小测值正常，回声均匀，脾静脉测值正常。</td>\n",
       "      <td>左肾大小、形态正常，包膜光滑，肾实质回声均匀，集合系统未见明显分离。</td>\n",
       "      <td>右肾形态大小正常，包膜光整，实质回声均匀。集合系统未见分离。</td>\n",
       "      <td>None</td>\n",
       "      <td>None</td>\n",
       "      <td>...</td>\n",
       "      <td>None</td>\n",
       "      <td>None</td>\n",
       "      <td>None</td>\n",
       "      <td>None</td>\n",
       "      <td>None</td>\n",
       "      <td>None</td>\n",
       "      <td>None</td>\n",
       "      <td>None</td>\n",
       "      <td>None</td>\n",
       "      <td>None</td>\n",
       "    </tr>\n",
       "    <tr>\n",
       "      <th>00044a586c249c05f0969e45ef03ab9d</th>\n",
       "      <td>双侧乳腺腺体层增厚,内部结构紊乱,回声不均，右侧内可见一低回声区，范围约21×15mm，边界...</td>\n",
       "      <td>双侧乳腺小叶增生右乳腺低回声区，考虑结节,建议医院进一步检查;肝、胆、胰、脾未发现明显异常;...</td>\n",
       "      <td>肝脏大小、形态正常，包膜光整，肝内血管走行较清晰，光点分布尚均匀，其内未见明显异常光团。</td>\n",
       "      <td>胆囊大小、形态正常，囊壁光整，囊腔内透声好，胆总管无扩张。</td>\n",
       "      <td>胰腺大小、形态正常，边缘规整，内部回声均匀，胰管未见扩张。</td>\n",
       "      <td>脾脏大小、形态正常，包膜光整，内光点均匀。</td>\n",
       "      <td>左肾大小、形态正常，包膜光滑，肾实质回声均匀，集合系统未见明显分离。</td>\n",
       "      <td>右肾大小、形态正常，包膜光滑，肾实质回声均匀，集合系统未见明显分离。</td>\n",
       "      <td>膀胱充盈良好，壁光滑，延续性好，其内透声性良好，未见明显占位性病变。</td>\n",
       "      <td>None</td>\n",
       "      <td>...</td>\n",
       "      <td>None</td>\n",
       "      <td>None</td>\n",
       "      <td>None</td>\n",
       "      <td>None</td>\n",
       "      <td>None</td>\n",
       "      <td>None</td>\n",
       "      <td>None</td>\n",
       "      <td>None</td>\n",
       "      <td>None</td>\n",
       "      <td>None</td>\n",
       "    </tr>\n",
       "  </tbody>\n",
       "</table>\n",
       "<p>5 rows × 256 columns</p>\n",
       "</div>"
      ],
      "text/plain": [
       "table_id                                                                       0101  \\\n",
       "vid                                                                                   \n",
       "000330ad1f424114719b7525f400660b  双侧甲状腺大小形态正常，包膜光整，实质回声均匀，光点稍粗，未见明显异常回声。CDFI：血流显...   \n",
       "000381f0069cbf7537e6aac8923034ae                                               None   \n",
       "0003848ebd8d8163603760d53d975693  双侧乳腺腺体层增厚,内部结构紊乱,回声不均，未见异常血流。;双侧甲状腺大小形态正常，包膜尚完...   \n",
       "000401cbf304d5a8bd862a81bacfa494  双侧乳腺腺体层轻度增厚,内部结构稍紊乱,回声欠均匀，CDFI：未见异常血流。;双侧甲状腺形态...   \n",
       "00044a586c249c05f0969e45ef03ab9d  双侧乳腺腺体层增厚,内部结构紊乱,回声不均，右侧内可见一低回声区，范围约21×15mm，边界...   \n",
       "\n",
       "table_id                                                                       0102  \\\n",
       "vid                                                                                   \n",
       "000330ad1f424114719b7525f400660b  甲状腺彩超（含颈部淋巴细胞）未发现明显异常;前列腺:前列腺稍大膀胱、双侧输尿管未发现明显异常...   \n",
       "000381f0069cbf7537e6aac8923034ae  左肾、右肾、膀胱、双侧输尿管未发现明显异常;子宫:绝经后子宫左附件、右附件未发现明显异常;肝...   \n",
       "0003848ebd8d8163603760d53d975693  左肾、右肾、膀胱、双侧输尿管未发现明显异常;双侧乳腺小叶增生;甲状腺双叶回声不均匀,建议甲功...   \n",
       "000401cbf304d5a8bd862a81bacfa494  肝:脂肪肝（轻度）胆、胰、脾、左肾、右肾未发现明显异常;双侧乳腺轻度增生;子宫:宫颈囊肿（多...   \n",
       "00044a586c249c05f0969e45ef03ab9d  双侧乳腺小叶增生右乳腺低回声区，考虑结节,建议医院进一步检查;肝、胆、胰、脾未发现明显异常;...   \n",
       "\n",
       "table_id                                                                  0113  \\\n",
       "vid                                                                              \n",
       "000330ad1f424114719b7525f400660b                肝脏大小、形态正常，包膜光整，肝内血管走行较清晰，回声均匀。   \n",
       "000381f0069cbf7537e6aac8923034ae       肝脏形态大小正常，轮廓规整，肝内回声呈点状密集弥漫性增强，肝内管道结构尚清晰。   \n",
       "0003848ebd8d8163603760d53d975693  肝脏大小、形态正常，包膜光整，肝内血管走行较清晰，光点分布尚均匀，其内未见明显异常光团。   \n",
       "000401cbf304d5a8bd862a81bacfa494       肝脏形态大小正常，轮廓规整，肝内回声呈点状密集弥漫性增强，肝内管道结构尚清晰。   \n",
       "00044a586c249c05f0969e45ef03ab9d  肝脏大小、形态正常，包膜光整，肝内血管走行较清晰，光点分布尚均匀，其内未见明显异常光团。   \n",
       "\n",
       "table_id                                                   0114  \\\n",
       "vid                                                               \n",
       "000330ad1f424114719b7525f400660b  胆囊大小、形态正常，囊壁光整，囊腔内透声好，胆总管无扩张。   \n",
       "000381f0069cbf7537e6aac8923034ae  胆囊大小、形态正常，囊壁光整，囊腔内透声好，胆总管无扩张。   \n",
       "0003848ebd8d8163603760d53d975693  胆囊大小、形态正常，囊壁光整，囊腔内透声好，胆总管无扩张。   \n",
       "000401cbf304d5a8bd862a81bacfa494   胆囊大小正常，壁光滑，腔内暗区清晰，胆总管测值正常范围。   \n",
       "00044a586c249c05f0969e45ef03ab9d  胆囊大小、形态正常，囊壁光整，囊腔内透声好，胆总管无扩张。   \n",
       "\n",
       "table_id                                                   0115  \\\n",
       "vid                                                               \n",
       "000330ad1f424114719b7525f400660b  胰腺大小、形态正常，边缘规整，内部回声均匀，胰管未见扩张。   \n",
       "000381f0069cbf7537e6aac8923034ae                           None   \n",
       "0003848ebd8d8163603760d53d975693  胰腺大小、形态正常，边缘规整，内部回声均匀，胰管未见扩张。   \n",
       "000401cbf304d5a8bd862a81bacfa494           胰腺头、体、尾大小测值正常，内回声均匀。   \n",
       "00044a586c249c05f0969e45ef03ab9d  胰腺大小、形态正常，边缘规整，内部回声均匀，胰管未见扩张。   \n",
       "\n",
       "table_id                                            0116  \\\n",
       "vid                                                        \n",
       "000330ad1f424114719b7525f400660b    脾脏大小、形态正常，包膜光整，回声均匀。   \n",
       "000381f0069cbf7537e6aac8923034ae    脾脏大小、形态正常，包膜光整，回声均匀。   \n",
       "0003848ebd8d8163603760d53d975693   脾脏大小、形态正常，包膜光整，内光点均匀。   \n",
       "000401cbf304d5a8bd862a81bacfa494  脾脏大小测值正常，回声均匀，脾静脉测值正常。   \n",
       "00044a586c249c05f0969e45ef03ab9d   脾脏大小、形态正常，包膜光整，内光点均匀。   \n",
       "\n",
       "table_id                                                        0117  \\\n",
       "vid                                                                    \n",
       "000330ad1f424114719b7525f400660b  左肾大小、形态正常，包膜光滑，肾实质回声均匀，集合系统未见明显分离。   \n",
       "000381f0069cbf7537e6aac8923034ae  左肾大小、形态正常，包膜光滑，肾实质回声均匀，集合系统未见明显分离。   \n",
       "0003848ebd8d8163603760d53d975693  左肾大小、形态正常，包膜光滑，肾实质回声均匀，集合系统未见明显分离。   \n",
       "000401cbf304d5a8bd862a81bacfa494  左肾大小、形态正常，包膜光滑，肾实质回声均匀，集合系统未见明显分离。   \n",
       "00044a586c249c05f0969e45ef03ab9d  左肾大小、形态正常，包膜光滑，肾实质回声均匀，集合系统未见明显分离。   \n",
       "\n",
       "table_id                                                        0118  \\\n",
       "vid                                                                    \n",
       "000330ad1f424114719b7525f400660b  右肾大小、形态正常，包膜光滑，肾实质回声均匀，集合系统未见明显分离。   \n",
       "000381f0069cbf7537e6aac8923034ae  右肾大小、形态正常，包膜光滑，肾实质回声均匀，集合系统未见明显分离。   \n",
       "0003848ebd8d8163603760d53d975693  右肾大小、形态正常，包膜光滑，肾实质回声均匀，集合系统未见明显分离。   \n",
       "000401cbf304d5a8bd862a81bacfa494      右肾形态大小正常，包膜光整，实质回声均匀。集合系统未见分离。   \n",
       "00044a586c249c05f0969e45ef03ab9d  右肾大小、形态正常，包膜光滑，肾实质回声均匀，集合系统未见明显分离。   \n",
       "\n",
       "table_id                                                        0119  \\\n",
       "vid                                                                    \n",
       "000330ad1f424114719b7525f400660b  膀胱充盈良好，壁光滑，延续性好，其内透声性良好，未见明显占位性病变。   \n",
       "000381f0069cbf7537e6aac8923034ae  膀胱充盈良好，壁光滑，延续性好，其内透声性良好，未见明显占位性病变。   \n",
       "0003848ebd8d8163603760d53d975693  膀胱充盈良好，壁光滑，延续性好，其内透声性良好，未见明显占位性病变。   \n",
       "000401cbf304d5a8bd862a81bacfa494                                None   \n",
       "00044a586c249c05f0969e45ef03ab9d  膀胱充盈良好，壁光滑，延续性好，其内透声性良好，未见明显占位性病变。   \n",
       "\n",
       "table_id                                                                0120  \\\n",
       "vid                                                                            \n",
       "000330ad1f424114719b7525f400660b  前列腺稍大： 46mm× 40 mm× 30 mm，内回声尚均匀。未见明显异常回声。   \n",
       "000381f0069cbf7537e6aac8923034ae                                        None   \n",
       "0003848ebd8d8163603760d53d975693                                        None   \n",
       "000401cbf304d5a8bd862a81bacfa494                                        None   \n",
       "00044a586c249c05f0969e45ef03ab9d                                        None   \n",
       "\n",
       "table_id                          ...  979019 979020 979021 979022 979023  \\\n",
       "vid                               ...                                       \n",
       "000330ad1f424114719b7525f400660b  ...    None   None   None   None   None   \n",
       "000381f0069cbf7537e6aac8923034ae  ...    None   None   None   None   None   \n",
       "0003848ebd8d8163603760d53d975693  ...    None   None   None   None   None   \n",
       "000401cbf304d5a8bd862a81bacfa494  ...    None   None   None   None   None   \n",
       "00044a586c249c05f0969e45ef03ab9d  ...    None   None   None   None   None   \n",
       "\n",
       "table_id                            A201    A202  A301  A302  A601  \n",
       "vid                                                                 \n",
       "000330ad1f424114719b7525f400660b  详见纸质报告  详见纸质报告  None  None  None  \n",
       "000381f0069cbf7537e6aac8923034ae    None    None  None  None  None  \n",
       "0003848ebd8d8163603760d53d975693    None    None  None  None  None  \n",
       "000401cbf304d5a8bd862a81bacfa494    None    None  None  None  None  \n",
       "00044a586c249c05f0969e45ef03ab9d    None    None  None  None  None  \n",
       "\n",
       "[5 rows x 256 columns]"
      ]
     },
     "execution_count": 19,
     "metadata": {},
     "output_type": "execute_result"
    }
   ],
   "source": [
    "data_keep_50000.head()"
   ]
  }
 ],
 "metadata": {
  "kernelspec": {
   "display_name": "Python 3",
   "language": "python",
   "name": "python3"
  },
  "language_info": {
   "codemirror_mode": {
    "name": "ipython",
    "version": 3
   },
   "file_extension": ".py",
   "mimetype": "text/x-python",
   "name": "python",
   "nbconvert_exporter": "python",
   "pygments_lexer": "ipython3",
   "version": "3.6.5"
  }
 },
 "nbformat": 4,
 "nbformat_minor": 2
}
