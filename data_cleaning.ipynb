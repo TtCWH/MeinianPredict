{
 "cells": [
  {
   "cell_type": "markdown",
   "metadata": {},
   "source": [
    "# 数据清洗、可视化、特征选取"
   ]
  },
  {
   "cell_type": "code",
   "execution_count": 3,
   "metadata": {},
   "outputs": [],
   "source": [
    "import pandas as pd\n",
    "import numpy as np\n",
    "import random as rnd\n",
    "\n",
    "import seaborn as sns\n",
    "import matplotlib.pyplot as plt\n",
    "%matplotlib inline"
   ]
  },
  {
   "cell_type": "markdown",
   "metadata": {},
   "source": [
    "## 导入数据"
   ]
  },
  {
   "cell_type": "code",
   "execution_count": 13,
   "metadata": {},
   "outputs": [],
   "source": [
    "train_df = pd.read_csv('meinian_round1_train_20180408.csv')\n",
    "raw_data1 = pd.read_csv('meinian_round1_data_part1_20180408.txt', sep='$')\n",
    "raw_data2 = pd.read_csv('meinian_round1_data_part2_20180408.txt', sep='$')\n",
    "raw_data = pd.concat([raw_data1, raw_data2])"
   ]
  },
  {
   "cell_type": "code",
   "execution_count": 15,
   "metadata": {},
   "outputs": [
    {
     "name": "stdout",
     "output_type": "stream",
     "text": [
      "(8104368, 3)\n"
     ]
    }
   ],
   "source": [
    "print(raw_data.shape)"
   ]
  },
  {
   "cell_type": "markdown",
   "metadata": {},
   "source": [
    "训练数据的结构：**患者id、检验项目id、检验结果**"
   ]
  },
  {
   "cell_type": "code",
   "execution_count": 14,
   "metadata": {},
   "outputs": [
    {
     "data": {
      "text/html": [
       "<div>\n",
       "<style scoped>\n",
       "    .dataframe tbody tr th:only-of-type {\n",
       "        vertical-align: middle;\n",
       "    }\n",
       "\n",
       "    .dataframe tbody tr th {\n",
       "        vertical-align: top;\n",
       "    }\n",
       "\n",
       "    .dataframe thead th {\n",
       "        text-align: right;\n",
       "    }\n",
       "</style>\n",
       "<table border=\"1\" class=\"dataframe\">\n",
       "  <thead>\n",
       "    <tr style=\"text-align: right;\">\n",
       "      <th></th>\n",
       "      <th>vid</th>\n",
       "      <th>table_id</th>\n",
       "      <th>field_results</th>\n",
       "    </tr>\n",
       "  </thead>\n",
       "  <tbody>\n",
       "    <tr>\n",
       "      <th>0</th>\n",
       "      <td>002d1e4859fafd9ded2a2e1e7c839b62</td>\n",
       "      <td>2403</td>\n",
       "      <td>72.9</td>\n",
       "    </tr>\n",
       "    <tr>\n",
       "      <th>1</th>\n",
       "      <td>002d1e4859fafd9ded2a2e1e7c839b62</td>\n",
       "      <td>2404</td>\n",
       "      <td>166.5</td>\n",
       "    </tr>\n",
       "    <tr>\n",
       "      <th>2</th>\n",
       "      <td>002d1e4859fafd9ded2a2e1e7c839b62</td>\n",
       "      <td>2405</td>\n",
       "      <td>26.30</td>\n",
       "    </tr>\n",
       "    <tr>\n",
       "      <th>3</th>\n",
       "      <td>002d1e4859fafd9ded2a2e1e7c839b62</td>\n",
       "      <td>2420</td>\n",
       "      <td>79</td>\n",
       "    </tr>\n",
       "    <tr>\n",
       "      <th>4</th>\n",
       "      <td>002d1e4859fafd9ded2a2e1e7c839b62</td>\n",
       "      <td>0702</td>\n",
       "      <td>无</td>\n",
       "    </tr>\n",
       "  </tbody>\n",
       "</table>\n",
       "</div>"
      ],
      "text/plain": [
       "                                vid table_id field_results\n",
       "0  002d1e4859fafd9ded2a2e1e7c839b62     2403          72.9\n",
       "1  002d1e4859fafd9ded2a2e1e7c839b62     2404         166.5\n",
       "2  002d1e4859fafd9ded2a2e1e7c839b62     2405         26.30\n",
       "3  002d1e4859fafd9ded2a2e1e7c839b62     2420            79\n",
       "4  002d1e4859fafd9ded2a2e1e7c839b62     0702             无"
      ]
     },
     "execution_count": 14,
     "metadata": {},
     "output_type": "execute_result"
    }
   ],
   "source": [
    "raw_data.head()"
   ]
  },
  {
   "cell_type": "markdown",
   "metadata": {},
   "source": [
    "训练数据的输出的结构"
   ]
  },
  {
   "cell_type": "code",
   "execution_count": 9,
   "metadata": {},
   "outputs": [
    {
     "data": {
      "text/html": [
       "<div>\n",
       "<style scoped>\n",
       "    .dataframe tbody tr th:only-of-type {\n",
       "        vertical-align: middle;\n",
       "    }\n",
       "\n",
       "    .dataframe tbody tr th {\n",
       "        vertical-align: top;\n",
       "    }\n",
       "\n",
       "    .dataframe thead th {\n",
       "        text-align: right;\n",
       "    }\n",
       "</style>\n",
       "<table border=\"1\" class=\"dataframe\">\n",
       "  <thead>\n",
       "    <tr style=\"text-align: right;\">\n",
       "      <th></th>\n",
       "      <th>vid</th>\n",
       "      <th>收缩压</th>\n",
       "      <th>舒张压</th>\n",
       "      <th>血清甘油三酯</th>\n",
       "      <th>血清高密度脂蛋白</th>\n",
       "      <th>血清低密度脂蛋白</th>\n",
       "    </tr>\n",
       "  </thead>\n",
       "  <tbody>\n",
       "    <tr>\n",
       "      <th>0</th>\n",
       "      <td>002d1e4859fafd9ded2a2e1e7c839b62</td>\n",
       "      <td>165</td>\n",
       "      <td>100</td>\n",
       "      <td>2.08</td>\n",
       "      <td>1.29</td>\n",
       "      <td>3.24</td>\n",
       "    </tr>\n",
       "    <tr>\n",
       "      <th>1</th>\n",
       "      <td>92dd479df5e30ab6a0a1cf85ac53efc3</td>\n",
       "      <td>141</td>\n",
       "      <td>97</td>\n",
       "      <td>2.64</td>\n",
       "      <td>1.36</td>\n",
       "      <td>4.75</td>\n",
       "    </tr>\n",
       "    <tr>\n",
       "      <th>2</th>\n",
       "      <td>6bb59d517c4c70f8f50844d24fbd0355</td>\n",
       "      <td>120</td>\n",
       "      <td>80</td>\n",
       "      <td>1.37</td>\n",
       "      <td>1.25</td>\n",
       "      <td>2.66</td>\n",
       "    </tr>\n",
       "    <tr>\n",
       "      <th>3</th>\n",
       "      <td>0ebb42adae512906f7e1135da734ea63</td>\n",
       "      <td>100</td>\n",
       "      <td>70</td>\n",
       "      <td>1.27</td>\n",
       "      <td>2.21</td>\n",
       "      <td>1.73</td>\n",
       "    </tr>\n",
       "    <tr>\n",
       "      <th>4</th>\n",
       "      <td>ebe7811e919109c42c092abbd98b4ca6</td>\n",
       "      <td>110</td>\n",
       "      <td>80</td>\n",
       "      <td>0.8</td>\n",
       "      <td>1.87</td>\n",
       "      <td>2.21</td>\n",
       "    </tr>\n",
       "  </tbody>\n",
       "</table>\n",
       "</div>"
      ],
      "text/plain": [
       "                                vid  收缩压  舒张压 血清甘油三酯  血清高密度脂蛋白  血清低密度脂蛋白\n",
       "0  002d1e4859fafd9ded2a2e1e7c839b62  165  100   2.08      1.29      3.24\n",
       "1  92dd479df5e30ab6a0a1cf85ac53efc3  141   97   2.64      1.36      4.75\n",
       "2  6bb59d517c4c70f8f50844d24fbd0355  120   80   1.37      1.25      2.66\n",
       "3  0ebb42adae512906f7e1135da734ea63  100   70   1.27      2.21      1.73\n",
       "4  ebe7811e919109c42c092abbd98b4ca6  110   80    0.8      1.87      2.21"
      ]
     },
     "execution_count": 9,
     "metadata": {},
     "output_type": "execute_result"
    }
   ],
   "source": [
    "train_df.head()"
   ]
  },
  {
   "cell_type": "code",
   "execution_count": null,
   "metadata": {
    "collapsed": true
   },
   "outputs": [],
   "source": []
  }
 ],
 "metadata": {
  "kernelspec": {
   "display_name": "Python 3",
   "language": "python",
   "name": "python3"
  },
  "language_info": {
   "codemirror_mode": {
    "name": "ipython",
    "version": 3
   },
   "file_extension": ".py",
   "mimetype": "text/x-python",
   "name": "python",
   "nbconvert_exporter": "python",
   "pygments_lexer": "ipython3",
   "version": "3.6.5"
  }
 },
 "nbformat": 4,
 "nbformat_minor": 2
}
