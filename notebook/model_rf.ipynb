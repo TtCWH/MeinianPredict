{
 "cells": [
  {
   "cell_type": "markdown",
   "metadata": {},
   "source": [
    "# 随机森林"
   ]
  },
  {
   "cell_type": "code",
   "execution_count": 2,
   "metadata": {
    "collapsed": true
   },
   "outputs": [],
   "source": [
    "import pandas as pd\n",
    "import numpy as np\n",
    "import random as rnd\n",
    "\n",
    "import seaborn as sns\n",
    "import matplotlib.pyplot as plt\n",
    "%matplotlib inline"
   ]
  },
  {
   "cell_type": "code",
   "execution_count": 3,
   "metadata": {
    "collapsed": true
   },
   "outputs": [],
   "source": [
    "pd.set_option('display.max_columns', 500)"
   ]
  },
  {
   "cell_type": "markdown",
   "metadata": {},
   "source": [
    "### 导入数据"
   ]
  },
  {
   "cell_type": "code",
   "execution_count": 6,
   "metadata": {},
   "outputs": [],
   "source": [
    "train_df = pd.read_pickle('../data/data_train.pkl')\n",
    "test_df = pd.read_pickle('../data/data_test.pkl')"
   ]
  },
  {
   "cell_type": "markdown",
   "metadata": {},
   "source": [
    "### *可参考的一些处理错误数据的方法"
   ]
  },
  {
   "cell_type": "code",
   "execution_count": null,
   "metadata": {
    "collapsed": true
   },
   "outputs": [],
   "source": [
    "# 可以对一些明显错误的数据进行修改，数据量很小，后来选择直接改成 NaN\n",
    "# train_df[train_df['100006'].str.contains(r'[0-9]')==False]['100006']\n",
    "# train_df[train_df['269004'].str.contains(r'[0-9]')==False]['269004']\n",
    "# train_df[train_df['269005'].str.contains(r'[0-9]')==False]['269005']"
   ]
  },
  {
   "cell_type": "code",
   "execution_count": null,
   "metadata": {
    "collapsed": true
   },
   "outputs": [],
   "source": [
    "# **把所有为`---`的值改为NaN**\n",
    "\n",
    "# train_df.replace(to_replace=r'\\-+', value=np.nan, inplace=True, regex=True)\n",
    "\n",
    "# for col in test_df.describe().columns.values:\n",
    "#     if col not in train_df.describe().columns.values:\n",
    "#         train_df[col] = pd.to_numeric(train_df[col], downcast='float', errors='ignore')"
   ]
  },
  {
   "cell_type": "code",
   "execution_count": null,
   "metadata": {
    "collapsed": true
   },
   "outputs": [],
   "source": [
    "# 只是多了两列特征，因为不只是---的问题\n",
    "\n",
    "# train_df[train_df['269004'].str.match(r'^(-?\\d+\\.\\d+)?;(-?\\d+\\.\\d+)?')==True]['269004']"
   ]
  },
  {
   "cell_type": "code",
   "execution_count": null,
   "metadata": {
    "collapsed": true
   },
   "outputs": [],
   "source": [
    "# **有很多特征值有重复，变成了数值；数值的格式**\n",
    "\n",
    "# train_df.replace(to_replace=r'^(-?\\d+\\.\\d+)?;(-?\\d+\\.\\d+)?', value=r'\\1', inplace=True, regex=True)\n",
    "\n",
    "# train_df.loc[23268]['269004']\n",
    "\n",
    "# for col in test_df.describe().columns.values:\n",
    "#     if col not in train_df.describe().columns.values:\n",
    "#         train_df[col] = pd.to_numeric(train_df[col], downcast='float', errors='ignore')"
   ]
  },
  {
   "cell_type": "code",
   "execution_count": null,
   "metadata": {
    "collapsed": true
   },
   "outputs": [],
   "source": [
    "# 还有几列有问题，print出来看看。\n",
    "\n",
    "# for col in test_df.describe().columns.values:\n",
    "#     if col not in train_df.describe().columns.values:\n",
    "#         print(col)\n",
    "\n",
    "# print(train_df['269012'].count(),\n",
    "# train_df['313'].count(),\n",
    "# train_df['32'].count(),\n",
    "# train_df['38'].count())"
   ]
  },
  {
   "cell_type": "code",
   "execution_count": null,
   "metadata": {
    "collapsed": true
   },
   "outputs": [],
   "source": [
    "# train_df[train_df['269012'].str.match(r'^(-?\\d+)(\\.\\d+)?')==False]['269012']\n",
    "\n",
    "# pd.to_numeric(train_df['269012'], downcast='float')"
   ]
  },
  {
   "cell_type": "code",
   "execution_count": null,
   "metadata": {
    "collapsed": true
   },
   "outputs": [],
   "source": [
    "# 可以看到还有末尾多一个小数点的数据，把小数点去掉\n",
    "\n",
    "# train_df.replace(to_replace=r'^(-?\\d+\\.\\d+)?(-?\\d+)?.$', value=r'\\1', regex=True, inplace=True)"
   ]
  },
  {
   "cell_type": "code",
   "execution_count": null,
   "metadata": {
    "collapsed": true
   },
   "outputs": [],
   "source": [
    "# 处理特例\n",
    "\n",
    "# train_df.loc[26333]['313'] \n",
    "\n",
    "# train_df.loc[26333,['313']] = 189"
   ]
  },
  {
   "cell_type": "code",
   "execution_count": null,
   "metadata": {
    "collapsed": true
   },
   "outputs": [],
   "source": [
    "# for col in test_df.describe().columns.values:\n",
    "#     if col not in train_df.describe().columns.values:\n",
    "#         train_df[col] = pd.to_numeric(train_df[col], downcast='float', errors='ignore') #用apply更好"
   ]
  },
  {
   "cell_type": "markdown",
   "metadata": {},
   "source": [
    "## 用这些特征试试看看简单的算法"
   ]
  },
  {
   "cell_type": "code",
   "execution_count": 7,
   "metadata": {
    "collapsed": true
   },
   "outputs": [],
   "source": [
    "from sklearn.linear_model import LogisticRegression\n",
    "from sklearn.ensemble import RandomForestRegressor\n",
    "from sklearn.tree import DecisionTreeRegressor\n",
    "\n",
    "from sklearn.model_selection import cross_val_score\n",
    "from sklearn.metrics import mean_squared_log_error\n",
    "from sklearn.model_selection import train_test_split\n",
    "from sklearn.model_selection import ShuffleSplit"
   ]
  },
  {
   "cell_type": "code",
   "execution_count": 8,
   "metadata": {
    "collapsed": true
   },
   "outputs": [],
   "source": [
    "feature = train_df.describe().columns.values.tolist()[5:]"
   ]
  },
  {
   "cell_type": "code",
   "execution_count": 9,
   "metadata": {
    "collapsed": true
   },
   "outputs": [],
   "source": [
    "label = train_df.describe().columns.values.tolist()[0:5]"
   ]
  },
  {
   "cell_type": "code",
   "execution_count": 10,
   "metadata": {
    "collapsed": true
   },
   "outputs": [],
   "source": [
    "# X_train = train_df.loc[:,feature].fillna(0)\n",
    "# Y_train = train_df.loc[:,label].fillna(0)\n",
    "# X_test = test_df.loc[:,feature].fillna(0)\n",
    "to_fill = train_df.median()\n",
    "X_train = train_df.loc[:,feature].fillna(to_fill)\n",
    "Y_train = train_df.loc[:,label].fillna(to_fill)\n",
    "X_test = test_df.loc[:,feature].fillna(to_fill)"
   ]
  },
  {
   "cell_type": "code",
   "execution_count": 11,
   "metadata": {},
   "outputs": [
    {
     "data": {
      "text/plain": [
       "((38199, 102), (38199, 5), (9538, 102))"
      ]
     },
     "execution_count": 11,
     "metadata": {},
     "output_type": "execute_result"
    }
   ],
   "source": [
    "X_train.shape, Y_train.shape, X_test.shape"
   ]
  },
  {
   "cell_type": "code",
   "execution_count": 12,
   "metadata": {
    "collapsed": true
   },
   "outputs": [],
   "source": [
    "cv = ShuffleSplit(n_splits=2, test_size=0.3, random_state=0)"
   ]
  },
  {
   "cell_type": "markdown",
   "metadata": {},
   "source": [
    "## 随机森林"
   ]
  },
  {
   "cell_type": "code",
   "execution_count": 13,
   "metadata": {},
   "outputs": [
    {
     "data": {
      "text/plain": [
       "88.25"
      ]
     },
     "execution_count": 13,
     "metadata": {},
     "output_type": "execute_result"
    }
   ],
   "source": [
    "random_forest = RandomForestRegressor(n_estimators=50)\n",
    "random_forest.fit(X_train, Y_train)\n",
    "random_forest.score(X_train, Y_train)\n",
    "acc_random_forest = round(random_forest.score(X_train, Y_train) * 100, 2)\n",
    "acc_random_forest"
   ]
  },
  {
   "cell_type": "code",
   "execution_count": 14,
   "metadata": {},
   "outputs": [
    {
     "data": {
      "text/plain": [
       "array([0.02003366, 0.00698347, 0.00769924, 0.00698916, 0.00285351,\n",
       "       0.01242142, 0.00985131, 0.03987048, 0.00451939, 0.00462626,\n",
       "       0.02399757, 0.0219004 , 0.0052409 , 0.00790981, 0.00760382,\n",
       "       0.01034405, 0.00288485, 0.00651577, 0.00255395, 0.00561864,\n",
       "       0.0228384 , 0.03138345, 0.01226266, 0.00872179, 0.00886891,\n",
       "       0.07189295, 0.02631442, 0.02707126, 0.01858227, 0.01511906,\n",
       "       0.01255644, 0.01640447, 0.01513796, 0.03170879, 0.02078585,\n",
       "       0.13197086, 0.00809862, 0.0100038 , 0.00403926, 0.00398978,\n",
       "       0.00321878, 0.00431074, 0.00420041, 0.00396355, 0.00453524,\n",
       "       0.0049104 , 0.0042572 , 0.00375486, 0.00378437, 0.00375701,\n",
       "       0.00356634, 0.00399506, 0.00346686, 0.00451939, 0.00342612,\n",
       "       0.00370914, 0.00343527, 0.00233851, 0.00306261, 0.00422151,\n",
       "       0.00556237, 0.00514302, 0.00916059, 0.00703782, 0.00908664,\n",
       "       0.01235864, 0.00869908, 0.00876101, 0.00832057, 0.00913274,\n",
       "       0.00909378, 0.00741521, 0.00760713, 0.00726527, 0.00364914,\n",
       "       0.007936  , 0.0070269 , 0.0068253 , 0.00431566, 0.00374346,\n",
       "       0.00404187, 0.00396747, 0.00478835, 0.00296154, 0.00267077,\n",
       "       0.003043  , 0.00275212, 0.00280083, 0.00290647, 0.0026622 ,\n",
       "       0.00255734, 0.00360352, 0.00293691, 0.00377143, 0.00239434,\n",
       "       0.00238853, 0.00347043, 0.00306764, 0.00244835, 0.00267894,\n",
       "       0.00263719, 0.0027084 ])"
      ]
     },
     "execution_count": 14,
     "metadata": {},
     "output_type": "execute_result"
    }
   ],
   "source": [
    "random_forest.feature_importances_"
   ]
  },
  {
   "cell_type": "code",
   "execution_count": 15,
   "metadata": {},
   "outputs": [
    {
     "data": {
      "image/png": "[encoded data removed]",
      "text/plain": [
       "<Figure size 432x288 with 1 Axes>"
      ]
     },
     "metadata": {},
     "output_type": "display_data"
    }
   ],
   "source": [
    "sns.barplot(feature,random_forest.feature_importances_)\n",
    "plt.rcParams['figure.figsize'] = [50, 5]"
   ]
  },
  {
   "cell_type": "code",
   "execution_count": 18,
   "metadata": {},
   "outputs": [
    {
     "data": {
      "text/plain": [
       "array(['2420', '1345', '183', '314', '10002', '2174', '193', '2372',\n",
       "       '2333', '192', '0424', '2404', '1117', '1814', '1115', '190',\n",
       "       '191', '1815', '2403', '10004', '1850', '2405'], dtype=object)"
      ]
     },
     "execution_count": 18,
     "metadata": {},
     "output_type": "execute_result"
    }
   ],
   "source": [
    "feature_importances = pd.DataFrame({'feature': feature, 'importance': random_forest.feature_importances_ })\n",
    "sorted_imp = feature_importances.sort_values(by='importance')\n",
    "sorted_imp[sorted_imp['importance']>0.01].loc[:,'feature'].astype('str').values"
   ]
  },
  {
   "cell_type": "code",
   "execution_count": 17,
   "metadata": {},
   "outputs": [
    {
     "data": {
      "text/html": [
       "<div>\n",
       "<style scoped>\n",
       "    .dataframe tbody tr th:only-of-type {\n",
       "        vertical-align: middle;\n",
       "    }\n",
       "\n",
       "    .dataframe tbody tr th {\n",
       "        vertical-align: top;\n",
       "    }\n",
       "\n",
       "    .dataframe thead th {\n",
       "        text-align: right;\n",
       "    }\n",
       "</style>\n",
       "<table border=\"1\" class=\"dataframe\">\n",
       "  <thead>\n",
       "    <tr style=\"text-align: right;\">\n",
       "      <th></th>\n",
       "      <th>feature</th>\n",
       "      <th>importance</th>\n",
       "    </tr>\n",
       "  </thead>\n",
       "  <tbody>\n",
       "    <tr>\n",
       "      <th>22</th>\n",
       "      <td>183</td>\n",
       "      <td>0.012263</td>\n",
       "    </tr>\n",
       "    <tr>\n",
       "      <th>65</th>\n",
       "      <td>314</td>\n",
       "      <td>0.012359</td>\n",
       "    </tr>\n",
       "    <tr>\n",
       "      <th>5</th>\n",
       "      <td>10002</td>\n",
       "      <td>0.012421</td>\n",
       "    </tr>\n",
       "    <tr>\n",
       "      <th>30</th>\n",
       "      <td>2174</td>\n",
       "      <td>0.012556</td>\n",
       "    </tr>\n",
       "    <tr>\n",
       "      <th>29</th>\n",
       "      <td>193</td>\n",
       "      <td>0.015119</td>\n",
       "    </tr>\n",
       "    <tr>\n",
       "      <th>32</th>\n",
       "      <td>2372</td>\n",
       "      <td>0.015138</td>\n",
       "    </tr>\n",
       "    <tr>\n",
       "      <th>31</th>\n",
       "      <td>2333</td>\n",
       "      <td>0.016404</td>\n",
       "    </tr>\n",
       "    <tr>\n",
       "      <th>28</th>\n",
       "      <td>192</td>\n",
       "      <td>0.018582</td>\n",
       "    </tr>\n",
       "    <tr>\n",
       "      <th>0</th>\n",
       "      <td>0424</td>\n",
       "      <td>0.020034</td>\n",
       "    </tr>\n",
       "    <tr>\n",
       "      <th>34</th>\n",
       "      <td>2404</td>\n",
       "      <td>0.020786</td>\n",
       "    </tr>\n",
       "    <tr>\n",
       "      <th>11</th>\n",
       "      <td>1117</td>\n",
       "      <td>0.021900</td>\n",
       "    </tr>\n",
       "    <tr>\n",
       "      <th>20</th>\n",
       "      <td>1814</td>\n",
       "      <td>0.022838</td>\n",
       "    </tr>\n",
       "    <tr>\n",
       "      <th>10</th>\n",
       "      <td>1115</td>\n",
       "      <td>0.023998</td>\n",
       "    </tr>\n",
       "    <tr>\n",
       "      <th>26</th>\n",
       "      <td>190</td>\n",
       "      <td>0.026314</td>\n",
       "    </tr>\n",
       "    <tr>\n",
       "      <th>27</th>\n",
       "      <td>191</td>\n",
       "      <td>0.027071</td>\n",
       "    </tr>\n",
       "    <tr>\n",
       "      <th>21</th>\n",
       "      <td>1815</td>\n",
       "      <td>0.031383</td>\n",
       "    </tr>\n",
       "    <tr>\n",
       "      <th>33</th>\n",
       "      <td>2403</td>\n",
       "      <td>0.031709</td>\n",
       "    </tr>\n",
       "    <tr>\n",
       "      <th>7</th>\n",
       "      <td>10004</td>\n",
       "      <td>0.039870</td>\n",
       "    </tr>\n",
       "    <tr>\n",
       "      <th>25</th>\n",
       "      <td>1850</td>\n",
       "      <td>0.071893</td>\n",
       "    </tr>\n",
       "    <tr>\n",
       "      <th>35</th>\n",
       "      <td>2405</td>\n",
       "      <td>0.131971</td>\n",
       "    </tr>\n",
       "  </tbody>\n",
       "</table>\n",
       "</div>"
      ],
      "text/plain": [
       "   feature  importance\n",
       "22     183    0.012263\n",
       "65     314    0.012359\n",
       "5    10002    0.012421\n",
       "30    2174    0.012556\n",
       "29     193    0.015119\n",
       "32    2372    0.015138\n",
       "31    2333    0.016404\n",
       "28     192    0.018582\n",
       "0     0424    0.020034\n",
       "34    2404    0.020786\n",
       "11    1117    0.021900\n",
       "20    1814    0.022838\n",
       "10    1115    0.023998\n",
       "26     190    0.026314\n",
       "27     191    0.027071\n",
       "21    1815    0.031383\n",
       "33    2403    0.031709\n",
       "7    10004    0.039870\n",
       "25    1850    0.071893\n",
       "35    2405    0.131971"
      ]
     },
     "execution_count": 17,
     "metadata": {},
     "output_type": "execute_result"
    }
   ],
   "source": [
    "sorted_imp.tail(20)"
   ]
  },
  {
   "cell_type": "code",
   "execution_count": 24,
   "metadata": {
    "collapsed": true
   },
   "outputs": [],
   "source": [
    "# from sklearn.feature_selection import SelectFromModel\n",
    "# model = SelectFromModel(random_forest, prefit=True)\n",
    "# X_train_new = model.transform(X_train)\n",
    "# X_train_new.shape"
   ]
  },
  {
   "cell_type": "code",
   "execution_count": null,
   "metadata": {
    "collapsed": true
   },
   "outputs": [],
   "source": [
    "cross_val_score(random_forest, X_train, Y_train, cv=cv, scoring='neg_mean_squared_log_error')"
   ]
  },
  {
   "cell_type": "code",
   "execution_count": null,
   "metadata": {
    "collapsed": true
   },
   "outputs": [],
   "source": [
    "Y_pred_rf = random_forest.predict(X_test)\n",
    "print((Y_pred_rf<0).sum())\n",
    "Y_pred_rf_df = pd.DataFrame(Y_pred_rf, columns=label)\n",
    "Y_pred_rf_df.head()"
   ]
  },
  {
   "cell_type": "code",
   "execution_count": null,
   "metadata": {
    "collapsed": true
   },
   "outputs": [],
   "source": [
    "Y_pred_rf_df['vid']=test_df['vid']\n",
    "Y_pred_rf_df = Y_pred_rf_df.loc[:, ['vid']+label]"
   ]
  },
  {
   "cell_type": "code",
   "execution_count": null,
   "metadata": {
    "collapsed": true
   },
   "outputs": [],
   "source": [
    "Y_pred_rf_df.to_csv('rf_output.csv',index=False, header=False)"
   ]
  }
 ],
 "metadata": {
  "kernelspec": {
   "display_name": "Python 3",
   "language": "python",
   "name": "python3"
  },
  "language_info": {
   "codemirror_mode": {
    "name": "ipython",
    "version": 3
   },
   "file_extension": ".py",
   "mimetype": "text/x-python",
   "name": "python",
   "nbconvert_exporter": "python",
   "pygments_lexer": "ipython3",
   "version": "3.6.5"
  }
 },
 "nbformat": 4,
 "nbformat_minor": 2
}
