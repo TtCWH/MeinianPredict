{
 "cells": [
  {
   "cell_type": "markdown",
   "metadata": {},
   "source": [
    "# GBDT with LightGBM"
   ]
  },
  {
   "cell_type": "code",
   "execution_count": null,
   "metadata": {
    "collapsed": true
   },
   "outputs": [],
   "source": [
    "import pandas as pd\n",
    "import numpy as np\n",
    "import random as rnd\n",
    "\n",
    "import seaborn as sns\n",
    "import matplotlib.pyplot as plt"
   ]
  },
  {
   "cell_type": "code",
   "execution_count": null,
   "metadata": {
    "collapsed": true
   },
   "outputs": [],
   "source": [
    "pd.set_option('display.max_columns', 500)"
   ]
  },
  {
   "cell_type": "markdown",
   "metadata": {},
   "source": [
    "### 导入数据"
   ]
  },
  {
   "cell_type": "code",
   "execution_count": null,
   "metadata": {
    "collapsed": true
   },
   "outputs": [],
   "source": [
    "train_df = pd.read_csv('data_train.csv', low_memory=False, index_col=0)\n",
    "test_df = pd.read_csv('data_test.csv', low_memory=False, index_col=0)"
   ]
  },
  {
   "cell_type": "markdown",
   "metadata": {},
   "source": [
    "## 处理数据"
   ]
  },
  {
   "cell_type": "code",
   "execution_count": null,
   "metadata": {
    "collapsed": true
   },
   "outputs": [],
   "source": [
    "# from sklearn.linear_model import LogisticRegression\n",
    "# from sklearn.ensemble import RandomForestRegressor\n",
    "# from sklearn.tree import DecisionTreeRegressor\n",
    "\n",
    "from sklearn.model_selection import cross_val_score\n",
    "from sklearn.metrics import mean_squared_log_error\n",
    "from sklearn.model_selection import train_test_split\n",
    "from sklearn.model_selection import ShuffleSplit"
   ]
  },
  {
   "cell_type": "code",
   "execution_count": null,
   "metadata": {
    "collapsed": true
   },
   "outputs": [],
   "source": [
    "feature = train_df.describe().columns.values.tolist()[5:]"
   ]
  },
  {
   "cell_type": "code",
   "execution_count": null,
   "metadata": {},
   "outputs": [],
   "source": [
    "label = train_df.describe().columns.values.tolist()[0:5]\n",
    "print(label)"
   ]
  },
  {
   "cell_type": "code",
   "execution_count": null,
   "metadata": {
    "collapsed": true
   },
   "outputs": [],
   "source": [
    "to_fill = train_df.median()\n",
    "X = train_df.loc[:,feature].fillna(to_fill)\n",
    "Y = train_df.loc[:,label].fillna(to_fill)\n",
    "X_test = test_df.loc[:,feature].fillna(to_fill)\n",
    "# X = train_df.loc[:,feature]\n",
    "# Y = train_df.loc[:,label]\n",
    "# X_test = test_df.loc[:,feature]"
   ]
  },
  {
   "cell_type": "code",
   "execution_count": null,
   "metadata": {},
   "outputs": [],
   "source": [
    "X.head()"
   ]
  },
  {
   "cell_type": "code",
   "execution_count": null,
   "metadata": {},
   "outputs": [],
   "source": [
    "X.shape, Y.shape, X_test.shape"
   ]
  },
  {
   "cell_type": "code",
   "execution_count": null,
   "metadata": {
    "collapsed": true
   },
   "outputs": [],
   "source": [
    "cv = ShuffleSplit(n_splits=2, test_size=0.3, random_state=0)"
   ]
  },
  {
   "cell_type": "markdown",
   "metadata": {},
   "source": [
    "### GBDT"
   ]
  },
  {
   "cell_type": "code",
   "execution_count": null,
   "metadata": {
    "collapsed": true
   },
   "outputs": [],
   "source": [
    "import lightgbm as lgb"
   ]
  },
  {
   "cell_type": "code",
   "execution_count": null,
   "metadata": {},
   "outputs": [],
   "source": [
    "X_train,X_eval,y_train,y_eval = train_test_split(X,Y,test_size=0.2, random_state=0)\n",
    "Y_pred_df = pd.DataFrame()\n",
    "rmse =[]\n",
    "for i in range(5):\n",
    "    lgb_train = lgb.Dataset(X_train, y_train.iloc[:,i])\n",
    "    lgb_eval = lgb.Dataset(X_eval, y_eval.iloc[:,i])\n",
    "\n",
    "    params = {\n",
    "        'learning_rate': 0.02,\n",
    "        'boosting_type': 'gbdt',\n",
    "        'objective': 'rmse',\n",
    "        'metric': 'rmse',\n",
    "        'sub_feature': 0.7,\n",
    "        'num_leaves': 70,\n",
    "        'min_data': 120,\n",
    "        'min_hessian': 1,\n",
    "\n",
    "    }\n",
    "\n",
    "    gbm = lgb.train(params,\n",
    "                    lgb_train,\n",
    "                    num_boost_round=1000,\n",
    "                    valid_sets=lgb_eval,\n",
    "                   )\n",
    "\n",
    "    y_pred = gbm.predict(X_eval, num_iteration=gbm.best_iteration)\n",
    "    y_pred_test = gbm.predict(X_test, num_iteration=gbm.best_iteration)\n",
    "    Y_pred_df[label[i]] = y_pred_test\n",
    "    rmse.append(mean_squared_log_error(y_eval.iloc[:,i], np.ndarray.round(y_pred,3)))\n",
    "    print('The rmse of prediction is:', rmse[i])"
   ]
  },
  {
   "cell_type": "code",
   "execution_count": null,
   "metadata": {},
   "outputs": [],
   "source": [
    "sum(rmse)/5"
   ]
  },
  {
   "cell_type": "code",
   "execution_count": null,
   "metadata": {},
   "outputs": [],
   "source": [
    "# %matplotlib tk\n",
    "lgb.plot_importance(gbm, max_num_features=50)"
   ]
  },
  {
   "cell_type": "code",
   "execution_count": null,
   "metadata": {},
   "outputs": [],
   "source": [
    "rmse"
   ]
  },
  {
   "cell_type": "code",
   "execution_count": null,
   "metadata": {},
   "outputs": [],
   "source": [
    "Y_pred_df.head()"
   ]
  },
  {
   "cell_type": "code",
   "execution_count": null,
   "metadata": {
    "collapsed": true
   },
   "outputs": [],
   "source": [
    "Y_pred_df['vid']=test_df['vid']\n",
    "Y_pred_gbdt_df = Y_pred_df.loc[:, ['vid']+label]\n",
    "Y_pred_gbdt_df.to_csv('gbdt_output.csv',index=False, header=False)"
   ]
  },
  {
   "cell_type": "markdown",
   "metadata": {},
   "source": [
    "## 回归树"
   ]
  },
  {
   "cell_type": "code",
   "execution_count": null,
   "metadata": {
    "collapsed": true
   },
   "outputs": [],
   "source": [
    "# regr = DecisionTreeRegressor()\n",
    "# regr.fit(X_train, Y_train)\n",
    "# acc_decision_tree = round(regr.score(X_train, Y_train) * 100, 2)\n",
    "# acc_decision_tree\n",
    "\n",
    "# Y_pred_regr = regr.predict(X_test)\n",
    "# Y_pred_regr_df = pd.DataFrame(Y_pred_regr, columns=label)\n",
    "# Y_pred_regr_df.head()\n",
    "\n",
    "# Y_pred_regr_df['vid']=test_df['vid']\n",
    "# Y_pred_regr_df = Y_pred_regr_df.loc[:, ['vid']+label]\n",
    "\n",
    "# Y_pred_regr_df.to_csv('regr_output.csv',index=False, header=False)"
   ]
  },
  {
   "cell_type": "markdown",
   "metadata": {},
   "source": [
    "### *可参考的一些处理错误数据的方法"
   ]
  },
  {
   "cell_type": "code",
   "execution_count": null,
   "metadata": {
    "collapsed": true
   },
   "outputs": [],
   "source": [
    "# 可以对一些明显错误的数据进行修改，数据量很小，后来选择直接改成 NaN\n",
    "# train_df[train_df['100006'].str.contains(r'[0-9]')==False]['100006']\n",
    "# train_df[train_df['269004'].str.contains(r'[0-9]')==False]['269004']\n",
    "# train_df[train_df['269005'].str.contains(r'[0-9]')==False]['269005']\n",
    "# **把所有为`---`的值改为NaN**\n",
    "\n",
    "# train_df.replace(to_replace=r'\\-+', value=np.nan, inplace=True, regex=True)\n",
    "\n",
    "# for col in test_df.describe().columns.values:\n",
    "#     if col not in train_df.describe().columns.values:\n",
    "#         train_df[col] = pd.to_numeric(train_df[col], downcast='float', errors='ignore')\n",
    "\n",
    "# 只是多了两列特征，因为不只是---的问题\n",
    "\n",
    "# train_df[train_df['269004'].str.match(r'^(-?\\d+\\.\\d+)?;(-?\\d+\\.\\d+)?')==True]['269004']\n",
    "\n",
    "# **有很多特征值有重复，变成了数值；数值的格式**\n",
    "\n",
    "# train_df.replace(to_replace=r'^(-?\\d+\\.\\d+)?;(-?\\d+\\.\\d+)?', value=r'\\1', inplace=True, regex=True)\n",
    "\n",
    "# train_df.loc[23268]['269004']\n",
    "\n",
    "# for col in test_df.describe().columns.values:\n",
    "#     if col not in train_df.describe().columns.values:\n",
    "#         train_df[col] = pd.to_numeric(train_df[col], downcast='float', errors='ignore')\n",
    "\n",
    "# 还有几列有问题，print出来看看。\n",
    "\n",
    "# for col in test_df.describe().columns.values:\n",
    "#     if col not in train_df.describe().columns.values:\n",
    "#         print(col)\n",
    "\n",
    "# print(train_df['269012'].count(),\n",
    "# train_df['313'].count(),\n",
    "# train_df['32'].count(),\n",
    "# train_df['38'].count())\n",
    "\n",
    "# train_df[train_df['269012'].str.match(r'^(-?\\d+)(\\.\\d+)?')==False]['269012']\n",
    "\n",
    "# pd.to_numeric(train_df['269012'], downcast='float')\n",
    "\n",
    "# 可以看到还有末尾多一个小数点的数据，把小数点去掉\n",
    "\n",
    "# train_df.replace(to_replace=r'^(-?\\d+\\.\\d+)?(-?\\d+)?.$', value=r'\\1', regex=True, inplace=True)\n",
    "\n",
    "# 处理特例\n",
    "\n",
    "# train_df.loc[26333]['313'] \n",
    "\n",
    "# train_df.loc[26333,['313']] = 189\n",
    "\n",
    "# for col in test_df.describe().columns.values:\n",
    "#     if col not in train_df.describe().columns.values:\n",
    "#         train_df[col] = pd.to_numeric(train_df[col], downcast='float', errors='ignore') #用apply更好"
   ]
  }
 ],
 "metadata": {
  "kernelspec": {
   "display_name": "Python 3",
   "language": "python",
   "name": "python3"
  },
  "language_info": {
   "codemirror_mode": {
    "name": "ipython",
    "version": 3
   },
   "file_extension": ".py",
   "mimetype": "text/x-python",
   "name": "python",
   "nbconvert_exporter": "python",
   "pygments_lexer": "ipython3",
   "version": "3.6.5"
  }
 },
 "nbformat": 4,
 "nbformat_minor": 2
}
