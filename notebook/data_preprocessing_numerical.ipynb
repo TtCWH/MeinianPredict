{
 "cells": [
  {
   "cell_type": "code",
   "execution_count": 7,
   "metadata": {},
   "outputs": [],
   "source": [
    "import numpy as np\n",
    "import pandas as pd\n",
    "import re\n",
    "import warnings\n",
    "\n",
    "warnings.filterwarnings(\"ignore\")\n",
    "\n",
    "pd.set_option('display.max_columns', 500)\n",
    "pd.set_option('display.max_rows', 50)"
   ]
  },
  {
   "cell_type": "code",
   "execution_count": 8,
   "metadata": {},
   "outputs": [],
   "source": [
    "data = pd.read_pickle('../data/data_keep_57200.pkl')\n",
    "train_df = pd.read_csv('../data/meinian_round1_train_20180408.csv')\n",
    "test_df = pd.read_csv('../data/meinian_round1_test_a_20180409.csv')\n",
    "\n",
    "# 通过 describe 查看特征的类型，标准差，修正类型和异常数据\n",
    "train_df['收缩压'] = pd.to_numeric(train_df['收缩压'], errors='coerce')\n",
    "train_df['舒张压'] = pd.to_numeric(train_df['舒张压'], errors='coerce')\n",
    "train_df.loc[22712, '血清甘油三酯'] = 7.75\n",
    "train_df['血清甘油三酯'] = pd.to_numeric(train_df['血清甘油三酯'], errors='coerce')\n",
    "# train_df['舒张压'].sort_values(ascending=False)[:5]\n",
    "train_df.loc[22357, '舒张压'] = np.nan\n",
    "train_df.loc[29394, '舒张压'] = np.nan\n",
    "train_df.loc[29394, '收缩压'] = np.nan\n",
    "train_df['血清低密度脂蛋白'][train_df['血清低密度脂蛋白']<0] = 0"
   ]
  },
  {
   "cell_type": "code",
   "execution_count": 9,
   "metadata": {},
   "outputs": [],
   "source": [
    "data['vid'] = data.index"
   ]
  },
  {
   "cell_type": "code",
   "execution_count": 10,
   "metadata": {},
   "outputs": [],
   "source": [
    "# 合并数据\n",
    "merged_train_df = pd.merge(train_df, data, on='vid', sort=False)\n",
    "merged_test_df = pd.merge(test_df, data, on='vid', sort=False)\n",
    "combine = [merged_train_df, merged_test_df]"
   ]
  },
  {
   "cell_type": "code",
   "execution_count": 11,
   "metadata": {},
   "outputs": [
    {
     "name": "stdout",
     "output_type": "stream",
     "text": [
      "<class 'pandas.core.frame.DataFrame'>\n",
      "Int64Index: 38199 entries, 0 to 38198\n",
      "Columns: 1141 entries, vid to Y79001\n",
      "dtypes: float64(5), object(1136)\n",
      "memory usage: 332.8+ MB\n",
      "None\n"
     ]
    }
   ],
   "source": [
    "print(merged_train_df.info())"
   ]
  },
  {
   "cell_type": "code",
   "execution_count": 12,
   "metadata": {},
   "outputs": [],
   "source": [
    "# 数值成分字典\n",
    "feature_num_prop = {}\n",
    "\n",
    "def get_num_prop(data_col):\n",
    "    num_counts = data_col.astype(\n",
    "        str).str.match(r'^(-?\\d+)(\\.\\d+)?$').sum()\n",
    "    na_counts = data_col.isna().sum()\n",
    "    return num_counts / (data_col.shape[0] - na_counts)\n",
    "\n",
    "for col in merged_train_df.columns.values:\n",
    "    feature_num_prop[col] = get_num_prop(merged_train_df[col])\n",
    "\n",
    "# label = numerical_feature[0:5]        \n",
    "# numerical_feature = numerical_feature[5:]\n",
    "# print('numerical feature count: %s' %len(numerical_feature))\n",
    "# print(numerical_feature)"
   ]
  },
  {
   "cell_type": "code",
   "execution_count": 13,
   "metadata": {},
   "outputs": [],
   "source": [
    "num_more_than_05 = [k for k,v in feature_num_prop.items() if v > 0.5 ]\n",
    "num_more_than_01 = [k for k,v in feature_num_prop.items() if 0.1 < v <= 0.5 ]\n",
    "num_less_than_01 = [k for k,v in feature_num_prop.items() if v <= 0.1 ]"
   ]
  },
  {
   "cell_type": "code",
   "execution_count": 14,
   "metadata": {},
   "outputs": [
    {
     "data": {
      "text/plain": [
       "(662, 29, 450)"
      ]
     },
     "execution_count": 14,
     "metadata": {},
     "output_type": "execute_result"
    }
   ],
   "source": [
    "len(num_more_than_05),len(num_more_than_01),len(num_less_than_01)"
   ]
  },
  {
   "cell_type": "code",
   "execution_count": null,
   "metadata": {},
   "outputs": [],
   "source": [
    "'0124' in num_less_than_01"
   ]
  },
  {
   "cell_type": "code",
   "execution_count": null,
   "metadata": {},
   "outputs": [],
   "source": [
    "def search_non_numeric(data):\n",
    "    if not re.search(r'^(-?\\d+)(\\.\\d+)?$', data) and data!='nan':\n",
    "        non_numeric.append(data)\n",
    "\n",
    "# non_numeric = []\n",
    "# # applymap 会有问题，第一列会操作两次\n",
    "# for col in numerical_feature:\n",
    "#     non_numeric.append('----'+col+'----')\n",
    "#     temp = merged_train_df[col].astype('str').apply(search_non_numeric)\n",
    "# for col in numerical_feature:\n",
    "#     non_numeric.append('----'+col+'----')\n",
    "#     temp = merged_test_df[col].astype('str').apply(search_non_numeric)"
   ]
  },
  {
   "cell_type": "code",
   "execution_count": null,
   "metadata": {},
   "outputs": [],
   "source": [
    "# len(non_numeric)"
   ]
  },
  {
   "cell_type": "code",
   "execution_count": null,
   "metadata": {},
   "outputs": [],
   "source": [
    "# with open('mix_in_numeric.txt', 'w') as f:\n",
    "#     for t in non_numeric:\n",
    "#         f.write(t+'\\n')"
   ]
  },
  {
   "cell_type": "code",
   "execution_count": null,
   "metadata": {},
   "outputs": [],
   "source": [
    "def print_non_num(feature_series):\n",
    "    print(feature_series[feature_series.str.match(r'^(-?\\d+)(\\.\\d+)?$')==False])"
   ]
  },
  {
   "cell_type": "code",
   "execution_count": null,
   "metadata": {},
   "outputs": [],
   "source": [
    "def convert_mixed_num(data):\n",
    "    data = data.strip()\n",
    "    special_cases = ['未见','阴性']\n",
    "    try:\n",
    "        ret = float(data)\n",
    "        return ret if data >=0 else np.nan\n",
    "    except:\n",
    "        if data in special_cases:\n",
    "            return 0\n",
    "        all_match = re.findall(r'\\d+\\.?\\d*', data) # 注意：不带负号\n",
    "        if all_match:\n",
    "            all_list = [float(i) for i in all_match]\n",
    "            return sum(all_list)/len(all_list)    # 取均值\n",
    "        else:\n",
    "            return np.nan"
   ]
  },
  {
   "cell_type": "code",
   "execution_count": null,
   "metadata": {},
   "outputs": [],
   "source": [
    "import matplotlib.pyplot as plt\n",
    "import seaborn as sns\n",
    "\n",
    "test = merged_train_df['269023'].astype(\n",
    "        'str').apply(convert_mixed_num).dropna()\n",
    "sns.distplot(test)\n",
    "plt.show()"
   ]
  },
  {
   "cell_type": "code",
   "execution_count": null,
   "metadata": {},
   "outputs": [],
   "source": [
    "merged_train_df.loc[32230,'1850'] = 3.89\n",
    "merged_train_df.loc[[2527,3027],'192'] = 16.07, 12.01\n",
    "merged_train_df.loc[3163,'193'] = np.nan\n",
    "merged_train_df.loc[6055,'2333'] = 5.0    # 多了小数点\n",
    "merged_train_df.loc[5085,'269013']    # 未见，映射成0\n",
    "merged_train_df.loc[[8551,8840,9072,9309],'3193'] = '>=1.030'\n",
    "merged_test_df.loc[2327, '3193'] = '>=1.030'\n",
    "merged_test_df.loc[2327, '1840'] = '<=5.0'"
   ]
  },
  {
   "cell_type": "code",
   "execution_count": null,
   "metadata": {},
   "outputs": [],
   "source": [
    "merged_train_df.loc[21196,'2405'] = np.nan  # 异常大\n",
    "merged_train_df.loc[33729,'0424'] = np.nan\n",
    "merged_train_df.loc[21196,'2403'] = np.nan"
   ]
  },
  {
   "cell_type": "code",
   "execution_count": null,
   "metadata": {},
   "outputs": [],
   "source": [
    "# RF 得到的特征重要性, 暂时不要 drop\n",
    "# low_importance = ['269024', '979013', '979018', '1325', '979014', '1326']\n",
    "\n",
    "for df in combine:\n",
    "    df[numerical_feature] = df[numerical_feature].astype(\n",
    "    'str').applymap(convert_mixed_num)\n",
    "    # to_fill = df[numerical_feature].median()\n",
    "    # df[numerical_feature] = preprocessing.robust_scale(df[numerical_feature].fillna(to_fill))\n",
    "    # df.drop(columns=low_importance, inplace=True)    # 去掉不重要的特征\n",
    "\n",
    "need_log1p = ['100007', '1117', '1127', '1814', '1815', '183']\n",
    "for col in need_log1p:\n",
    "    for df in combine:\n",
    "        df[col] = np.log1p(df[col])"
   ]
  },
  {
   "cell_type": "code",
   "execution_count": null,
   "metadata": {},
   "outputs": [],
   "source": [
    "numerical_feature = [i for i in numerical_feature if i not in low_importance]"
   ]
  },
  {
   "cell_type": "code",
   "execution_count": null,
   "metadata": {},
   "outputs": [],
   "source": [
    "label_numerical_df = merged_train_df[label + numerical_feature]"
   ]
  },
  {
   "cell_type": "code",
   "execution_count": null,
   "metadata": {},
   "outputs": [],
   "source": [
    "# corr = label_numerical_df.corr()\n",
    "# sns.pairplot(corr)"
   ]
  },
  {
   "cell_type": "code",
   "execution_count": null,
   "metadata": {},
   "outputs": [],
   "source": [
    "# plt.show()"
   ]
  },
  {
   "cell_type": "code",
   "execution_count": null,
   "metadata": {
    "scrolled": true
   },
   "outputs": [],
   "source": [
    "merged_test_df.describe()"
   ]
  },
  {
   "cell_type": "code",
   "execution_count": null,
   "metadata": {},
   "outputs": [],
   "source": [
    "merged_train_df['2403'].dropna().sort_values().tail()"
   ]
  },
  {
   "cell_type": "code",
   "execution_count": null,
   "metadata": {},
   "outputs": [],
   "source": [
    "# test = merged_train_df['100007'].dropna()\n",
    "test = merged_train_df['2174']\n",
    "sns.distplot(test.dropna())\n",
    "plt.show()"
   ]
  },
  {
   "cell_type": "code",
   "execution_count": null,
   "metadata": {},
   "outputs": [],
   "source": [
    "# %matplotlib inline\n",
    "# fig = plt.gcf()\n",
    "# fig.set_size_inches(18, 18)\n",
    "# sns.heatmap(merged_train_df[label+numerical_feature].corr())\n",
    "# plt.show()"
   ]
  },
  {
   "cell_type": "code",
   "execution_count": null,
   "metadata": {},
   "outputs": [],
   "source": [
    "merged_train_df.info()"
   ]
  },
  {
   "cell_type": "code",
   "execution_count": null,
   "metadata": {},
   "outputs": [],
   "source": [
    "merged_train_df[numerical_feature].describe()"
   ]
  },
  {
   "cell_type": "code",
   "execution_count": null,
   "metadata": {},
   "outputs": [],
   "source": [
    "# abnormal_num = []\n",
    "# for col in numerical_feature:\n",
    "#     if merged_train_df[col].max() > 1000:\n",
    "#         abnormal_num.append(col)\n",
    "# print(abnormal_num)"
   ]
  },
  {
   "cell_type": "code",
   "execution_count": null,
   "metadata": {},
   "outputs": [],
   "source": [
    "merged_train_df.info()"
   ]
  },
  {
   "cell_type": "code",
   "execution_count": null,
   "metadata": {
    "scrolled": false
   },
   "outputs": [],
   "source": [
    "merged_train_df.describe(include='O')"
   ]
  },
  {
   "cell_type": "code",
   "execution_count": null,
   "metadata": {},
   "outputs": [],
   "source": [
    "# 这行开始\n"
   ]
  },
  {
   "cell_type": "code",
   "execution_count": null,
   "metadata": {},
   "outputs": [],
   "source": [
    "non_numerical_feature = merged_train_df.describe(include='O').columns.values[1:]\n",
    "len(non_numerical_feature)"
   ]
  },
  {
   "cell_type": "code",
   "execution_count": null,
   "metadata": {},
   "outputs": [],
   "source": [
    "non_numerical_df = merged_train_df[non_numerical_feature]\n",
    "non_numerical_desc = non_numerical_df.describe()"
   ]
  },
  {
   "cell_type": "code",
   "execution_count": null,
   "metadata": {},
   "outputs": [],
   "source": [
    "unique_less_than_100 = non_numerical_desc.iloc[1,:][non_numerical_desc.iloc[1,:] < 100].index.values"
   ]
  },
  {
   "cell_type": "code",
   "execution_count": null,
   "metadata": {},
   "outputs": [],
   "source": [
    "len(unique_less_than_100)"
   ]
  },
  {
   "cell_type": "code",
   "execution_count": null,
   "metadata": {},
   "outputs": [],
   "source": [
    "unique_less_than_100"
   ]
  },
  {
   "cell_type": "code",
   "execution_count": 2,
   "metadata": {},
   "outputs": [],
   "source": [
    "# 方便实验，重新载入\n",
    "merged_train_df = pd.read_pickle('../data/data_train_num.pkl')\n",
    "merged_test_df = pd.read_pickle('../data/data_test_num.pkl')\n",
    "combine = [merged_train_df, merged_test_df]"
   ]
  },
  {
   "cell_type": "code",
   "execution_count": null,
   "metadata": {},
   "outputs": [],
   "source": [
    "# 去掉前后空白\n",
    "for col in non_numerical_feature:\n",
    "    merged_train_df.loc[:, col] = merged_train_df.loc[:, col].str.strip()\n",
    "    merged_test_df.loc[:, col] = merged_test_df.loc[:, col].str.strip()\n",
    "# sns.countplot(y='0124', data=merged_train_df, palette=\"Greens_d\");·`"
   ]
  },
  {
   "cell_type": "code",
   "execution_count": null,
   "metadata": {},
   "outputs": [],
   "source": [
    "def converter(pat):\n",
    "    def convert(data):\n",
    "        if data == data:\n",
    "            if re.search(pat, data):\n",
    "                return 0\n",
    "            else:\n",
    "                return 1\n",
    "        return data\n",
    "    return convert"
   ]
  },
  {
   "cell_type": "code",
   "execution_count": null,
   "metadata": {},
   "outputs": [],
   "source": [
    "# 测试转换之后结果\n",
    "for df in combine:\n",
    "    df['0405'] = df['0405'].apply(converter(r'(无|未)')).astype('category')"
   ]
  },
  {
   "cell_type": "code",
   "execution_count": null,
   "metadata": {},
   "outputs": [],
   "source": [
    "for df in combine:\n",
    "    df['1315'] = df['1315'].apply(converter(r'(未|正常)')).astype('category')"
   ]
  },
  {
   "cell_type": "code",
   "execution_count": null,
   "metadata": {},
   "outputs": [],
   "source": [
    "for df in combine:\n",
    "    df['0407'] = df['0407'].apply(converter(r'(未|弃)')).astype('category')"
   ]
  },
  {
   "cell_type": "code",
   "execution_count": null,
   "metadata": {},
   "outputs": [],
   "source": [
    "for df in combine:    \n",
    "    df['0420'] = df['0420'].apply(converter(r'(未|正常)')).astype('category')"
   ]
  },
  {
   "cell_type": "code",
   "execution_count": null,
   "metadata": {},
   "outputs": [],
   "source": [
    "def convert_0421(data):\n",
    "    if data == data:\n",
    "        normal = ['整齐','齐','正常','整','整齐;整齐','齐;齐','未见异常']\n",
    "        if data in normal:\n",
    "            return 0\n",
    "        elif re.search(r'早搏',data):\n",
    "            return 1\n",
    "        elif re.search(r'(不齐|过|窦性)',data):\n",
    "            return 2\n",
    "        elif re.search(r'房颤',data):\n",
    "            return 3\n",
    "        elif re.search(r'齐',data):\n",
    "            return 0\n",
    "    return np.nan\n",
    "for df in combine:    \n",
    "    df['0421'] = df['0421'].apply(convert_0421).astype('category')"
   ]
  },
  {
   "cell_type": "code",
   "execution_count": null,
   "metadata": {},
   "outputs": [],
   "source": [
    "pd.set_option('display.max_rows', 100)"
   ]
  },
  {
   "cell_type": "code",
   "execution_count": 5,
   "metadata": {
    "scrolled": true
   },
   "outputs": [
    {
     "data": {
      "text/plain": [
       "0                  None\n",
       "1                  None\n",
       "2                  None\n",
       "3                  None\n",
       "4       输尿管上段、膀胱壁间段无扩张。\n",
       "5                  None\n",
       "6                  None\n",
       "7                  None\n",
       "8                  None\n",
       "9                  None\n",
       "10                 None\n",
       "11                 None\n",
       "12         双侧输尿管未见明显扩张。\n",
       "13                 None\n",
       "14                 None\n",
       "15                 None\n",
       "16                 None\n",
       "17                 None\n",
       "18                 None\n",
       "19                 None\n",
       "20                 None\n",
       "21      输尿管上段、膀胱壁间段无扩张。\n",
       "22                 None\n",
       "23      输尿管上段、膀胱壁间段无扩张。\n",
       "24                 None\n",
       "             ...       \n",
       "9513    输尿管上段、膀胱壁间段无扩张。\n",
       "9514               None\n",
       "9515               None\n",
       "9516               None\n",
       "9517    输尿管上段、膀胱壁间段无扩张。\n",
       "9518    输尿管上段、膀胱壁间段无扩张。\n",
       "9519               None\n",
       "9520    输尿管上段、膀胱壁间段无扩张。\n",
       "9521    输尿管上段、膀胱壁间段无扩张。\n",
       "9522               None\n",
       "9523               None\n",
       "9524               None\n",
       "9525    输尿管上段、膀胱壁间段无扩张。\n",
       "9526               None\n",
       "9527               None\n",
       "9528               None\n",
       "9529               None\n",
       "9530    输尿管上段、膀胱壁间段无扩张。\n",
       "9531    输尿管上段、膀胱壁间段无扩张。\n",
       "9532    输尿管上段、膀胱壁间段无扩张。\n",
       "9533               None\n",
       "9534               None\n",
       "9535               None\n",
       "9536    输尿管上段、膀胱壁间段无扩张。\n",
       "9537               None\n",
       "Name: 0124, Length: 9538, dtype: object"
      ]
     },
     "execution_count": 5,
     "metadata": {},
     "output_type": "execute_result"
    }
   ],
   "source": [
    "merged_test_df['0124']"
   ]
  },
  {
   "cell_type": "code",
   "execution_count": null,
   "metadata": {
    "scrolled": true
   },
   "outputs": [],
   "source": [
    "merged_train_df['3485'].value_counts()"
   ]
  },
  {
   "cell_type": "code",
   "execution_count": null,
   "metadata": {
    "scrolled": false
   },
   "outputs": [],
   "source": [
    "merged_train_df.groupby('3400').mean().iloc[:,0:5].sort_values(by='收缩压',ascending=False)"
   ]
  },
  {
   "cell_type": "code",
   "execution_count": null,
   "metadata": {},
   "outputs": [],
   "source": [
    "merged_train_df.describe(include='category')"
   ]
  },
  {
   "cell_type": "code",
   "execution_count": null,
   "metadata": {},
   "outputs": [],
   "source": [
    "merged_train_df['0405'].value_counts().index[0]"
   ]
  },
  {
   "cell_type": "code",
   "execution_count": null,
   "metadata": {},
   "outputs": [],
   "source": [
    "cate_feature = merged_train_df.describe(include='category').columns.values.tolist()\n",
    "most_cate = {}\n",
    "for col in cate_feature:\n",
    "    most_cate[col] = merged_train_df[col].value_counts().index[0]"
   ]
  },
  {
   "cell_type": "code",
   "execution_count": null,
   "metadata": {},
   "outputs": [],
   "source": [
    "most_cate"
   ]
  }
 ],
 "metadata": {
  "kernelspec": {
   "display_name": "Python 3",
   "language": "python",
   "name": "python3"
  },
  "language_info": {
   "codemirror_mode": {
    "name": "ipython",
    "version": 3
   },
   "file_extension": ".py",
   "mimetype": "text/x-python",
   "name": "python",
   "nbconvert_exporter": "python",
   "pygments_lexer": "ipython3",
   "version": "3.6.4"
  }
 },
 "nbformat": 4,
 "nbformat_minor": 2
}
