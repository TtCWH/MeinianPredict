{
 "cells": [
  {
   "cell_type": "code",
   "execution_count": 7,
   "metadata": {},
   "outputs": [],
   "source": [
    "import numpy as np\n",
    "import pandas as pd\n",
    "import re\n",
    "import warnings\n",
    "\n",
    "warnings.filterwarnings(\"ignore\")\n",
    "\n",
    "pd.set_option('display.max_columns', 500)\n",
    "pd.set_option('display.max_rows', 200)"
   ]
  },
  {
   "cell_type": "code",
   "execution_count": null,
   "metadata": {},
   "outputs": [],
   "source": [
    "data = pd.read_pickle('../data/data_keep_57200.pkl')\n",
    "train_df = pd.read_csv('../data/meinian_round1_train_20180408.csv')\n",
    "test_df = pd.read_csv('../data/meinian_round1_test_a_20180409.csv')\n",
    "\n",
    "# 通过 describe 查看特征的类型，标准差，修正类型和异常数据\n",
    "train_df['收缩压'] = pd.to_numeric(train_df['收缩压'], errors='coerce')\n",
    "train_df['舒张压'] = pd.to_numeric(train_df['舒张压'], errors='coerce')\n",
    "train_df.loc[22712, '血清甘油三酯'] = 7.75\n",
    "train_df['血清甘油三酯'] = pd.to_numeric(train_df['血清甘油三酯'], errors='coerce')\n",
    "# train_df['舒张压'].sort_values(ascending=False)[:5]\n",
    "train_df.loc[22357, '舒张压'] = np.nan\n",
    "train_df.loc[29394, '舒张压'] = np.nan\n",
    "train_df.loc[29394, '收缩压'] = np.nan\n",
    "train_df['血清低密度脂蛋白'][train_df['血清低密度脂蛋白']<0] = 0"
   ]
  },
  {
   "cell_type": "code",
   "execution_count": null,
   "metadata": {},
   "outputs": [],
   "source": [
    "data['vid'] = data.index"
   ]
  },
  {
   "cell_type": "code",
   "execution_count": null,
   "metadata": {},
   "outputs": [],
   "source": [
    "# 合并数据\n",
    "merged_train_df = pd.merge(train_df, data, on='vid', sort=False)\n",
    "merged_test_df = pd.merge(test_df, data, on='vid', sort=False)\n",
    "combine = [merged_train_df, merged_test_df]"
   ]
  },
  {
   "cell_type": "code",
   "execution_count": null,
   "metadata": {},
   "outputs": [],
   "source": [
    "print(merged_train_df.info())"
   ]
  },
  {
   "cell_type": "code",
   "execution_count": null,
   "metadata": {},
   "outputs": [],
   "source": [
    "# 数值成分字典\n",
    "feature_num_prop = {}\n",
    "\n",
    "def get_num_prop(data_col):\n",
    "    num_counts = data_col.astype(\n",
    "        str).str.match(r'^(-?\\d+)(\\.\\d+)?$').sum()\n",
    "    na_counts = data_col.isna().sum()\n",
    "    return num_counts / (data_col.shape[0] - na_counts)\n",
    "\n",
    "for col in merged_train_df.columns.values:\n",
    "    feature_num_prop[col] = get_num_prop(merged_train_df[col])\n",
    "\n",
    "# label = numerical_feature[0:5]        \n",
    "# numerical_feature = numerical_feature[5:]\n",
    "# print('numerical feature count: %s' %len(numerical_feature))\n",
    "# print(numerical_feature)"
   ]
  },
  {
   "cell_type": "code",
   "execution_count": null,
   "metadata": {},
   "outputs": [],
   "source": [
    "num_more_than_05 = [k for k,v in feature_num_prop.items() if v > 0.5 ]\n",
    "num_more_than_01 = [k for k,v in feature_num_prop.items() if 0.1 < v <= 0.5 ]\n",
    "num_less_than_01 = [k for k,v in feature_num_prop.items() if v <= 0.1 ]"
   ]
  },
  {
   "cell_type": "code",
   "execution_count": null,
   "metadata": {},
   "outputs": [],
   "source": [
    "len(num_more_than_05),len(num_more_than_01),len(num_less_than_01)"
   ]
  },
  {
   "cell_type": "code",
   "execution_count": null,
   "metadata": {
    "scrolled": true
   },
   "outputs": [],
   "source": [
    "print(num_more_than_01)"
   ]
  },
  {
   "cell_type": "code",
   "execution_count": null,
   "metadata": {},
   "outputs": [],
   "source": [
    "'0124' in num_less_than_01"
   ]
  },
  {
   "cell_type": "code",
   "execution_count": null,
   "metadata": {},
   "outputs": [],
   "source": [
    "def search_non_numeric(data):\n",
    "    if not re.search(r'^(-?\\d+)(\\.\\d+)?$', data) and data!='nan':\n",
    "        non_numeric.append(data)\n",
    "\n",
    "# non_numeric = []\n",
    "# # applymap 会有问题，第一列会操作两次\n",
    "# for col in numerical_feature:\n",
    "#     non_numeric.append('----'+col+'----')\n",
    "#     temp = merged_train_df[col].astype('str').apply(search_non_numeric)\n",
    "# for col in numerical_feature:\n",
    "#     non_numeric.append('----'+col+'----')\n",
    "#     temp = merged_test_df[col].astype('str').apply(search_non_numeric)"
   ]
  },
  {
   "cell_type": "code",
   "execution_count": null,
   "metadata": {},
   "outputs": [],
   "source": [
    "# len(non_numeric)"
   ]
  },
  {
   "cell_type": "code",
   "execution_count": null,
   "metadata": {},
   "outputs": [],
   "source": [
    "# with open('mix_in_numeric.txt', 'w') as f:\n",
    "#     for t in non_numeric:\n",
    "#         f.write(t+'\\n')"
   ]
  },
  {
   "cell_type": "code",
   "execution_count": null,
   "metadata": {},
   "outputs": [],
   "source": [
    "def print_non_num(feature_series):\n",
    "    print(feature_series[feature_series.str.match(r'^(-?\\d+)(\\.\\d+)?$')==False])"
   ]
  },
  {
   "cell_type": "code",
   "execution_count": null,
   "metadata": {},
   "outputs": [],
   "source": [
    "def convert_mixed_num(data):\n",
    "    data = data.strip()\n",
    "    special_cases = ['未见','阴性']\n",
    "    try:\n",
    "        ret = float(data)\n",
    "        return ret if data >=0 else np.nan\n",
    "    except:\n",
    "        if data in special_cases:\n",
    "            return 0\n",
    "        all_match = re.findall(r'\\d+\\.?\\d*', data) # 注意：不带负号\n",
    "        if all_match:\n",
    "            all_list = [float(i) for i in all_match]\n",
    "            return sum(all_list)/len(all_list)    # 取均值\n",
    "        else:\n",
    "            return np.nan"
   ]
  },
  {
   "cell_type": "code",
   "execution_count": null,
   "metadata": {},
   "outputs": [],
   "source": [
    "import matplotlib.pyplot as plt\n",
    "import seaborn as sns\n",
    "\n",
    "test = merged_train_df['269023'].astype(\n",
    "        'str').apply(convert_mixed_num).dropna()\n",
    "sns.distplot(test)\n",
    "plt.show()"
   ]
  },
  {
   "cell_type": "code",
   "execution_count": null,
   "metadata": {},
   "outputs": [],
   "source": [
    "merged_train_df.loc[32230,'1850'] = 3.89\n",
    "merged_train_df.loc[[2527,3027],'192'] = 16.07, 12.01\n",
    "merged_train_df.loc[3163,'193'] = np.nan\n",
    "merged_train_df.loc[6055,'2333'] = 5.0    # 多了小数点\n",
    "merged_train_df.loc[5085,'269013']    # 未见，映射成0\n",
    "merged_train_df.loc[[8551,8840,9072,9309],'3193'] = '>=1.030'\n",
    "merged_test_df.loc[2327, '3193'] = '>=1.030'\n",
    "merged_test_df.loc[2327, '1840'] = '<=5.0'"
   ]
  },
  {
   "cell_type": "code",
   "execution_count": null,
   "metadata": {},
   "outputs": [],
   "source": [
    "merged_train_df.loc[21196,'2405'] = np.nan  # 异常大\n",
    "merged_train_df.loc[33729,'0424'] = np.nan\n",
    "merged_train_df.loc[21196,'2403'] = np.nan"
   ]
  },
  {
   "cell_type": "code",
   "execution_count": null,
   "metadata": {},
   "outputs": [],
   "source": [
    "# RF 得到的特征重要性, 暂时不要 drop\n",
    "# low_importance = ['269024', '979013', '979018', '1325', '979014', '1326']\n",
    "\n",
    "for df in combine:\n",
    "    df[numerical_feature] = df[numerical_feature].astype(\n",
    "    'str').applymap(convert_mixed_num)\n",
    "    # to_fill = df[numerical_feature].median()\n",
    "    # df[numerical_feature] = preprocessing.robust_scale(df[numerical_feature].fillna(to_fill))\n",
    "    # df.drop(columns=low_importance, inplace=True)    # 去掉不重要的特征\n",
    "\n",
    "need_log1p = ['100007', '1117', '1127', '1814', '1815', '183']\n",
    "for col in need_log1p:\n",
    "    for df in combine:\n",
    "        df[col] = np.log1p(df[col])"
   ]
  },
  {
   "cell_type": "code",
   "execution_count": null,
   "metadata": {},
   "outputs": [],
   "source": [
    "numerical_feature = [i for i in numerical_feature if i not in low_importance]"
   ]
  },
  {
   "cell_type": "code",
   "execution_count": null,
   "metadata": {},
   "outputs": [],
   "source": [
    "label_numerical_df = merged_train_df[label + numerical_feature]"
   ]
  },
  {
   "cell_type": "code",
   "execution_count": null,
   "metadata": {},
   "outputs": [],
   "source": [
    "# corr = label_numerical_df.corr()\n",
    "# sns.pairplot(corr)"
   ]
  },
  {
   "cell_type": "code",
   "execution_count": null,
   "metadata": {},
   "outputs": [],
   "source": [
    "# plt.show()"
   ]
  },
  {
   "cell_type": "code",
   "execution_count": null,
   "metadata": {
    "scrolled": true
   },
   "outputs": [],
   "source": [
    "merged_test_df.describe()"
   ]
  },
  {
   "cell_type": "code",
   "execution_count": null,
   "metadata": {},
   "outputs": [],
   "source": [
    "merged_train_df['2403'].dropna().sort_values().tail()"
   ]
  },
  {
   "cell_type": "code",
   "execution_count": null,
   "metadata": {},
   "outputs": [],
   "source": [
    "# test = merged_train_df['100007'].dropna()\n",
    "test = merged_train_df['2174']\n",
    "sns.distplot(test.dropna())\n",
    "plt.show()"
   ]
  },
  {
   "cell_type": "code",
   "execution_count": null,
   "metadata": {},
   "outputs": [],
   "source": [
    "# %matplotlib inline\n",
    "# fig = plt.gcf()\n",
    "# fig.set_size_inches(18, 18)\n",
    "# sns.heatmap(merged_train_df[label+numerical_feature].corr())\n",
    "# plt.show()"
   ]
  },
  {
   "cell_type": "code",
   "execution_count": null,
   "metadata": {},
   "outputs": [],
   "source": [
    "merged_train_df.info()"
   ]
  },
  {
   "cell_type": "code",
   "execution_count": null,
   "metadata": {},
   "outputs": [],
   "source": [
    "merged_train_df[numerical_feature].describe()"
   ]
  },
  {
   "cell_type": "code",
   "execution_count": null,
   "metadata": {},
   "outputs": [],
   "source": [
    "# abnormal_num = []\n",
    "# for col in numerical_feature:\n",
    "#     if merged_train_df[col].max() > 1000:\n",
    "#         abnormal_num.append(col)\n",
    "# print(abnormal_num)"
   ]
  },
  {
   "cell_type": "code",
   "execution_count": null,
   "metadata": {},
   "outputs": [],
   "source": [
    "merged_train_df.info()"
   ]
  },
  {
   "cell_type": "code",
   "execution_count": null,
   "metadata": {
    "scrolled": false
   },
   "outputs": [],
   "source": [
    "merged_train_df.describe(include='O')"
   ]
  },
  {
   "cell_type": "code",
   "execution_count": null,
   "metadata": {},
   "outputs": [],
   "source": [
    "# 这行开始\n"
   ]
  },
  {
   "cell_type": "code",
   "execution_count": null,
   "metadata": {},
   "outputs": [],
   "source": [
    "non_numerical_feature = merged_train_df.describe(include='O').columns.values[1:]\n",
    "len(non_numerical_feature)"
   ]
  },
  {
   "cell_type": "code",
   "execution_count": null,
   "metadata": {},
   "outputs": [],
   "source": [
    "non_numerical_df = merged_train_df[non_numerical_feature]\n",
    "non_numerical_desc = non_numerical_df.describe()"
   ]
  },
  {
   "cell_type": "code",
   "execution_count": null,
   "metadata": {},
   "outputs": [],
   "source": [
    "unique_less_than_100 = non_numerical_desc.iloc[1,:][non_numerical_desc.iloc[1,:] < 100].index.values"
   ]
  },
  {
   "cell_type": "code",
   "execution_count": null,
   "metadata": {},
   "outputs": [],
   "source": [
    "len(unique_less_than_100)"
   ]
  },
  {
   "cell_type": "code",
   "execution_count": null,
   "metadata": {},
   "outputs": [],
   "source": [
    "unique_less_than_100"
   ]
  },
  {
   "cell_type": "code",
   "execution_count": 117,
   "metadata": {},
   "outputs": [],
   "source": [
    "# 方便实验，重新载入\n",
    "merged_train_df = pd.read_pickle('../data/data_train_num.pkl')\n",
    "merged_test_df = pd.read_pickle('../data/data_test_num.pkl')\n",
    "combine = [merged_train_df, merged_test_df]"
   ]
  },
  {
   "cell_type": "code",
   "execution_count": null,
   "metadata": {},
   "outputs": [],
   "source": [
    "# 去掉前后空白\n",
    "for col in non_numerical_feature:\n",
    "    merged_train_df.loc[:, col] = merged_train_df.loc[:, col].str.strip()\n",
    "    merged_test_df.loc[:, col] = merged_test_df.loc[:, col].str.strip()\n",
    "# sns.countplot(y='0124', data=merged_train_df, palette=\"Greens_d\");·`"
   ]
  },
  {
   "cell_type": "code",
   "execution_count": null,
   "metadata": {},
   "outputs": [],
   "source": [
    "def converter(pat):\n",
    "    def convert(data):\n",
    "        if pd.isna(data):\n",
    "            if re.search(pat, data):\n",
    "                return 0\n",
    "            else:\n",
    "                return 1\n",
    "        return data\n",
    "    return convert"
   ]
  },
  {
   "cell_type": "code",
   "execution_count": null,
   "metadata": {},
   "outputs": [],
   "source": [
    "# 测试转换之后结果\n",
    "for df in combine:\n",
    "    df['0405'] = df['0405'].apply(converter(r'(无|未)')).astype('category')"
   ]
  },
  {
   "cell_type": "code",
   "execution_count": null,
   "metadata": {},
   "outputs": [],
   "source": [
    "for df in combine:\n",
    "    df['1315'] = df['1315'].apply(converter(r'(未|正常)')).astype('category')"
   ]
  },
  {
   "cell_type": "code",
   "execution_count": null,
   "metadata": {},
   "outputs": [],
   "source": [
    "for df in combine:\n",
    "    df['0407'] = df['0407'].apply(converter(r'(未|弃)')).astype('category')"
   ]
  },
  {
   "cell_type": "code",
   "execution_count": null,
   "metadata": {},
   "outputs": [],
   "source": [
    "for df in combine:    \n",
    "    df['0420'] = df['0420'].apply(converter(r'(未|正常)')).astype('category')"
   ]
  },
  {
   "cell_type": "code",
   "execution_count": null,
   "metadata": {},
   "outputs": [],
   "source": [
    "def convert_0421(data):\n",
    "    if pd.isna(data):\n",
    "        normal = ['整齐','齐','正常','整','整齐;整齐','齐;齐','未见异常']\n",
    "        if data in normal:\n",
    "            return 0\n",
    "        elif re.search(r'早搏',data):\n",
    "            return 1\n",
    "        elif re.search(r'(不齐|过|窦性)',data):\n",
    "            return 2\n",
    "        elif re.search(r'房颤',data):\n",
    "            return 3\n",
    "        elif re.search(r'齐',data):\n",
    "            return 0\n",
    "    return np.nan\n",
    "for df in combine:    \n",
    "    df['0421'] = df['0421'].apply(convert_0421).astype('category')"
   ]
  },
  {
   "cell_type": "code",
   "execution_count": null,
   "metadata": {},
   "outputs": [],
   "source": [
    "pd.set_option('display.max_rows', 100)"
   ]
  },
  {
   "cell_type": "code",
   "execution_count": 34,
   "metadata": {},
   "outputs": [],
   "source": [
    "merged_test_df['0409_0434'] = merged_test_df['0409'] + merged_test_df['0434']"
   ]
  },
  {
   "cell_type": "code",
   "execution_count": 51,
   "metadata": {},
   "outputs": [
    {
     "data": {
      "text/plain": [
       "1257                         低盐低脂饮食，加强运动锻炼，检查血压水平变化。\n",
       "1422          建议：戒烟戒酒，低盐低脂饮食，加强运动锻炼，保持充足睡眠，监测血压水平变化。\n",
       "1435    建议：低盐低脂饮食，加强运动锻炼，保持充足睡眠，规范服用降压药物治疗，监测血压水平变化。\n",
       "1474    建议：低盐低脂饮食，加强运动锻炼，保持充足睡眠，规范服用降压药物治疗，监测血压水平变化。\n",
       "1485                     低盐低脂饮食，规范服用降压药物治疗，监测血压水平变化。\n",
       "1528                               建议：低盐低脂饮食，加强运动锻炼。\n",
       "1609                     低盐低脂饮食，规范服用降压药物治疗，监测血压水平变化。\n",
       "1644    建议：低盐低脂饮食，加强运动锻炼，保持充足睡眠，规范服用降压药物治疗，监测血压水平变化。\n",
       "1726                     低盐低脂饮食，规范服用降压药物治疗，监测血压水平变化。\n",
       "1780              低盐低脂饮食，加强运动锻炼，规范服用降压药物治疗，监测血压水平变化。\n",
       "1826              低盐低脂饮食，加强运动锻炼，规范服用降压药物治疗，监测血压水平变化。\n",
       "1952    建议：低盐低脂饮食，加强运动锻炼，保持充足睡眠，规范服用降压药物治疗，监测血压水平变化。\n",
       "Name: 0413, dtype: object"
      ]
     },
     "execution_count": 51,
     "metadata": {},
     "output_type": "execute_result"
    }
   ],
   "source": [
    "merged_test_df['0413'][merged_test_df['0413'].str.contains('')==True]"
   ]
  },
  {
   "cell_type": "code",
   "execution_count": 58,
   "metadata": {
    "scrolled": false
   },
   "outputs": [
    {
     "data": {
      "text/plain": [
       "Series([], Name: 0985, dtype: object)"
      ]
     },
     "execution_count": 58,
     "metadata": {},
     "output_type": "execute_result"
    }
   ],
   "source": [
    "merged_train_df['0985'][merged_train_df['0985'].str.contains('肾脏')==True]"
   ]
  },
  {
   "cell_type": "code",
   "execution_count": 174,
   "metadata": {},
   "outputs": [],
   "source": [
    "to_test = 'S39002'"
   ]
  },
  {
   "cell_type": "code",
   "execution_count": 175,
   "metadata": {
    "scrolled": true
   },
   "outputs": [
    {
     "data": {
      "text/plain": [
       "-        6\n",
       "5        5\n",
       "1+       4\n",
       "+-       2\n",
       "阳性(+)    2\n",
       "8        2\n",
       "10       1\n",
       "20       1\n",
       "23       1\n",
       "40       1\n",
       "6        1\n",
       "22       1\n",
       "9        1\n",
       "3        1\n",
       "++       1\n",
       "35       1\n",
       "0-4      1\n",
       "Name: S39002, dtype: int64"
      ]
     },
     "execution_count": 175,
     "metadata": {},
     "output_type": "execute_result"
    }
   ],
   "source": [
    "merged_test_df[to_test].value_counts()"
   ]
  },
  {
   "cell_type": "code",
   "execution_count": 176,
   "metadata": {},
   "outputs": [
    {
     "data": {
      "text/html": [
       "<div>\n",
       "<style scoped>\n",
       "    .dataframe tbody tr th:only-of-type {\n",
       "        vertical-align: middle;\n",
       "    }\n",
       "\n",
       "    .dataframe tbody tr th {\n",
       "        vertical-align: top;\n",
       "    }\n",
       "\n",
       "    .dataframe thead th {\n",
       "        text-align: right;\n",
       "    }\n",
       "</style>\n",
       "<table border=\"1\" class=\"dataframe\">\n",
       "  <thead>\n",
       "    <tr style=\"text-align: right;\">\n",
       "      <th></th>\n",
       "      <th>收缩压</th>\n",
       "      <th>舒张压</th>\n",
       "      <th>血清甘油三酯</th>\n",
       "      <th>血清高密度脂蛋白</th>\n",
       "      <th>血清低密度脂蛋白</th>\n",
       "      <th>vid</th>\n",
       "    </tr>\n",
       "    <tr>\n",
       "      <th>S39002</th>\n",
       "      <th></th>\n",
       "      <th></th>\n",
       "      <th></th>\n",
       "      <th></th>\n",
       "      <th></th>\n",
       "      <th></th>\n",
       "    </tr>\n",
       "  </thead>\n",
       "  <tbody>\n",
       "    <tr>\n",
       "      <th>+-</th>\n",
       "      <td>120.125000</td>\n",
       "      <td>69.062500</td>\n",
       "      <td>1.116875</td>\n",
       "      <td>1.551875</td>\n",
       "      <td>1.796250</td>\n",
       "      <td>16</td>\n",
       "    </tr>\n",
       "    <tr>\n",
       "      <th>-</th>\n",
       "      <td>113.733333</td>\n",
       "      <td>69.666667</td>\n",
       "      <td>1.208667</td>\n",
       "      <td>1.598667</td>\n",
       "      <td>1.906000</td>\n",
       "      <td>15</td>\n",
       "    </tr>\n",
       "    <tr>\n",
       "      <th>0-2</th>\n",
       "      <td>132.846154</td>\n",
       "      <td>78.230769</td>\n",
       "      <td>1.276923</td>\n",
       "      <td>1.743846</td>\n",
       "      <td>1.863077</td>\n",
       "      <td>13</td>\n",
       "    </tr>\n",
       "    <tr>\n",
       "      <th>阳性(+)</th>\n",
       "      <td>127.416667</td>\n",
       "      <td>81.083333</td>\n",
       "      <td>2.398333</td>\n",
       "      <td>1.750000</td>\n",
       "      <td>2.120000</td>\n",
       "      <td>12</td>\n",
       "    </tr>\n",
       "    <tr>\n",
       "      <th>5</th>\n",
       "      <td>131.000000</td>\n",
       "      <td>79.666667</td>\n",
       "      <td>1.347500</td>\n",
       "      <td>2.047500</td>\n",
       "      <td>3.614167</td>\n",
       "      <td>12</td>\n",
       "    </tr>\n",
       "    <tr>\n",
       "      <th>1+</th>\n",
       "      <td>142.222222</td>\n",
       "      <td>81.777778</td>\n",
       "      <td>1.133333</td>\n",
       "      <td>1.771111</td>\n",
       "      <td>1.941111</td>\n",
       "      <td>9</td>\n",
       "    </tr>\n",
       "    <tr>\n",
       "      <th>8</th>\n",
       "      <td>122.250000</td>\n",
       "      <td>73.000000</td>\n",
       "      <td>1.295000</td>\n",
       "      <td>1.953750</td>\n",
       "      <td>2.966250</td>\n",
       "      <td>8</td>\n",
       "    </tr>\n",
       "    <tr>\n",
       "      <th>0-5</th>\n",
       "      <td>130.666667</td>\n",
       "      <td>80.833333</td>\n",
       "      <td>1.316667</td>\n",
       "      <td>1.808333</td>\n",
       "      <td>1.583333</td>\n",
       "      <td>6</td>\n",
       "    </tr>\n",
       "    <tr>\n",
       "      <th>10</th>\n",
       "      <td>129.666667</td>\n",
       "      <td>81.333333</td>\n",
       "      <td>1.085000</td>\n",
       "      <td>2.021667</td>\n",
       "      <td>3.146667</td>\n",
       "      <td>6</td>\n",
       "    </tr>\n",
       "    <tr>\n",
       "      <th>0-3</th>\n",
       "      <td>136.500000</td>\n",
       "      <td>82.166667</td>\n",
       "      <td>1.350000</td>\n",
       "      <td>1.845000</td>\n",
       "      <td>2.006667</td>\n",
       "      <td>6</td>\n",
       "    </tr>\n",
       "    <tr>\n",
       "      <th>15</th>\n",
       "      <td>138.400000</td>\n",
       "      <td>78.000000</td>\n",
       "      <td>2.578000</td>\n",
       "      <td>1.966000</td>\n",
       "      <td>3.264000</td>\n",
       "      <td>5</td>\n",
       "    </tr>\n",
       "    <tr>\n",
       "      <th>0-4</th>\n",
       "      <td>121.750000</td>\n",
       "      <td>79.000000</td>\n",
       "      <td>0.812500</td>\n",
       "      <td>1.545000</td>\n",
       "      <td>1.532500</td>\n",
       "      <td>4</td>\n",
       "    </tr>\n",
       "    <tr>\n",
       "      <th>12</th>\n",
       "      <td>134.500000</td>\n",
       "      <td>77.500000</td>\n",
       "      <td>1.132500</td>\n",
       "      <td>1.855000</td>\n",
       "      <td>3.072500</td>\n",
       "      <td>4</td>\n",
       "    </tr>\n",
       "    <tr>\n",
       "      <th>3</th>\n",
       "      <td>141.000000</td>\n",
       "      <td>81.000000</td>\n",
       "      <td>1.236667</td>\n",
       "      <td>1.863333</td>\n",
       "      <td>3.283333</td>\n",
       "      <td>3</td>\n",
       "    </tr>\n",
       "    <tr>\n",
       "      <th>20</th>\n",
       "      <td>124.500000</td>\n",
       "      <td>79.500000</td>\n",
       "      <td>0.645000</td>\n",
       "      <td>2.090000</td>\n",
       "      <td>3.580000</td>\n",
       "      <td>2</td>\n",
       "    </tr>\n",
       "    <tr>\n",
       "      <th>31</th>\n",
       "      <td>119.500000</td>\n",
       "      <td>69.500000</td>\n",
       "      <td>1.030000</td>\n",
       "      <td>2.160000</td>\n",
       "      <td>3.490000</td>\n",
       "      <td>2</td>\n",
       "    </tr>\n",
       "    <tr>\n",
       "      <th>30</th>\n",
       "      <td>110.000000</td>\n",
       "      <td>67.500000</td>\n",
       "      <td>1.790000</td>\n",
       "      <td>1.805000</td>\n",
       "      <td>3.515000</td>\n",
       "      <td>2</td>\n",
       "    </tr>\n",
       "    <tr>\n",
       "      <th>25</th>\n",
       "      <td>137.000000</td>\n",
       "      <td>85.000000</td>\n",
       "      <td>0.695000</td>\n",
       "      <td>1.940000</td>\n",
       "      <td>2.345000</td>\n",
       "      <td>2</td>\n",
       "    </tr>\n",
       "    <tr>\n",
       "      <th>24</th>\n",
       "      <td>111.500000</td>\n",
       "      <td>68.500000</td>\n",
       "      <td>1.105000</td>\n",
       "      <td>2.205000</td>\n",
       "      <td>2.220000</td>\n",
       "      <td>2</td>\n",
       "    </tr>\n",
       "    <tr>\n",
       "      <th>+</th>\n",
       "      <td>102.000000</td>\n",
       "      <td>68.000000</td>\n",
       "      <td>1.005000</td>\n",
       "      <td>1.515000</td>\n",
       "      <td>1.610000</td>\n",
       "      <td>2</td>\n",
       "    </tr>\n",
       "    <tr>\n",
       "      <th>++</th>\n",
       "      <td>98.500000</td>\n",
       "      <td>59.000000</td>\n",
       "      <td>0.740000</td>\n",
       "      <td>1.570000</td>\n",
       "      <td>1.210000</td>\n",
       "      <td>2</td>\n",
       "    </tr>\n",
       "    <tr>\n",
       "      <th>17</th>\n",
       "      <td>118.500000</td>\n",
       "      <td>66.500000</td>\n",
       "      <td>1.375000</td>\n",
       "      <td>1.800000</td>\n",
       "      <td>2.445000</td>\n",
       "      <td>2</td>\n",
       "    </tr>\n",
       "    <tr>\n",
       "      <th>11</th>\n",
       "      <td>136.500000</td>\n",
       "      <td>80.000000</td>\n",
       "      <td>1.340000</td>\n",
       "      <td>1.965000</td>\n",
       "      <td>2.820000</td>\n",
       "      <td>2</td>\n",
       "    </tr>\n",
       "    <tr>\n",
       "      <th>16</th>\n",
       "      <td>106.500000</td>\n",
       "      <td>61.500000</td>\n",
       "      <td>1.485000</td>\n",
       "      <td>2.065000</td>\n",
       "      <td>2.645000</td>\n",
       "      <td>2</td>\n",
       "    </tr>\n",
       "    <tr>\n",
       "      <th>2+</th>\n",
       "      <td>138.500000</td>\n",
       "      <td>84.500000</td>\n",
       "      <td>1.400000</td>\n",
       "      <td>1.740000</td>\n",
       "      <td>2.025000</td>\n",
       "      <td>2</td>\n",
       "    </tr>\n",
       "    <tr>\n",
       "      <th>2</th>\n",
       "      <td>139.000000</td>\n",
       "      <td>77.000000</td>\n",
       "      <td>1.885000</td>\n",
       "      <td>1.720000</td>\n",
       "      <td>4.075000</td>\n",
       "      <td>2</td>\n",
       "    </tr>\n",
       "    <tr>\n",
       "      <th>27</th>\n",
       "      <td>127.000000</td>\n",
       "      <td>88.000000</td>\n",
       "      <td>1.160000</td>\n",
       "      <td>1.840000</td>\n",
       "      <td>2.920000</td>\n",
       "      <td>1</td>\n",
       "    </tr>\n",
       "    <tr>\n",
       "      <th>18</th>\n",
       "      <td>128.000000</td>\n",
       "      <td>79.000000</td>\n",
       "      <td>1.110000</td>\n",
       "      <td>1.590000</td>\n",
       "      <td>3.130000</td>\n",
       "      <td>1</td>\n",
       "    </tr>\n",
       "    <tr>\n",
       "      <th>13</th>\n",
       "      <td>120.000000</td>\n",
       "      <td>70.000000</td>\n",
       "      <td>0.940000</td>\n",
       "      <td>2.000000</td>\n",
       "      <td>2.260000</td>\n",
       "      <td>1</td>\n",
       "    </tr>\n",
       "    <tr>\n",
       "      <th>32</th>\n",
       "      <td>114.000000</td>\n",
       "      <td>67.000000</td>\n",
       "      <td>0.860000</td>\n",
       "      <td>2.110000</td>\n",
       "      <td>2.740000</td>\n",
       "      <td>1</td>\n",
       "    </tr>\n",
       "    <tr>\n",
       "      <th>22</th>\n",
       "      <td>126.000000</td>\n",
       "      <td>81.000000</td>\n",
       "      <td>0.780000</td>\n",
       "      <td>1.950000</td>\n",
       "      <td>2.290000</td>\n",
       "      <td>1</td>\n",
       "    </tr>\n",
       "    <tr>\n",
       "      <th>39</th>\n",
       "      <td>112.000000</td>\n",
       "      <td>80.000000</td>\n",
       "      <td>0.660000</td>\n",
       "      <td>2.290000</td>\n",
       "      <td>2.040000</td>\n",
       "      <td>1</td>\n",
       "    </tr>\n",
       "    <tr>\n",
       "      <th>4</th>\n",
       "      <td>178.000000</td>\n",
       "      <td>96.000000</td>\n",
       "      <td>1.180000</td>\n",
       "      <td>1.850000</td>\n",
       "      <td>2.770000</td>\n",
       "      <td>1</td>\n",
       "    </tr>\n",
       "    <tr>\n",
       "      <th>45</th>\n",
       "      <td>146.000000</td>\n",
       "      <td>72.000000</td>\n",
       "      <td>1.480000</td>\n",
       "      <td>2.500000</td>\n",
       "      <td>4.800000</td>\n",
       "      <td>1</td>\n",
       "    </tr>\n",
       "    <tr>\n",
       "      <th>6</th>\n",
       "      <td>120.000000</td>\n",
       "      <td>79.000000</td>\n",
       "      <td>3.030000</td>\n",
       "      <td>1.760000</td>\n",
       "      <td>4.590000</td>\n",
       "      <td>1</td>\n",
       "    </tr>\n",
       "    <tr>\n",
       "      <th>7</th>\n",
       "      <td>121.000000</td>\n",
       "      <td>74.000000</td>\n",
       "      <td>0.700000</td>\n",
       "      <td>2.600000</td>\n",
       "      <td>1.730000</td>\n",
       "      <td>1</td>\n",
       "    </tr>\n",
       "    <tr>\n",
       "      <th>0-6</th>\n",
       "      <td>105.000000</td>\n",
       "      <td>65.000000</td>\n",
       "      <td>1.600000</td>\n",
       "      <td>2.000000</td>\n",
       "      <td>5.020000</td>\n",
       "      <td>1</td>\n",
       "    </tr>\n",
       "    <tr>\n",
       "      <th>正常</th>\n",
       "      <td>134.000000</td>\n",
       "      <td>94.000000</td>\n",
       "      <td>1.220000</td>\n",
       "      <td>1.620000</td>\n",
       "      <td>2.160000</td>\n",
       "      <td>1</td>\n",
       "    </tr>\n",
       "    <tr>\n",
       "      <th>35</th>\n",
       "      <td>148.000000</td>\n",
       "      <td>83.000000</td>\n",
       "      <td>0.970000</td>\n",
       "      <td>2.290000</td>\n",
       "      <td>2.990000</td>\n",
       "      <td>1</td>\n",
       "    </tr>\n",
       "  </tbody>\n",
       "</table>\n",
       "</div>"
      ],
      "text/plain": [
       "               收缩压        舒张压    血清甘油三酯  血清高密度脂蛋白  血清低密度脂蛋白  vid\n",
       "S39002                                                          \n",
       "+-      120.125000  69.062500  1.116875  1.551875  1.796250   16\n",
       "-       113.733333  69.666667  1.208667  1.598667  1.906000   15\n",
       "0-2     132.846154  78.230769  1.276923  1.743846  1.863077   13\n",
       "阳性(+)   127.416667  81.083333  2.398333  1.750000  2.120000   12\n",
       "5       131.000000  79.666667  1.347500  2.047500  3.614167   12\n",
       "1+      142.222222  81.777778  1.133333  1.771111  1.941111    9\n",
       "8       122.250000  73.000000  1.295000  1.953750  2.966250    8\n",
       "0-5     130.666667  80.833333  1.316667  1.808333  1.583333    6\n",
       "10      129.666667  81.333333  1.085000  2.021667  3.146667    6\n",
       "0-3     136.500000  82.166667  1.350000  1.845000  2.006667    6\n",
       "15      138.400000  78.000000  2.578000  1.966000  3.264000    5\n",
       "0-4     121.750000  79.000000  0.812500  1.545000  1.532500    4\n",
       "12      134.500000  77.500000  1.132500  1.855000  3.072500    4\n",
       "3       141.000000  81.000000  1.236667  1.863333  3.283333    3\n",
       "20      124.500000  79.500000  0.645000  2.090000  3.580000    2\n",
       "31      119.500000  69.500000  1.030000  2.160000  3.490000    2\n",
       "30      110.000000  67.500000  1.790000  1.805000  3.515000    2\n",
       "25      137.000000  85.000000  0.695000  1.940000  2.345000    2\n",
       "24      111.500000  68.500000  1.105000  2.205000  2.220000    2\n",
       "+       102.000000  68.000000  1.005000  1.515000  1.610000    2\n",
       "++       98.500000  59.000000  0.740000  1.570000  1.210000    2\n",
       "17      118.500000  66.500000  1.375000  1.800000  2.445000    2\n",
       "11      136.500000  80.000000  1.340000  1.965000  2.820000    2\n",
       "16      106.500000  61.500000  1.485000  2.065000  2.645000    2\n",
       "2+      138.500000  84.500000  1.400000  1.740000  2.025000    2\n",
       "2       139.000000  77.000000  1.885000  1.720000  4.075000    2\n",
       "27      127.000000  88.000000  1.160000  1.840000  2.920000    1\n",
       "18      128.000000  79.000000  1.110000  1.590000  3.130000    1\n",
       "13      120.000000  70.000000  0.940000  2.000000  2.260000    1\n",
       "32      114.000000  67.000000  0.860000  2.110000  2.740000    1\n",
       "22      126.000000  81.000000  0.780000  1.950000  2.290000    1\n",
       "39      112.000000  80.000000  0.660000  2.290000  2.040000    1\n",
       "4       178.000000  96.000000  1.180000  1.850000  2.770000    1\n",
       "45      146.000000  72.000000  1.480000  2.500000  4.800000    1\n",
       "6       120.000000  79.000000  3.030000  1.760000  4.590000    1\n",
       "7       121.000000  74.000000  0.700000  2.600000  1.730000    1\n",
       "0-6     105.000000  65.000000  1.600000  2.000000  5.020000    1\n",
       "正常      134.000000  94.000000  1.220000  1.620000  2.160000    1\n",
       "35      148.000000  83.000000  0.970000  2.290000  2.990000    1"
      ]
     },
     "execution_count": 176,
     "metadata": {},
     "output_type": "execute_result"
    }
   ],
   "source": [
    "merged_train_df.groupby(to_test).agg({'收缩压': 'mean', '舒张压': 'mean', '血清甘油三酯': 'mean', '血清高密度脂蛋白': 'mean', '血清低密度脂蛋白': 'mean', 'vid': 'count'}).sort_values(by='vid', ascending=False)"
   ]
  },
  {
   "cell_type": "code",
   "execution_count": null,
   "metadata": {},
   "outputs": [],
   "source": [
    "merged_train_df.describe(include='category')"
   ]
  },
  {
   "cell_type": "code",
   "execution_count": null,
   "metadata": {},
   "outputs": [],
   "source": [
    "merged_train_df['0405'].value_counts().index[0]"
   ]
  },
  {
   "cell_type": "code",
   "execution_count": null,
   "metadata": {},
   "outputs": [],
   "source": [
    "cate_feature = merged_train_df.describe(include='category').columns.values.tolist()\n",
    "most_cate = {}\n",
    "for col in cate_feature:\n",
    "    most_cate[col] = merged_train_df[col].value_counts().index[0]"
   ]
  },
  {
   "cell_type": "code",
   "execution_count": null,
   "metadata": {},
   "outputs": [],
   "source": [
    "most_cate"
   ]
  }
 ],
 "metadata": {
  "kernelspec": {
   "display_name": "Python 3",
   "language": "python",
   "name": "python3"
  },
  "language_info": {
   "codemirror_mode": {
    "name": "ipython",
    "version": 3
   },
   "file_extension": ".py",
   "mimetype": "text/x-python",
   "name": "python",
   "nbconvert_exporter": "python",
   "pygments_lexer": "ipython3",
   "version": "3.6.4"
  }
 },
 "nbformat": 4,
 "nbformat_minor": 2
}
