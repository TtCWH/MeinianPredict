{
 "cells": [
  {
   "cell_type": "code",
   "execution_count": 211,
   "metadata": {
    "collapsed": true
   },
   "outputs": [],
   "source": [
    "import pandas as pd\n",
    "import numpy as np\n",
    "import random as rnd\n",
    "import re\n",
    "\n",
    "import seaborn as sns\n",
    "import matplotlib.pyplot as plt\n",
    "import math\n",
    "%matplotlib inline"
   ]
  },
  {
   "cell_type": "code",
   "execution_count": 2,
   "metadata": {
    "collapsed": true
   },
   "outputs": [],
   "source": [
    "train_df = pd.read_csv('../data_train.csv', low_memory=False, index_col=0)\n",
    "test_df = pd.read_csv('../data_test.csv', low_memory=False, index_col=0)"
   ]
  },
  {
   "cell_type": "code",
   "execution_count": 7,
   "metadata": {
    "collapsed": false
   },
   "outputs": [
    {
     "name": "stdout",
     "output_type": "stream",
     "text": [
      "((38199, 262), (9538, 262))\n",
      "((8, 18), (8, 43))\n"
     ]
    }
   ],
   "source": [
    "print(train_df.shape, test_df.shape)\n",
    "print(train_df.describe().shape, test_df.describe().shape)\n",
    "\n",
    "# unique values of each feature\n",
    "# for i in range(0,10):\n",
    "#     print(i, train_df.iloc[:, i].unique().size)\n",
    "# # print(train_df.iloc[:, i].dtype)"
   ]
  },
  {
   "cell_type": "markdown",
   "metadata": {},
   "source": [
    "### numerical and null propotion of each feature"
   ]
  },
  {
   "cell_type": "code",
   "execution_count": 168,
   "metadata": {
    "collapsed": false,
    "scrolled": false
   },
   "outputs": [
    {
     "name": "stdout",
     "output_type": "stream",
     "text": [
      "0     136.00\n",
      "1     188.00\n",
      "2        176\n",
      "3        137\n",
      "4        144\n",
      "5        162\n",
      "6        NaN\n",
      "7     163.00\n",
      "8        NaN\n",
      "9        NaN\n",
      "10       NaN\n",
      "Name: 313, dtype: object\n"
     ]
    }
   ],
   "source": [
    "def isFloat(aString):\n",
    "    try:\n",
    "        float(aString)\n",
    "        return True\n",
    "    except:\n",
    "        return False\n",
    "\n",
    "isnumerical_df = train_df.applymap(lambda x: isFloat(x))\n",
    "numerical_prop = (isnumerical_df.sum() - train_df.isnull().sum())/(train_df.shape[0] - train_df.isnull().sum())\n",
    "null_prop = train_df.isnull().sum() / train_df.shape[0]"
   ]
  },
  {
   "cell_type": "markdown",
   "metadata": {},
   "source": [
    "### select numerical features by numerical and null propotion"
   ]
  },
  {
   "cell_type": "code",
   "execution_count": 197,
   "metadata": {
    "collapsed": false,
    "scrolled": false
   },
   "outputs": [
    {
     "name": "stdout",
     "output_type": "stream",
     "text": [
      "number of numeric features: 75\n"
     ]
    }
   ],
   "source": [
    "numeric_features = []\n",
    "for i in range(train_df.shape[1]):\n",
    "    if numerical_prop[i] > 0.8 and null_prop[i] < 0.8:\n",
    "        numeric_features.append(i)\n",
    "print('number of numeric features: ' + str(len(numeric_features)))"
   ]
  },
  {
   "cell_type": "markdown",
   "metadata": {},
   "source": [
    "**look at a specific feature**"
   ]
  },
  {
   "cell_type": "code",
   "execution_count": 262,
   "metadata": {
    "collapsed": false,
    "scrolled": false
   },
   "outputs": [
    {
     "name": "stdout",
     "output_type": "stream",
     "text": [
      "featue id: 1117, numerical proportion: 0.99877, nan proportion: 0.31713\n",
      "('unique values:', array([  23.  ,  162.  ,  115.  , ...,  201.4 ,   43.28,   46.09]))\n"
     ]
    }
   ],
   "source": [
    "i = 13\n",
    "print('featue id: %s, numerical proportion: %.5f, nan proportion: %.5f' % \n",
    "      (train_df.columns[numeric_features[i]], numerical_prop[numeric_features[i]], null_prop[numeric_features[i]]))\n",
    "print('unique values:', train_df.iloc[:, numeric_features[i]].unique())"
   ]
  },
  {
   "cell_type": "code",
   "execution_count": 263,
   "metadata": {
    "collapsed": false,
    "scrolled": false
   },
   "outputs": [],
   "source": [
    "def toFloat(aString):\n",
    "    try:\n",
    "        result = float(aString)\n",
    "        return result\n",
    "    except:\n",
    "        gro = re.search(r'(-?\\d+\\.?\\d+)', aString)\n",
    "        if gro:\n",
    "            return float(gro.group(0))\n",
    "        else:\n",
    "            return float('NaN')\n"
   ]
  },
  {
   "cell_type": "code",
   "execution_count": 275,
   "metadata": {
    "collapsed": true
   },
   "outputs": [],
   "source": [
    "# update train/test set\n",
    "train_df_new = train_df\n",
    "for feature_idx in numeric_features[5:]:\n",
    "    train_df_new.iloc[:, feature_idx] = train_df.iloc[:, feature_idx].map(toFloat)\n",
    "    \n",
    "test_df_new = test_df\n",
    "for feature_idx in numeric_features[5:]:\n",
    "    feature_id = train_df.columns[feature_idx]\n",
    "    test_df_new.loc[:, feature_id] = test_df.loc[:, feature_id].map(toFloat)"
   ]
  },
  {
   "cell_type": "code",
   "execution_count": 264,
   "metadata": {
    "collapsed": false
   },
   "outputs": [
    {
     "data": {
      "text/html": [
       "<div>\n",
       "<style>\n",
       "    .dataframe thead tr:only-child th {\n",
       "        text-align: right;\n",
       "    }\n",
       "\n",
       "    .dataframe thead th {\n",
       "        text-align: left;\n",
       "    }\n",
       "\n",
       "    .dataframe tbody tr th {\n",
       "        vertical-align: top;\n",
       "    }\n",
       "</style>\n",
       "<table border=\"1\" class=\"dataframe\">\n",
       "  <thead>\n",
       "    <tr style=\"text-align: right;\">\n",
       "      <th></th>\n",
       "      <th>收缩压</th>\n",
       "      <th>舒张压</th>\n",
       "      <th>血清甘油三酯</th>\n",
       "      <th>血清高密度脂蛋白</th>\n",
       "      <th>血清低密度脂蛋白</th>\n",
       "      <th>0424</th>\n",
       "      <th>100005</th>\n",
       "      <th>100006</th>\n",
       "      <th>100007</th>\n",
       "      <th>10002</th>\n",
       "      <th>...</th>\n",
       "      <th>3193</th>\n",
       "      <th>32</th>\n",
       "      <th>320</th>\n",
       "      <th>33</th>\n",
       "      <th>34</th>\n",
       "      <th>37</th>\n",
       "      <th>38</th>\n",
       "      <th>39</th>\n",
       "      <th>669001</th>\n",
       "      <th>809009</th>\n",
       "    </tr>\n",
       "  </thead>\n",
       "  <tbody>\n",
       "    <tr>\n",
       "      <th>count</th>\n",
       "      <td>38191.000000</td>\n",
       "      <td>38190.000000</td>\n",
       "      <td>38158.000000</td>\n",
       "      <td>38199.000000</td>\n",
       "      <td>38199.000000</td>\n",
       "      <td>30245.000000</td>\n",
       "      <td>12899.000000</td>\n",
       "      <td>17473.000000</td>\n",
       "      <td>15043.000000</td>\n",
       "      <td>20109.000000</td>\n",
       "      <td>...</td>\n",
       "      <td>36572.000000</td>\n",
       "      <td>17553.000000</td>\n",
       "      <td>16938.000000</td>\n",
       "      <td>17409.000000</td>\n",
       "      <td>13957.000000</td>\n",
       "      <td>17712.000000</td>\n",
       "      <td>17712.000000</td>\n",
       "      <td>14101.000000</td>\n",
       "      <td>5289.000000</td>\n",
       "      <td>4858.000000</td>\n",
       "    </tr>\n",
       "    <tr>\n",
       "      <th>mean</th>\n",
       "      <td>126.052918</td>\n",
       "      <td>77.023619</td>\n",
       "      <td>1.612536</td>\n",
       "      <td>1.406683</td>\n",
       "      <td>2.769719</td>\n",
       "      <td>72.601377</td>\n",
       "      <td>18.969464</td>\n",
       "      <td>14.448569</td>\n",
       "      <td>0.687269</td>\n",
       "      <td>9.183461</td>\n",
       "      <td>...</td>\n",
       "      <td>1.020535</td>\n",
       "      <td>3.768755</td>\n",
       "      <td>9.410126</td>\n",
       "      <td>2.076115</td>\n",
       "      <td>0.426795</td>\n",
       "      <td>57.697587</td>\n",
       "      <td>30.840653</td>\n",
       "      <td>7.730919</td>\n",
       "      <td>3.513815</td>\n",
       "      <td>1.620080</td>\n",
       "    </tr>\n",
       "    <tr>\n",
       "      <th>std</th>\n",
       "      <td>19.265082</td>\n",
       "      <td>13.385752</td>\n",
       "      <td>1.335518</td>\n",
       "      <td>0.341184</td>\n",
       "      <td>0.852217</td>\n",
       "      <td>9.175251</td>\n",
       "      <td>12.073726</td>\n",
       "      <td>2.659313</td>\n",
       "      <td>4.187223</td>\n",
       "      <td>4.083423</td>\n",
       "      <td>...</td>\n",
       "      <td>0.005984</td>\n",
       "      <td>1.258986</td>\n",
       "      <td>1.791910</td>\n",
       "      <td>0.737653</td>\n",
       "      <td>0.209125</td>\n",
       "      <td>13.335674</td>\n",
       "      <td>10.749796</td>\n",
       "      <td>6.360497</td>\n",
       "      <td>3.364076</td>\n",
       "      <td>0.803286</td>\n",
       "    </tr>\n",
       "    <tr>\n",
       "      <th>min</th>\n",
       "      <td>69.000000</td>\n",
       "      <td>37.000000</td>\n",
       "      <td>0.100000</td>\n",
       "      <td>0.150000</td>\n",
       "      <td>-1.220000</td>\n",
       "      <td>0.640000</td>\n",
       "      <td>4.000000</td>\n",
       "      <td>0.000000</td>\n",
       "      <td>0.000000</td>\n",
       "      <td>0.140000</td>\n",
       "      <td>...</td>\n",
       "      <td>1.003000</td>\n",
       "      <td>0.430000</td>\n",
       "      <td>0.000000</td>\n",
       "      <td>0.200000</td>\n",
       "      <td>0.090000</td>\n",
       "      <td>0.310000</td>\n",
       "      <td>0.120000</td>\n",
       "      <td>0.010000</td>\n",
       "      <td>0.010000</td>\n",
       "      <td>0.370000</td>\n",
       "    </tr>\n",
       "    <tr>\n",
       "      <th>25%</th>\n",
       "      <td>112.000000</td>\n",
       "      <td>68.000000</td>\n",
       "      <td>0.880000</td>\n",
       "      <td>1.160000</td>\n",
       "      <td>2.180000</td>\n",
       "      <td>66.000000</td>\n",
       "      <td>12.100000</td>\n",
       "      <td>12.300000</td>\n",
       "      <td>0.159000</td>\n",
       "      <td>6.400000</td>\n",
       "      <td>...</td>\n",
       "      <td>1.015000</td>\n",
       "      <td>2.900000</td>\n",
       "      <td>8.400000</td>\n",
       "      <td>1.600000</td>\n",
       "      <td>0.300000</td>\n",
       "      <td>53.500000</td>\n",
       "      <td>26.500000</td>\n",
       "      <td>4.800000</td>\n",
       "      <td>2.020000</td>\n",
       "      <td>1.400000</td>\n",
       "    </tr>\n",
       "    <tr>\n",
       "      <th>50%</th>\n",
       "      <td>124.000000</td>\n",
       "      <td>76.000000</td>\n",
       "      <td>1.270000</td>\n",
       "      <td>1.350000</td>\n",
       "      <td>2.690000</td>\n",
       "      <td>72.000000</td>\n",
       "      <td>13.000000</td>\n",
       "      <td>15.200000</td>\n",
       "      <td>0.201000</td>\n",
       "      <td>8.500000</td>\n",
       "      <td>...</td>\n",
       "      <td>1.020000</td>\n",
       "      <td>3.600000</td>\n",
       "      <td>9.500000</td>\n",
       "      <td>2.000000</td>\n",
       "      <td>0.400000</td>\n",
       "      <td>59.300000</td>\n",
       "      <td>32.100000</td>\n",
       "      <td>6.700000</td>\n",
       "      <td>3.090000</td>\n",
       "      <td>1.480000</td>\n",
       "    </tr>\n",
       "    <tr>\n",
       "      <th>75%</th>\n",
       "      <td>137.000000</td>\n",
       "      <td>85.000000</td>\n",
       "      <td>1.900000</td>\n",
       "      <td>1.600000</td>\n",
       "      <td>3.260000</td>\n",
       "      <td>78.000000</td>\n",
       "      <td>15.000000</td>\n",
       "      <td>16.200000</td>\n",
       "      <td>0.259000</td>\n",
       "      <td>11.130000</td>\n",
       "      <td>...</td>\n",
       "      <td>1.025000</td>\n",
       "      <td>4.400000</td>\n",
       "      <td>10.500000</td>\n",
       "      <td>2.400000</td>\n",
       "      <td>0.500000</td>\n",
       "      <td>65.000000</td>\n",
       "      <td>37.500000</td>\n",
       "      <td>8.700000</td>\n",
       "      <td>4.480000</td>\n",
       "      <td>1.570000</td>\n",
       "    </tr>\n",
       "    <tr>\n",
       "      <th>max</th>\n",
       "      <td>252.000000</td>\n",
       "      <td>974.000000</td>\n",
       "      <td>28.800000</td>\n",
       "      <td>4.780000</td>\n",
       "      <td>11.540000</td>\n",
       "      <td>148.000000</td>\n",
       "      <td>56.800000</td>\n",
       "      <td>32.200000</td>\n",
       "      <td>51.800000</td>\n",
       "      <td>52.100000</td>\n",
       "      <td>...</td>\n",
       "      <td>1.030000</td>\n",
       "      <td>18.300000</td>\n",
       "      <td>20.100000</td>\n",
       "      <td>15.600000</td>\n",
       "      <td>4.100000</td>\n",
       "      <td>92.200000</td>\n",
       "      <td>85.800000</td>\n",
       "      <td>55.800000</td>\n",
       "      <td>132.246000</td>\n",
       "      <td>21.590000</td>\n",
       "    </tr>\n",
       "  </tbody>\n",
       "</table>\n",
       "<p>8 rows × 77 columns</p>\n",
       "</div>"
      ],
      "text/plain": [
       "                收缩压           舒张压        血清甘油三酯      血清高密度脂蛋白      血清低密度脂蛋白  \\\n",
       "count  38191.000000  38190.000000  38158.000000  38199.000000  38199.000000   \n",
       "mean     126.052918     77.023619      1.612536      1.406683      2.769719   \n",
       "std       19.265082     13.385752      1.335518      0.341184      0.852217   \n",
       "min       69.000000     37.000000      0.100000      0.150000     -1.220000   \n",
       "25%      112.000000     68.000000      0.880000      1.160000      2.180000   \n",
       "50%      124.000000     76.000000      1.270000      1.350000      2.690000   \n",
       "75%      137.000000     85.000000      1.900000      1.600000      3.260000   \n",
       "max      252.000000    974.000000     28.800000      4.780000     11.540000   \n",
       "\n",
       "               0424        100005        100006        100007         10002  \\\n",
       "count  30245.000000  12899.000000  17473.000000  15043.000000  20109.000000   \n",
       "mean      72.601377     18.969464     14.448569      0.687269      9.183461   \n",
       "std        9.175251     12.073726      2.659313      4.187223      4.083423   \n",
       "min        0.640000      4.000000      0.000000      0.000000      0.140000   \n",
       "25%       66.000000     12.100000     12.300000      0.159000      6.400000   \n",
       "50%       72.000000     13.000000     15.200000      0.201000      8.500000   \n",
       "75%       78.000000     15.000000     16.200000      0.259000     11.130000   \n",
       "max      148.000000     56.800000     32.200000     51.800000     52.100000   \n",
       "\n",
       "          ...               3193            32           320            33  \\\n",
       "count     ...       36572.000000  17553.000000  16938.000000  17409.000000   \n",
       "mean      ...           1.020535      3.768755      9.410126      2.076115   \n",
       "std       ...           0.005984      1.258986      1.791910      0.737653   \n",
       "min       ...           1.003000      0.430000      0.000000      0.200000   \n",
       "25%       ...           1.015000      2.900000      8.400000      1.600000   \n",
       "50%       ...           1.020000      3.600000      9.500000      2.000000   \n",
       "75%       ...           1.025000      4.400000     10.500000      2.400000   \n",
       "max       ...           1.030000     18.300000     20.100000     15.600000   \n",
       "\n",
       "                 34            37            38            39       669001  \\\n",
       "count  13957.000000  17712.000000  17712.000000  14101.000000  5289.000000   \n",
       "mean       0.426795     57.697587     30.840653      7.730919     3.513815   \n",
       "std        0.209125     13.335674     10.749796      6.360497     3.364076   \n",
       "min        0.090000      0.310000      0.120000      0.010000     0.010000   \n",
       "25%        0.300000     53.500000     26.500000      4.800000     2.020000   \n",
       "50%        0.400000     59.300000     32.100000      6.700000     3.090000   \n",
       "75%        0.500000     65.000000     37.500000      8.700000     4.480000   \n",
       "max        4.100000     92.200000     85.800000     55.800000   132.246000   \n",
       "\n",
       "            809009  \n",
       "count  4858.000000  \n",
       "mean      1.620080  \n",
       "std       0.803286  \n",
       "min       0.370000  \n",
       "25%       1.400000  \n",
       "50%       1.480000  \n",
       "75%       1.570000  \n",
       "max      21.590000  \n",
       "\n",
       "[8 rows x 77 columns]"
      ]
     },
     "execution_count": 264,
     "metadata": {},
     "output_type": "execute_result"
    }
   ],
   "source": [
    "train_df_new.describe()"
   ]
  },
  {
   "cell_type": "markdown",
   "metadata": {},
   "source": [
    "## 简单模型"
   ]
  },
  {
   "cell_type": "code",
   "execution_count": 269,
   "metadata": {
    "collapsed": false,
    "scrolled": false
   },
   "outputs": [
    {
     "data": {
      "text/plain": [
       "((38199, 72), (38199, 5), (9538, 72))"
      ]
     },
     "execution_count": 269,
     "metadata": {},
     "output_type": "execute_result"
    }
   ],
   "source": [
    "from sklearn.linear_model import LogisticRegression\n",
    "from sklearn.svm import SVC, LinearSVC\n",
    "from sklearn.ensemble import RandomForestRegressor\n",
    "from sklearn.tree import DecisionTreeRegressor\n",
    "\n",
    "feature = train_df_new.describe().columns.values.tolist()[5:]\n",
    "label = train_df_new.describe().columns.values.tolist()[0:5]\n",
    "X_train = train_df_new.loc[:,feature].fillna(0)\n",
    "Y_train = train_df_new.loc[:,label].fillna(0)\n",
    "X_test = test_df_new.loc[:,feature].fillna(0)\n",
    "X_train.shape, Y_train.shape, X_test.shape"
   ]
  },
  {
   "cell_type": "markdown",
   "metadata": {},
   "source": [
    "### 决策树"
   ]
  },
  {
   "cell_type": "code",
   "execution_count": 270,
   "metadata": {
    "collapsed": false
   },
   "outputs": [
    {
     "data": {
      "text/plain": [
       "100.0"
      ]
     },
     "execution_count": 270,
     "metadata": {},
     "output_type": "execute_result"
    }
   ],
   "source": [
    "regr = DecisionTreeRegressor()\n",
    "regr.fit(X_train, Y_train)\n",
    "acc_decision_tree = round(regr.score(X_train, Y_train) * 100, 2)\n",
    "acc_decision_tree"
   ]
  },
  {
   "cell_type": "code",
   "execution_count": 271,
   "metadata": {
    "collapsed": false
   },
   "outputs": [
    {
     "data": {
      "text/html": [
       "<div>\n",
       "<style>\n",
       "    .dataframe thead tr:only-child th {\n",
       "        text-align: right;\n",
       "    }\n",
       "\n",
       "    .dataframe thead th {\n",
       "        text-align: left;\n",
       "    }\n",
       "\n",
       "    .dataframe tbody tr th {\n",
       "        vertical-align: top;\n",
       "    }\n",
       "</style>\n",
       "<table border=\"1\" class=\"dataframe\">\n",
       "  <thead>\n",
       "    <tr style=\"text-align: right;\">\n",
       "      <th></th>\n",
       "      <th>收缩压</th>\n",
       "      <th>舒张压</th>\n",
       "      <th>血清甘油三酯</th>\n",
       "      <th>血清高密度脂蛋白</th>\n",
       "      <th>血清低密度脂蛋白</th>\n",
       "    </tr>\n",
       "  </thead>\n",
       "  <tbody>\n",
       "    <tr>\n",
       "      <th>0</th>\n",
       "      <td>130.0</td>\n",
       "      <td>88.0</td>\n",
       "      <td>1.46</td>\n",
       "      <td>1.61</td>\n",
       "      <td>2.30</td>\n",
       "    </tr>\n",
       "    <tr>\n",
       "      <th>1</th>\n",
       "      <td>139.0</td>\n",
       "      <td>83.0</td>\n",
       "      <td>1.09</td>\n",
       "      <td>1.38</td>\n",
       "      <td>1.99</td>\n",
       "    </tr>\n",
       "    <tr>\n",
       "      <th>2</th>\n",
       "      <td>157.0</td>\n",
       "      <td>93.0</td>\n",
       "      <td>2.27</td>\n",
       "      <td>1.39</td>\n",
       "      <td>3.71</td>\n",
       "    </tr>\n",
       "    <tr>\n",
       "      <th>3</th>\n",
       "      <td>106.0</td>\n",
       "      <td>60.0</td>\n",
       "      <td>0.65</td>\n",
       "      <td>1.47</td>\n",
       "      <td>1.98</td>\n",
       "    </tr>\n",
       "    <tr>\n",
       "      <th>4</th>\n",
       "      <td>127.0</td>\n",
       "      <td>88.0</td>\n",
       "      <td>2.10</td>\n",
       "      <td>1.80</td>\n",
       "      <td>3.72</td>\n",
       "    </tr>\n",
       "  </tbody>\n",
       "</table>\n",
       "</div>"
      ],
      "text/plain": [
       "     收缩压   舒张压  血清甘油三酯  血清高密度脂蛋白  血清低密度脂蛋白\n",
       "0  130.0  88.0    1.46      1.61      2.30\n",
       "1  139.0  83.0    1.09      1.38      1.99\n",
       "2  157.0  93.0    2.27      1.39      3.71\n",
       "3  106.0  60.0    0.65      1.47      1.98\n",
       "4  127.0  88.0    2.10      1.80      3.72"
      ]
     },
     "execution_count": 271,
     "metadata": {},
     "output_type": "execute_result"
    }
   ],
   "source": [
    "Y_pred_regr = regr.predict(X_test)\n",
    "Y_pred_regr_df = pd.DataFrame(Y_pred_regr, columns=label)\n",
    "Y_pred_regr_df.head()"
   ]
  },
  {
   "cell_type": "markdown",
   "metadata": {},
   "source": [
    "### 随机森林"
   ]
  },
  {
   "cell_type": "code",
   "execution_count": 274,
   "metadata": {
    "collapsed": false
   },
   "outputs": [
    {
     "data": {
      "text/plain": [
       "89.17"
      ]
     },
     "execution_count": 274,
     "metadata": {},
     "output_type": "execute_result"
    }
   ],
   "source": [
    "from sklearn.cross_validation import train_test_split\n",
    "X_train1, X_test1, Y_train1, Y_test1 = train_test_split(X_train, Y_train, test_size=0.33, random_state=42)\n",
    "\n",
    "random_forest = RandomForestRegressor(n_estimators=100)\n",
    "random_forest.fit(X_train1, Y_train1)\n",
    "Y_pred = random_forest.predict(X_test1)\n",
    "random_forest.score(X_train1, Y_train1)\n",
    "acc_random_forest = round(random_forest.score(X_train1, Y_train1) * 100, 2)\n",
    "acc_random_forest"
   ]
  }
 ],
 "metadata": {
  "kernelspec": {
   "display_name": "Python 2",
   "language": "python",
   "name": "python2"
  },
  "language_info": {
   "codemirror_mode": {
    "name": "ipython",
    "version": 2
   },
   "file_extension": ".py",
   "mimetype": "text/x-python",
   "name": "python",
   "nbconvert_exporter": "python",
   "pygments_lexer": "ipython2",
   "version": "2.7.12"
  }
 },
 "nbformat": 4,
 "nbformat_minor": 0
}
