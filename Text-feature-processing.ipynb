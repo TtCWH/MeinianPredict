{
 "cells": [
  {
   "cell_type": "code",
   "execution_count": null,
   "metadata": {},
   "outputs": [],
   "source": [
    "import re\n",
    "list = {'0101':'不均|欠均','0102':'未发现明显异常','0113':'均匀','0114':'强回声|回声附着','0115':'肠气','0116':'脾脏回声','0117':'强回声',\n",
    "        '0118':'强回声','0119':'欠佳|差','0120':'强回声|欠均匀','0121':'低回声区|无回声区|欠均匀','0124':'无回声区|异常光团',\n",
    "        '0409':'未','0434':'无','0503':'未|通常','0509':'光滑|未','0912':'未见异常','0954':'未','1001':'正常','1402':'未|正常',\n",
    "        '3601':'正常','4001':'正常|良好'}\n",
    "for col_id in list:\n",
    "    for index,item in enumerate(data[col_id]):\n",
    "        item = str(item)\n",
    "        m = re.search(list[col_id],item)\n",
    "        if item=='nan':\n",
    "            data[col_id][index] = 0\n",
    "        else:\n",
    "            if m:\n",
    "                data[col_id][index] = 1\n",
    "            else:\n",
    "                data[col_id][index] = -1"
   ]
  }
 ],
 "metadata": {
  "kernelspec": {
   "display_name": "Python 3",
   "language": "python",
   "name": "python3"
  },
  "language_info": {
   "codemirror_mode": {
    "name": "ipython",
    "version": 3
   },
   "file_extension": ".py",
   "mimetype": "text/x-python",
   "name": "python",
   "nbconvert_exporter": "python",
   "pygments_lexer": "ipython3",
   "version": "3.6.4"
  }
 },
 "nbformat": 4,
 "nbformat_minor": 2
}
